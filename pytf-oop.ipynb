{
 "cells": [
  {
   "cell_type": "markdown",
   "metadata": {},
   "source": [
    "<div style=\"padding:20px; \n",
    "            height: 30px;\n",
    "            width: 500px;\n",
    "            color:#36FF00;\n",
    "            margin:10px;\n",
    "            font-size:110%;\n",
    "            display:fill;\n",
    "            border-radius:10px;\n",
    "            border-style: solid;\n",
    "            border-color: #36FF00;\n",
    "            background-color:#000000;\n",
    "            overflow:hidden;\n",
    "            font-weight:500\">Object Oriented Programming - Obje Odaklı Programlama\n",
    "            </div>"
   ]
  },
  {
   "cell_type": "markdown",
   "metadata": {},
   "source": [
    "<code style=\"background:red;color:white\">\n",
    "Class\n",
    "</code>"
   ]
  },
  {
   "cell_type": "code",
   "execution_count": 1,
   "metadata": {},
   "outputs": [],
   "source": [
    "liste =  list()"
   ]
  },
  {
   "cell_type": "code",
   "execution_count": 2,
   "metadata": {},
   "outputs": [
    {
     "data": {
      "text/plain": [
       "list"
      ]
     },
     "execution_count": 2,
     "metadata": {},
     "output_type": "execute_result"
    }
   ],
   "source": [
    "type(liste)"
   ]
  },
  {
   "cell_type": "code",
   "execution_count": 3,
   "metadata": {},
   "outputs": [
    {
     "data": {
      "text/plain": [
       "type"
      ]
     },
     "execution_count": 3,
     "metadata": {},
     "output_type": "execute_result"
    }
   ],
   "source": [
    "type(list)"
   ]
  },
  {
   "cell_type": "markdown",
   "metadata": {},
   "source": [
    "<code style=\"background:yellow;color:red\">Instance & Attributes</code>"
   ]
  },
  {
   "cell_type": "code",
   "execution_count": 4,
   "metadata": {},
   "outputs": [],
   "source": [
    "class SuperHero:\n",
    "    def __init__(self):  #initializing - bu sınıftan bir obje instance'ı oluşturulduğunda hemen çağrılıyor, self parametresi burada sınıfın kendisine ve burada oluşturulan objenin kendisine referans veriyor\n",
    "        print(\"init çağrıldı\")\n",
    "        "
   ]
  },
  {
   "cell_type": "code",
   "execution_count": 5,
   "metadata": {},
   "outputs": [
    {
     "name": "stdout",
     "output_type": "stream",
     "text": [
      "init çağrıldı\n"
     ]
    }
   ],
   "source": [
    "superman = SuperHero()"
   ]
  },
  {
   "cell_type": "code",
   "execution_count": 6,
   "metadata": {},
   "outputs": [
    {
     "name": "stdout",
     "output_type": "stream",
     "text": [
      "init çağrıldı\n"
     ]
    }
   ],
   "source": [
    "batman = SuperHero()"
   ]
  },
  {
   "cell_type": "code",
   "execution_count": 63,
   "metadata": {},
   "outputs": [],
   "source": [
    "class SuperHero:\n",
    "\n",
    "    super_power = \"gorunmezlik\"  #class attribute sınıfın bütün instanslarına , oluşturacağımız bütün süperkahramanlarda görünmezlik süpergücü olur\n",
    "\n",
    "\n",
    "    def __init__(self, name, age, job):  \n",
    "\n",
    "\n",
    "        \"\"\"Yeni bir süper kahraman oluşturur.\"\"\"\n",
    "\n",
    "        print(\"init çağrıldı\")\n",
    "\n",
    "        self.name = name   #sağ taraf verilen argümanları , sol taraf sınıf attributelarını temsil eder\n",
    "        self.age = age\n",
    "        self.job = job\n",
    "\n",
    "    def greeting(self):\n",
    "\n",
    "        \"\"\"Süper kahramanın tanıtım mesajını yazdırır.\"\"\"\n",
    "\n",
    "        \n",
    "        print(f\"I am {self.name.split()[-1]}, {self.name}! I am a {self.age}  year old  {self.job}.\")"
   ]
  },
  {
   "cell_type": "code",
   "execution_count": 64,
   "metadata": {},
   "outputs": [
    {
     "name": "stdout",
     "output_type": "stream",
     "text": [
      "init çağrıldı\n"
     ]
    }
   ],
   "source": [
    "superman = SuperHero(\"Superman\", 33, \"News Reporter\")"
   ]
  },
  {
   "cell_type": "code",
   "execution_count": 65,
   "metadata": {},
   "outputs": [],
   "source": [
    "superman.name = \"Clark Kent\""
   ]
  },
  {
   "cell_type": "code",
   "execution_count": 66,
   "metadata": {},
   "outputs": [
    {
     "data": {
      "text/plain": [
       "'Clark Kent'"
      ]
     },
     "execution_count": 66,
     "metadata": {},
     "output_type": "execute_result"
    }
   ],
   "source": [
    "superman.name"
   ]
  },
  {
   "cell_type": "markdown",
   "metadata": {},
   "source": [
    "<code style=\"background:yellow;color:red\">Methods</code>"
   ]
  },
  {
   "cell_type": "code",
   "execution_count": 67,
   "metadata": {},
   "outputs": [
    {
     "data": {
      "text/plain": [
       "'gorunmezlik'"
      ]
     },
     "execution_count": 67,
     "metadata": {},
     "output_type": "execute_result"
    }
   ],
   "source": [
    "superman.super_power"
   ]
  },
  {
   "cell_type": "code",
   "execution_count": 68,
   "metadata": {},
   "outputs": [],
   "source": [
    "superman.super_power = \"uçabilir\" #sonradan da class attr'yi değiştirebiliriz."
   ]
  },
  {
   "cell_type": "code",
   "execution_count": 69,
   "metadata": {},
   "outputs": [
    {
     "data": {
      "text/plain": [
       "'uçabilir'"
      ]
     },
     "execution_count": 69,
     "metadata": {},
     "output_type": "execute_result"
    }
   ],
   "source": [
    "superman.super_power"
   ]
  },
  {
   "cell_type": "code",
   "execution_count": 70,
   "metadata": {},
   "outputs": [
    {
     "name": "stdout",
     "output_type": "stream",
     "text": [
      "I am Kent, Clark Kent! I am a 33  year old  News Reporter.\n"
     ]
    }
   ],
   "source": [
    "superman.greeting()"
   ]
  },
  {
   "cell_type": "code",
   "execution_count": 79,
   "metadata": {},
   "outputs": [
    {
     "name": "stdout",
     "output_type": "stream",
     "text": [
      "init çağrıldı\n",
      "I am Kent, Clark Kent! I am a 30 year old journalist.\n",
      "init çağrıldı\n",
      "I am Zeus! I am a 10000 year old god.\n",
      "init çağrıldı\n",
      "I am an unnamed hero! I am a 25 year old nobody.\n",
      "init çağrıldı\n",
      "I am an unnamed hero! I am a 25 year old nobody.\n",
      "init çağrıldı\n",
      "Invalid name format. Name must be a string.\n"
     ]
    }
   ],
   "source": [
    "class SuperHero:\n",
    "    \n",
    "    super_power = \"gorunmezlik\"  #class attribute sınıfın bütün instanslarına , oluşturacağımız bütün süperkahramanlarda görünmezlik süpergücü olur\n",
    "\n",
    "\n",
    "    def __init__(self, name, age, job):  \n",
    "\n",
    "\n",
    "        \"\"\"Yeni bir süper kahraman oluşturur.\"\"\"\n",
    "\n",
    "        print(\"init çağrıldı\")\n",
    "\n",
    "        self.name = name   #sağ taraf verilen argümanları , sol taraf sınıf attributelarını temsil eder\n",
    "        self.age = age\n",
    "        self.job = job\n",
    "\n",
    "    def greeting(self):\n",
    "        \"\"\"\n",
    "        Prints a self-introduction message for the superhero.\n",
    "        Handles edge cases for names gracefully.\n",
    "        \"\"\"\n",
    "        if not self.name:  # Handles None or empty name\n",
    "            print(f\"I am an unnamed hero! I am a {self.age} year old {self.job}.\")\n",
    "            return\n",
    "\n",
    "        if isinstance(self.name, str):\n",
    "            # Determine the last name or use the full name if unsplittable\n",
    "            if \" \" in self.name:\n",
    "                lname = self.name.split()[-1]\n",
    "                print(f\"I am {lname}, {self.name}! I am a {self.age} year old {self.job}.\")\n",
    "            else:\n",
    "                print(f\"I am {self.name}! I am a {self.age} year old {self.job}.\")\n",
    "        else:\n",
    "            print(\"Invalid name format. Name must be a string.\")\n",
    "\n",
    "# Examples\n",
    "superman = SuperHero(\"Clark Kent\", 30, \"journalist\")\n",
    "superman.greeting()\n",
    "\n",
    "zeus = SuperHero(\"Zeus\", 10000, \"god\")  # Single name case\n",
    "zeus.greeting()\n",
    "\n",
    "no_name = SuperHero(None, 25, \"nobody\")  # No name provided\n",
    "no_name.greeting()\n",
    "\n",
    "empty_name = SuperHero(\"\", 25, \"nobody\")  # Empty name case\n",
    "empty_name.greeting()\n",
    "\n",
    "invalid_name = SuperHero(12345, 40, \"engineer\")  # Invalid name type\n",
    "invalid_name.greeting()\n",
    "\n",
    "\n",
    "\n",
    "\n",
    "\n",
    "\n",
    "\n",
    "\n",
    "\n",
    "\n",
    "\n",
    "\n"
   ]
  },
  {
   "cell_type": "code",
   "execution_count": 20,
   "metadata": {},
   "outputs": [],
   "source": [
    "class Doggy:\n",
    "\n",
    "    age_multiplier = 7\n",
    "\n",
    "    def __init__(self, age= 3):\n",
    "        self.age = age\n",
    "        self.doggy_to_human_years = age * self.age_multiplier\n",
    "\n",
    "    def doggy_years(self):\n",
    "        return self.age * self.age_multiplier #veya Doggy.age_multiplier kullanılabilir."
   ]
  },
  {
   "cell_type": "code",
   "execution_count": 21,
   "metadata": {},
   "outputs": [],
   "source": [
    "bocush = Doggy(10)"
   ]
  },
  {
   "cell_type": "code",
   "execution_count": 22,
   "metadata": {},
   "outputs": [
    {
     "data": {
      "text/plain": [
       "<__main__.Doggy at 0x70b2784b3e00>"
      ]
     },
     "execution_count": 22,
     "metadata": {},
     "output_type": "execute_result"
    }
   ],
   "source": [
    "bocush"
   ]
  },
  {
   "cell_type": "code",
   "execution_count": 23,
   "metadata": {},
   "outputs": [
    {
     "data": {
      "text/plain": [
       "10"
      ]
     },
     "execution_count": 23,
     "metadata": {},
     "output_type": "execute_result"
    }
   ],
   "source": [
    "bocush.age"
   ]
  },
  {
   "cell_type": "code",
   "execution_count": 24,
   "metadata": {},
   "outputs": [],
   "source": [
    "buzz = Doggy()"
   ]
  },
  {
   "cell_type": "code",
   "execution_count": 25,
   "metadata": {},
   "outputs": [
    {
     "data": {
      "text/plain": [
       "70"
      ]
     },
     "execution_count": 25,
     "metadata": {},
     "output_type": "execute_result"
    }
   ],
   "source": [
    "bocush.doggy_years()"
   ]
  },
  {
   "cell_type": "code",
   "execution_count": 26,
   "metadata": {},
   "outputs": [
    {
     "data": {
      "text/plain": [
       "70"
      ]
     },
     "execution_count": 26,
     "metadata": {},
     "output_type": "execute_result"
    }
   ],
   "source": [
    "bocush.doggy_to_human_years"
   ]
  },
  {
   "cell_type": "markdown",
   "metadata": {},
   "source": [
    "<code style=\"background:yellow;color:red\">Inheritance</code>"
   ]
  },
  {
   "cell_type": "code",
   "execution_count": 16,
   "metadata": {},
   "outputs": [],
   "source": [
    "class Hayvan:\n",
    "\n",
    "    def __init__(self):\n",
    "        print(\"Hayvan sınıfı init çağrıldı!\")\n",
    "\n",
    "\n",
    "    def method1(self):\n",
    "        print(\"Hayvan sınıfı  method1 çağrıldı\")\n",
    "\n",
    "    def method2(self):\n",
    "        print(\"Hayvan sınıfı method2 çağrıldı\")\n",
    "\n",
    "\n",
    "class Kedi(Hayvan):\n",
    "\n",
    "    def __init__(self):\n",
    "        Hayvan.__init__(self)\n",
    "        print(\"Kedi sınıfı init çağrıldı\")\n",
    "\n",
    "    def meow(self):\n",
    "        print(\"Meowww!\")\n",
    "\n",
    "    #override\n",
    "    def method1(self):\n",
    "        print(\"Kedi sınıfında method1 çağrıldı\")"
   ]
  },
  {
   "cell_type": "code",
   "execution_count": 17,
   "metadata": {},
   "outputs": [
    {
     "name": "stdout",
     "output_type": "stream",
     "text": [
      "Hayvan sınıfı init çağrıldı!\n"
     ]
    }
   ],
   "source": [
    "animal = Hayvan()"
   ]
  },
  {
   "cell_type": "code",
   "execution_count": 18,
   "metadata": {},
   "outputs": [
    {
     "name": "stdout",
     "output_type": "stream",
     "text": [
      "Hayvan sınıfı  method1 çağrıldı\n"
     ]
    }
   ],
   "source": [
    "animal.method1()"
   ]
  },
  {
   "cell_type": "code",
   "execution_count": 19,
   "metadata": {},
   "outputs": [
    {
     "name": "stdout",
     "output_type": "stream",
     "text": [
      "Hayvan sınıfı method2 çağrıldı\n"
     ]
    }
   ],
   "source": [
    "animal.method2()"
   ]
  },
  {
   "cell_type": "code",
   "execution_count": 20,
   "metadata": {},
   "outputs": [
    {
     "name": "stdout",
     "output_type": "stream",
     "text": [
      "Hayvan sınıfı init çağrıldı!\n",
      "Kedi sınıfı init çağrıldı\n"
     ]
    }
   ],
   "source": [
    "garfield = Kedi()"
   ]
  },
  {
   "cell_type": "code",
   "execution_count": 21,
   "metadata": {},
   "outputs": [
    {
     "name": "stdout",
     "output_type": "stream",
     "text": [
      "Kedi sınıfında method1 çağrıldı\n"
     ]
    }
   ],
   "source": [
    "garfield.method1()"
   ]
  },
  {
   "cell_type": "code",
   "execution_count": 22,
   "metadata": {},
   "outputs": [
    {
     "name": "stdout",
     "output_type": "stream",
     "text": [
      "Meowww!\n"
     ]
    }
   ],
   "source": [
    "garfield.meow()"
   ]
  },
  {
   "cell_type": "markdown",
   "metadata": {},
   "source": [
    "<code style=\"background:yellow;color:red\">POLYMORPHISM</code>\n",
    "\n",
    "Aynı isimde metotların veya fonsiyonların farklı amaca hizmet edebilmesi"
   ]
  },
  {
   "cell_type": "code",
   "execution_count": 23,
   "metadata": {},
   "outputs": [],
   "source": [
    "class Apple:\n",
    "\n",
    "    def __init__(self, name):\n",
    "        self.name = name\n",
    "\n",
    "    def info(self):\n",
    "        return self.name + \" 100 kaloridir\"\n",
    "    \n",
    "\n",
    "class Banana:\n",
    "\n",
    "    def __init__(self, name):\n",
    "        self.name = name\n",
    "\n",
    "    def info(self):\n",
    "        return self.name + \" 120 kaloridir\""
   ]
  },
  {
   "cell_type": "code",
   "execution_count": 24,
   "metadata": {},
   "outputs": [],
   "source": [
    "elma = Apple(\"elma\")"
   ]
  },
  {
   "cell_type": "code",
   "execution_count": 25,
   "metadata": {},
   "outputs": [
    {
     "data": {
      "text/plain": [
       "'elma 100 kaloridir'"
      ]
     },
     "execution_count": 25,
     "metadata": {},
     "output_type": "execute_result"
    }
   ],
   "source": [
    "elma.info()"
   ]
  },
  {
   "cell_type": "code",
   "execution_count": 26,
   "metadata": {},
   "outputs": [],
   "source": [
    "muz = Banana(\"muz\")"
   ]
  },
  {
   "cell_type": "code",
   "execution_count": 27,
   "metadata": {},
   "outputs": [
    {
     "data": {
      "text/plain": [
       "'muz 120 kaloridir'"
      ]
     },
     "execution_count": 27,
     "metadata": {},
     "output_type": "execute_result"
    }
   ],
   "source": [
    "muz.info()"
   ]
  },
  {
   "cell_type": "code",
   "execution_count": 28,
   "metadata": {},
   "outputs": [],
   "source": [
    "fruit_list = [elma, muz]"
   ]
  },
  {
   "cell_type": "code",
   "execution_count": 29,
   "metadata": {},
   "outputs": [
    {
     "name": "stdout",
     "output_type": "stream",
     "text": [
      "elma 100 kaloridir\n",
      "muz 120 kaloridir\n"
     ]
    }
   ],
   "source": [
    "for fruit in fruit_list:\n",
    "    print(fruit.info())"
   ]
  },
  {
   "cell_type": "code",
   "execution_count": 30,
   "metadata": {},
   "outputs": [],
   "source": [
    "def get_info(fruit):\n",
    "    print(fruit.info())"
   ]
  },
  {
   "cell_type": "code",
   "execution_count": 31,
   "metadata": {},
   "outputs": [
    {
     "name": "stdout",
     "output_type": "stream",
     "text": [
      "muz 120 kaloridir\n"
     ]
    }
   ],
   "source": [
    "get_info(muz)"
   ]
  },
  {
   "cell_type": "code",
   "execution_count": 32,
   "metadata": {},
   "outputs": [
    {
     "name": "stdout",
     "output_type": "stream",
     "text": [
      "elma 100 kaloridir\n"
     ]
    }
   ],
   "source": [
    "get_info(elma)"
   ]
  },
  {
   "cell_type": "markdown",
   "metadata": {},
   "source": [
    "<code style=\"background:yellow;color:red\">Özel Metotlar</code>"
   ]
  },
  {
   "cell_type": "code",
   "execution_count": 10,
   "metadata": {},
   "outputs": [],
   "source": [
    "class Meyve:\n",
    "\n",
    "    def __init__(self, isim, kalori):\n",
    "        self.isim = isim\n",
    "        self.kalori = kalori\n",
    "\n",
    "    def __str__(self):\n",
    "        return f\"{self.isim} şu kadar kaloriye sahiptir: {self.kalori}\"\n",
    "    \n",
    "    def __len__(self):\n",
    "        return self.kalori"
   ]
  },
  {
   "cell_type": "code",
   "execution_count": 11,
   "metadata": {},
   "outputs": [],
   "source": [
    "muz = Meyve(\"Muz\", 150)"
   ]
  },
  {
   "cell_type": "code",
   "execution_count": 12,
   "metadata": {},
   "outputs": [
    {
     "data": {
      "text/plain": [
       "150"
      ]
     },
     "execution_count": 12,
     "metadata": {},
     "output_type": "execute_result"
    }
   ],
   "source": [
    "muz.kalori"
   ]
  },
  {
   "cell_type": "code",
   "execution_count": 13,
   "metadata": {},
   "outputs": [
    {
     "name": "stdout",
     "output_type": "stream",
     "text": [
      "Muz şu kadar kaloriye sahiptir: 150\n"
     ]
    }
   ],
   "source": [
    "print(muz)"
   ]
  },
  {
   "cell_type": "code",
   "execution_count": 14,
   "metadata": {},
   "outputs": [
    {
     "data": {
      "text/plain": [
       "150"
      ]
     },
     "execution_count": 14,
     "metadata": {},
     "output_type": "execute_result"
    }
   ],
   "source": [
    "len(muz)"
   ]
  },
  {
   "cell_type": "code",
   "execution_count": 15,
   "metadata": {},
   "outputs": [],
   "source": [
    "elma = Meyve(\"Elma\", 100)"
   ]
  },
  {
   "cell_type": "code",
   "execution_count": 16,
   "metadata": {},
   "outputs": [
    {
     "data": {
      "text/plain": [
       "100"
      ]
     },
     "execution_count": 16,
     "metadata": {},
     "output_type": "execute_result"
    }
   ],
   "source": [
    "len(elma)"
   ]
  },
  {
   "cell_type": "code",
   "execution_count": 17,
   "metadata": {},
   "outputs": [
    {
     "name": "stdout",
     "output_type": "stream",
     "text": [
      "Elma şu kadar kaloriye sahiptir: 100\n"
     ]
    }
   ],
   "source": [
    "print(elma)"
   ]
  },
  {
   "cell_type": "markdown",
   "metadata": {},
   "source": [
    "<code style=\"background:yellow;color:red\">Exceptions - Hataları Ele Almak</code>"
   ]
  },
  {
   "cell_type": "code",
   "execution_count": 18,
   "metadata": {},
   "outputs": [],
   "source": [
    "def add(x, y):\n",
    "    return x + y"
   ]
  },
  {
   "cell_type": "code",
   "execution_count": 21,
   "metadata": {},
   "outputs": [],
   "source": [
    "user1 = int(input(\"İlk numarayı giriniz: \"))\n",
    "user2 = int(input(\"İkinci numarayı giriniz: \"))\n"
   ]
  },
  {
   "cell_type": "code",
   "execution_count": 22,
   "metadata": {},
   "outputs": [
    {
     "data": {
      "text/plain": [
       "30"
      ]
     },
     "execution_count": 22,
     "metadata": {},
     "output_type": "execute_result"
    }
   ],
   "source": [
    "add(user1,user2)"
   ]
  },
  {
   "cell_type": "code",
   "execution_count": 25,
   "metadata": {},
   "outputs": [
    {
     "name": "stdout",
     "output_type": "stream",
     "text": [
      "Teşekkürler\n",
      "finally çağrıldı\n"
     ]
    }
   ],
   "source": [
    "#try, except , else, finally\n",
    "done =False\n",
    "while not done:\n",
    "\n",
    "    try:\n",
    "        take_int = int(input(\"Bir tam sayı giriniz: \"))\n",
    "\n",
    "    except:\n",
    "        print(\"Lütfen gerçek bir tam sayı giriniz\")\n",
    "        continue\n",
    "\n",
    "    else:\n",
    "        print(\"Teşekkürler\")\n",
    "        done = True  #veya break kullanabiliriz!\n",
    "        # break\n",
    "\n",
    "    finally:\n",
    "        \n",
    "        print(\"finally çağrıldı\")\n",
    "\n",
    "    "
   ]
  },
  {
   "cell_type": "markdown",
   "metadata": {},
   "source": [
    "<code style=\"background:yellow;color:red\">Libraries - Kütüphaneler</code>"
   ]
  },
  {
   "cell_type": "code",
   "execution_count": 29,
   "metadata": {},
   "outputs": [],
   "source": [
    "import numpy as np\n",
    "import matplotlib.pyplot as matplot\n"
   ]
  },
  {
   "cell_type": "code",
   "execution_count": 30,
   "metadata": {},
   "outputs": [
    {
     "data": {
      "text/plain": [
       "4008.4137569609425"
      ]
     },
     "execution_count": 30,
     "metadata": {},
     "output_type": "execute_result"
    }
   ],
   "source": [
    "wages = np.random.normal(4000,500,1000) #4000 lira civarında 500 lira standart sapmalı 1000 tane veri oluştur bana\n",
    "\n",
    "np.mean(wages)"
   ]
  },
  {
   "cell_type": "code",
   "execution_count": 31,
   "metadata": {},
   "outputs": [
    {
     "data": {
      "image/png": "[encoded data removed]",
      "text/plain": [
       "<Figure size 640x480 with 1 Axes>"
      ]
     },
     "metadata": {},
     "output_type": "display_data"
    }
   ],
   "source": [
    "matplot.hist(wages, 50)\n",
    "matplot.show()"
   ]
  },
  {
   "cell_type": "code",
   "execution_count": 4,
   "metadata": {},
   "outputs": [
    {
     "name": "stdout",
     "output_type": "stream",
     "text": [
      "toygarmodule içerisinden sample_fn() fonksiyonu çağrılmıştır.\n"
     ]
    }
   ],
   "source": [
    "from toygarmodule import sample_fn"
   ]
  },
  {
   "cell_type": "code",
   "execution_count": 5,
   "metadata": {},
   "outputs": [
    {
     "name": "stdout",
     "output_type": "stream",
     "text": [
      "toygarmodule içerisinden sample_fn() fonksiyonu çağrılmıştır.\n"
     ]
    }
   ],
   "source": [
    "sample_fn()"
   ]
  },
  {
   "cell_type": "code",
   "execution_count": 7,
   "metadata": {},
   "outputs": [
    {
     "ename": "SyntaxError",
     "evalue": "invalid syntax (1968287354.py, line 1)",
     "output_type": "error",
     "traceback": [
      "\u001b[0;36m  Cell \u001b[0;32mIn[7], line 1\u001b[0;36m\u001b[0m\n\u001b[0;31m    from ./Onemli_package import anapaketmodul\u001b[0m\n\u001b[0m          ^\u001b[0m\n\u001b[0;31mSyntaxError\u001b[0m\u001b[0;31m:\u001b[0m invalid syntax\n"
     ]
    }
   ],
   "source": [
    "from /media/data/CS/python/VeriBilimiPythonTensorFlow/Onemli_package import anapaketmodul\n",
    "from Onemli_package.Sub_package import altpaketmodul"
   ]
  },
  {
   "cell_type": "code",
   "execution_count": null,
   "metadata": {},
   "outputs": [],
   "source": []
  }
 ],
 "metadata": {
  "kernelspec": {
   "display_name": "base",
   "language": "python",
   "name": "python3"
  },
  "language_info": {
   "codemirror_mode": {
    "name": "ipython",
    "version": 3
   },
   "file_extension": ".py",
   "mimetype": "text/x-python",
   "name": "python",
   "nbconvert_exporter": "python",
   "pygments_lexer": "ipython3",
   "version": "3.12.9"
  }
 },
 "nbformat": 4,
 "nbformat_minor": 2
}
