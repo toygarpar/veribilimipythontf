{
 "cells": [
  {
   "cell_type": "markdown",
   "metadata": {},
   "source": [
    "<div style=\"padding:20px; \n",
    "            height: 30px;\n",
    "            width: 500px;\n",
    "            color:#36FF00;\n",
    "            margin:10px;\n",
    "            font-size:110%;\n",
    "            display:fill;\n",
    "            border-radius:10px;\n",
    "            border-style: solid;\n",
    "            border-color: #36FF00;\n",
    "            background-color:#000000;\n",
    "            overflow:hidden;\n",
    "            font-weight:500\">\n",
    "            Pandas\n",
    "            </div>\n",
    "\n",
    "Pandas Python Package\n",
    "\n",
    "<code style=\"background:yellow;color:red\">Panel Data Frame</code>\n",
    "\n",
    "<code style=\"background:red;color:white\">\n",
    "Let's Go!\n",
    "</code>"
   ]
  },
  {
   "cell_type": "code",
   "execution_count": 1,
   "metadata": {},
   "outputs": [],
   "source": [
    "import numpy as np\n",
    "import pandas as pd"
   ]
  },
  {
   "cell_type": "markdown",
   "metadata": {},
   "source": [
    "<code style=\"background:yellow;color:red\">Pandas Series</code>"
   ]
  },
  {
   "cell_type": "code",
   "execution_count": 2,
   "metadata": {},
   "outputs": [],
   "source": [
    "mydict = {\"Toygar\": 50, \"Böçüş\": 10, \"Taco\": 17, \"Buzz\": 23, \"Çıtır\": 16}"
   ]
  },
  {
   "cell_type": "code",
   "execution_count": 3,
   "metadata": {},
   "outputs": [
    {
     "data": {
      "text/plain": [
       "Toygar    50\n",
       "Böçüş     10\n",
       "Taco      17\n",
       "Buzz      23\n",
       "Çıtır     16\n",
       "dtype: int64"
      ]
     },
     "execution_count": 3,
     "metadata": {},
     "output_type": "execute_result"
    }
   ],
   "source": [
    "#nasıl series oluşturulur\n",
    "\n",
    "pd.Series(mydict)"
   ]
  },
  {
   "cell_type": "code",
   "execution_count": 4,
   "metadata": {},
   "outputs": [
    {
     "data": {
      "text/plain": [
       "pandas.core.series.Series"
      ]
     },
     "execution_count": 4,
     "metadata": {},
     "output_type": "execute_result"
    }
   ],
   "source": [
    "type(pd.Series(mydict))"
   ]
  },
  {
   "cell_type": "code",
   "execution_count": 5,
   "metadata": {},
   "outputs": [],
   "source": [
    "names = [\"Toygar\", \"Böçüş\", \"Taco\", \"Buzz\", \"Çıtır\"]\n",
    "\n",
    "ages = [50, 10, 17, 23, 16]"
   ]
  },
  {
   "cell_type": "code",
   "execution_count": 6,
   "metadata": {},
   "outputs": [
    {
     "data": {
      "text/plain": [
       "0    50\n",
       "1    10\n",
       "2    17\n",
       "3    23\n",
       "4    16\n",
       "dtype: int64"
      ]
     },
     "execution_count": 6,
     "metadata": {},
     "output_type": "execute_result"
    }
   ],
   "source": [
    "pd.Series(ages)"
   ]
  },
  {
   "cell_type": "code",
   "execution_count": 7,
   "metadata": {},
   "outputs": [
    {
     "data": {
      "text/plain": [
       "Toygar    50\n",
       "Böçüş     10\n",
       "Taco      17\n",
       "Buzz      23\n",
       "Çıtır     16\n",
       "dtype: int64"
      ]
     },
     "execution_count": 7,
     "metadata": {},
     "output_type": "execute_result"
    }
   ],
   "source": [
    "pd.Series(ages, names) #index olarak names listesini kullandık"
   ]
  },
  {
   "cell_type": "code",
   "execution_count": 8,
   "metadata": {},
   "outputs": [
    {
     "data": {
      "text/plain": [
       "Toygar    50\n",
       "Böçüş     10\n",
       "Taco      17\n",
       "Buzz      23\n",
       "Çıtır     16\n",
       "dtype: int64"
      ]
     },
     "execution_count": 8,
     "metadata": {},
     "output_type": "execute_result"
    }
   ],
   "source": [
    "pd.Series(data=ages, index=names) #yukarıdaki ile aynı işlemi yaptık, parametreleri isimlendirerek verdik , pd.Series(data=, index=)"
   ]
  },
  {
   "cell_type": "code",
   "execution_count": 9,
   "metadata": {},
   "outputs": [
    {
     "data": {
      "text/plain": [
       "array([50, 10, 17, 23, 16])"
      ]
     },
     "execution_count": 9,
     "metadata": {},
     "output_type": "execute_result"
    }
   ],
   "source": [
    "npdizi = np.array(ages)\n",
    "npdizi"
   ]
  },
  {
   "cell_type": "code",
   "execution_count": 10,
   "metadata": {},
   "outputs": [
    {
     "data": {
      "text/plain": [
       "0    50\n",
       "1    10\n",
       "2    17\n",
       "3    23\n",
       "4    16\n",
       "dtype: int64"
      ]
     },
     "execution_count": 10,
     "metadata": {},
     "output_type": "execute_result"
    }
   ],
   "source": [
    "pd.Series(npdizi)"
   ]
  },
  {
   "cell_type": "code",
   "execution_count": 11,
   "metadata": {},
   "outputs": [
    {
     "data": {
      "text/plain": [
       "Toygar    50\n",
       "Böçüş     10\n",
       "Taco      17\n",
       "Buzz      23\n",
       "Çıtır     16\n",
       "dtype: int64"
      ]
     },
     "execution_count": 11,
     "metadata": {},
     "output_type": "execute_result"
    }
   ],
   "source": [
    "pd.Series(npdizi, names)"
   ]
  },
  {
   "cell_type": "code",
   "execution_count": 12,
   "metadata": {},
   "outputs": [
    {
     "data": {
      "text/plain": [
       "0       Zehra Günes\n",
       "1    Marina Markova\n",
       "2     Kiera Van Ryk\n",
       "dtype: object"
      ]
     },
     "execution_count": 12,
     "metadata": {},
     "output_type": "execute_result"
    }
   ],
   "source": [
    "pd.Series([\"Zehra Günes\", \"Marina Markova\", \"Kiera Van Ryk\"])"
   ]
  },
  {
   "cell_type": "code",
   "execution_count": 13,
   "metadata": {},
   "outputs": [
    {
     "data": {
      "text/plain": [
       "1       Zehra Günes\n",
       "2    Marina Markova\n",
       "3     Kiera Van Ryk\n",
       "dtype: object"
      ]
     },
     "execution_count": 13,
     "metadata": {},
     "output_type": "execute_result"
    }
   ],
   "source": [
    "pd.Series([\"Zehra Günes\", \"Marina Markova\", \"Kiera Van Ryk\"], [1,2,3])  #index olarak sayılar vererek biz belirledik"
   ]
  },
  {
   "cell_type": "code",
   "execution_count": 14,
   "metadata": {},
   "outputs": [
    {
     "data": {
      "text/plain": [
       "Zehra Günes       10\n",
       "Marina Markova     5\n",
       "Kiera Van Ryk      1\n",
       "dtype: int64"
      ]
     },
     "execution_count": 14,
     "metadata": {},
     "output_type": "execute_result"
    }
   ],
   "source": [
    "standing =  pd.Series([10,5,1],[\"Zehra Günes\", \"Marina Markova\", \"Kiera Van Ryk\"])\n",
    "\n",
    "standing"
   ]
  },
  {
   "cell_type": "code",
   "execution_count": 15,
   "metadata": {},
   "outputs": [
    {
     "data": {
      "text/plain": [
       "Zehra Günes       20\n",
       "Marina Markova    10\n",
       "Kiera Van Ryk      8\n",
       "dtype: int64"
      ]
     },
     "execution_count": 15,
     "metadata": {},
     "output_type": "execute_result"
    }
   ],
   "source": [
    "standing2 = pd.Series([20,10,8],[\"Zehra Günes\", \"Marina Markova\", \"Kiera Van Ryk\"])\n",
    "standing2"
   ]
  },
  {
   "cell_type": "code",
   "execution_count": 16,
   "metadata": {},
   "outputs": [
    {
     "data": {
      "text/plain": [
       "20"
      ]
     },
     "execution_count": 16,
     "metadata": {},
     "output_type": "execute_result"
    }
   ],
   "source": [
    "standing2[\"Zehra Günes\"]"
   ]
  },
  {
   "cell_type": "code",
   "execution_count": 17,
   "metadata": {},
   "outputs": [
    {
     "data": {
      "text/plain": [
       "Zehra Günes       30\n",
       "Marina Markova    15\n",
       "Kiera Van Ryk      9\n",
       "dtype: int64"
      ]
     },
     "execution_count": 17,
     "metadata": {},
     "output_type": "execute_result"
    }
   ],
   "source": [
    "final_standings = standing + standing2\n",
    "\n",
    "final_standings"
   ]
  },
  {
   "cell_type": "code",
   "execution_count": 18,
   "metadata": {},
   "outputs": [
    {
     "data": {
      "text/plain": [
       "a    30\n",
       "b    40\n",
       "c    50\n",
       "d    60\n",
       "dtype: int64"
      ]
     },
     "execution_count": 18,
     "metadata": {},
     "output_type": "execute_result"
    }
   ],
   "source": [
    "seri = pd.Series([30,40,50,60], [\"a\",\"b\", \"c\", \"d\"])\n",
    "seri"
   ]
  },
  {
   "cell_type": "code",
   "execution_count": 19,
   "metadata": {},
   "outputs": [
    {
     "data": {
      "text/plain": [
       "a    60\n",
       "c    70\n",
       "f    80\n",
       "g    90\n",
       "dtype: int64"
      ]
     },
     "execution_count": 19,
     "metadata": {},
     "output_type": "execute_result"
    }
   ],
   "source": [
    "seri2 = pd.Series([60,70,80,90],[\"a\", \"c\",\"f\",\"g\"])\n",
    "seri2"
   ]
  },
  {
   "cell_type": "code",
   "execution_count": 20,
   "metadata": {},
   "outputs": [
    {
     "data": {
      "text/plain": [
       "a     90.0\n",
       "b      NaN\n",
       "c    120.0\n",
       "d      NaN\n",
       "f      NaN\n",
       "g      NaN\n",
       "dtype: float64"
      ]
     },
     "execution_count": 20,
     "metadata": {},
     "output_type": "execute_result"
    }
   ],
   "source": [
    "seri + seri2  #sadece a ve c olanlar toplandı, diğerleri NaN oldu, a ve c kesiştiği için toplandı, diğerleri toplanamadı"
   ]
  },
  {
   "cell_type": "markdown",
   "metadata": {},
   "source": [
    "<code style=\"background:yellow;color:red\">Data Frame</code>"
   ]
  },
  {
   "cell_type": "code",
   "execution_count": 21,
   "metadata": {},
   "outputs": [],
   "source": [
    "import numpy as np\n",
    "import pandas as pd"
   ]
  },
  {
   "cell_type": "code",
   "execution_count": 22,
   "metadata": {},
   "outputs": [
    {
     "data": {
      "text/plain": [
       "<function RandomState.randn>"
      ]
     },
     "execution_count": 22,
     "metadata": {},
     "output_type": "execute_result"
    }
   ],
   "source": [
    "np.random.randn"
   ]
  },
  {
   "cell_type": "code",
   "execution_count": 23,
   "metadata": {},
   "outputs": [
    {
     "data": {
      "text/plain": [
       "array([[-3.87517077e-04,  5.00694768e-01, -7.22379930e-01],\n",
       "       [ 7.05139341e-01, -4.45267838e-01, -2.47937978e-01],\n",
       "       [-6.73068058e-01, -1.65120543e-02, -1.18859451e+00],\n",
       "       [ 9.23517407e-01,  1.88333386e-01,  8.65369971e-01]])"
      ]
     },
     "execution_count": 23,
     "metadata": {},
     "output_type": "execute_result"
    }
   ],
   "source": [
    "data = np.random.randn(4,3)\n",
    "data"
   ]
  },
  {
   "cell_type": "code",
   "execution_count": 24,
   "metadata": {},
   "outputs": [
    {
     "data": {
      "text/html": [
       "<div>\n",
       "<style scoped>\n",
       "    .dataframe tbody tr th:only-of-type {\n",
       "        vertical-align: middle;\n",
       "    }\n",
       "\n",
       "    .dataframe tbody tr th {\n",
       "        vertical-align: top;\n",
       "    }\n",
       "\n",
       "    .dataframe thead th {\n",
       "        text-align: right;\n",
       "    }\n",
       "</style>\n",
       "<table border=\"1\" class=\"dataframe\">\n",
       "  <thead>\n",
       "    <tr style=\"text-align: right;\">\n",
       "      <th></th>\n",
       "      <th>0</th>\n",
       "      <th>1</th>\n",
       "      <th>2</th>\n",
       "    </tr>\n",
       "  </thead>\n",
       "  <tbody>\n",
       "    <tr>\n",
       "      <th>0</th>\n",
       "      <td>-0.000388</td>\n",
       "      <td>0.500695</td>\n",
       "      <td>-0.722380</td>\n",
       "    </tr>\n",
       "    <tr>\n",
       "      <th>1</th>\n",
       "      <td>0.705139</td>\n",
       "      <td>-0.445268</td>\n",
       "      <td>-0.247938</td>\n",
       "    </tr>\n",
       "    <tr>\n",
       "      <th>2</th>\n",
       "      <td>-0.673068</td>\n",
       "      <td>-0.016512</td>\n",
       "      <td>-1.188595</td>\n",
       "    </tr>\n",
       "    <tr>\n",
       "      <th>3</th>\n",
       "      <td>0.923517</td>\n",
       "      <td>0.188333</td>\n",
       "      <td>0.865370</td>\n",
       "    </tr>\n",
       "  </tbody>\n",
       "</table>\n",
       "</div>"
      ],
      "text/plain": [
       "          0         1         2\n",
       "0 -0.000388  0.500695 -0.722380\n",
       "1  0.705139 -0.445268 -0.247938\n",
       "2 -0.673068 -0.016512 -1.188595\n",
       "3  0.923517  0.188333  0.865370"
      ]
     },
     "execution_count": 24,
     "metadata": {},
     "output_type": "execute_result"
    }
   ],
   "source": [
    "df = pd.DataFrame(data)\n",
    "df"
   ]
  },
  {
   "cell_type": "code",
   "execution_count": null,
   "metadata": {},
   "outputs": [
    {
     "data": {
      "text/plain": [
       "0   -0.000388\n",
       "1    0.705139\n",
       "2   -0.673068\n",
       "3    0.923517\n",
       "Name: 0, dtype: float64"
      ]
     },
     "execution_count": 25,
     "metadata": {},
     "output_type": "execute_result"
    }
   ],
   "source": [
    "df[0]"
   ]
  },
  {
   "cell_type": "code",
   "execution_count": 26,
   "metadata": {},
   "outputs": [
    {
     "data": {
      "text/plain": [
       "pandas.core.series.Series"
      ]
     },
     "execution_count": 26,
     "metadata": {},
     "output_type": "execute_result"
    }
   ],
   "source": [
    "type(df[0])"
   ]
  },
  {
   "cell_type": "code",
   "execution_count": 27,
   "metadata": {},
   "outputs": [
    {
     "data": {
      "text/html": [
       "<div>\n",
       "<style scoped>\n",
       "    .dataframe tbody tr th:only-of-type {\n",
       "        vertical-align: middle;\n",
       "    }\n",
       "\n",
       "    .dataframe tbody tr th {\n",
       "        vertical-align: top;\n",
       "    }\n",
       "\n",
       "    .dataframe thead th {\n",
       "        text-align: right;\n",
       "    }\n",
       "</style>\n",
       "<table border=\"1\" class=\"dataframe\">\n",
       "  <thead>\n",
       "    <tr style=\"text-align: right;\">\n",
       "      <th></th>\n",
       "      <th>Maaş</th>\n",
       "      <th>Yaş</th>\n",
       "      <th>Çalışma Saati</th>\n",
       "    </tr>\n",
       "  </thead>\n",
       "  <tbody>\n",
       "    <tr>\n",
       "      <th>Toygar</th>\n",
       "      <td>-0.000388</td>\n",
       "      <td>0.500695</td>\n",
       "      <td>-0.722380</td>\n",
       "    </tr>\n",
       "    <tr>\n",
       "      <th>Böçüş</th>\n",
       "      <td>0.705139</td>\n",
       "      <td>-0.445268</td>\n",
       "      <td>-0.247938</td>\n",
       "    </tr>\n",
       "    <tr>\n",
       "      <th>Taco</th>\n",
       "      <td>-0.673068</td>\n",
       "      <td>-0.016512</td>\n",
       "      <td>-1.188595</td>\n",
       "    </tr>\n",
       "    <tr>\n",
       "      <th>Buzz</th>\n",
       "      <td>0.923517</td>\n",
       "      <td>0.188333</td>\n",
       "      <td>0.865370</td>\n",
       "    </tr>\n",
       "  </tbody>\n",
       "</table>\n",
       "</div>"
      ],
      "text/plain": [
       "            Maaş       Yaş  Çalışma Saati\n",
       "Toygar -0.000388  0.500695      -0.722380\n",
       "Böçüş   0.705139 -0.445268      -0.247938\n",
       "Taco   -0.673068 -0.016512      -1.188595\n",
       "Buzz    0.923517  0.188333       0.865370"
      ]
     },
     "execution_count": 27,
     "metadata": {},
     "output_type": "execute_result"
    }
   ],
   "source": [
    "df= pd.DataFrame(data, index=[\"Toygar\", \"Böçüş\", \"Taco\", \"Buzz\"], columns=[\"Maaş\",\"Yaş\",\"Çalışma Saati\"])\n",
    "df"
   ]
  },
  {
   "cell_type": "code",
   "execution_count": 28,
   "metadata": {},
   "outputs": [
    {
     "data": {
      "text/plain": [
       "Toygar    0.500695\n",
       "Böçüş    -0.445268\n",
       "Taco     -0.016512\n",
       "Buzz      0.188333\n",
       "Name: Yaş, dtype: float64"
      ]
     },
     "execution_count": 28,
     "metadata": {},
     "output_type": "execute_result"
    }
   ],
   "source": [
    "df[\"Yaş\"]"
   ]
  },
  {
   "cell_type": "code",
   "execution_count": 29,
   "metadata": {},
   "outputs": [
    {
     "data": {
      "text/plain": [
       "Toygar   -0.722380\n",
       "Böçüş    -0.247938\n",
       "Taco     -1.188595\n",
       "Buzz      0.865370\n",
       "Name: Çalışma Saati, dtype: float64"
      ]
     },
     "execution_count": 29,
     "metadata": {},
     "output_type": "execute_result"
    }
   ],
   "source": [
    "df[\"Çalışma Saati\"]"
   ]
  },
  {
   "cell_type": "code",
   "execution_count": 30,
   "metadata": {},
   "outputs": [
    {
     "data": {
      "text/html": [
       "<div>\n",
       "<style scoped>\n",
       "    .dataframe tbody tr th:only-of-type {\n",
       "        vertical-align: middle;\n",
       "    }\n",
       "\n",
       "    .dataframe tbody tr th {\n",
       "        vertical-align: top;\n",
       "    }\n",
       "\n",
       "    .dataframe thead th {\n",
       "        text-align: right;\n",
       "    }\n",
       "</style>\n",
       "<table border=\"1\" class=\"dataframe\">\n",
       "  <thead>\n",
       "    <tr style=\"text-align: right;\">\n",
       "      <th></th>\n",
       "      <th>Maaş</th>\n",
       "      <th>Yaş</th>\n",
       "    </tr>\n",
       "  </thead>\n",
       "  <tbody>\n",
       "    <tr>\n",
       "      <th>Toygar</th>\n",
       "      <td>-0.000388</td>\n",
       "      <td>0.500695</td>\n",
       "    </tr>\n",
       "    <tr>\n",
       "      <th>Böçüş</th>\n",
       "      <td>0.705139</td>\n",
       "      <td>-0.445268</td>\n",
       "    </tr>\n",
       "    <tr>\n",
       "      <th>Taco</th>\n",
       "      <td>-0.673068</td>\n",
       "      <td>-0.016512</td>\n",
       "    </tr>\n",
       "    <tr>\n",
       "      <th>Buzz</th>\n",
       "      <td>0.923517</td>\n",
       "      <td>0.188333</td>\n",
       "    </tr>\n",
       "  </tbody>\n",
       "</table>\n",
       "</div>"
      ],
      "text/plain": [
       "            Maaş       Yaş\n",
       "Toygar -0.000388  0.500695\n",
       "Böçüş   0.705139 -0.445268\n",
       "Taco   -0.673068 -0.016512\n",
       "Buzz    0.923517  0.188333"
      ]
     },
     "execution_count": 30,
     "metadata": {},
     "output_type": "execute_result"
    }
   ],
   "source": [
    "df[[\"Maaş\",\"Yaş\"]]"
   ]
  },
  {
   "cell_type": "code",
   "execution_count": 31,
   "metadata": {},
   "outputs": [
    {
     "data": {
      "text/plain": [
       "Maaş            -0.000388\n",
       "Yaş              0.500695\n",
       "Çalışma Saati   -0.722380\n",
       "Name: Toygar, dtype: float64"
      ]
     },
     "execution_count": 31,
     "metadata": {},
     "output_type": "execute_result"
    }
   ],
   "source": [
    "#belirli bir rowu seçmek için\n",
    "\n",
    "df.loc[\"Toygar\"]"
   ]
  },
  {
   "cell_type": "code",
   "execution_count": 32,
   "metadata": {},
   "outputs": [
    {
     "data": {
      "text/plain": [
       "Maaş             0.923517\n",
       "Yaş              0.188333\n",
       "Çalışma Saati    0.865370\n",
       "Name: Buzz, dtype: float64"
      ]
     },
     "execution_count": 32,
     "metadata": {},
     "output_type": "execute_result"
    }
   ],
   "source": [
    "df.loc[\"Buzz\"]"
   ]
  },
  {
   "cell_type": "code",
   "execution_count": 33,
   "metadata": {},
   "outputs": [
    {
     "data": {
      "text/plain": [
       "Maaş            -0.000388\n",
       "Yaş              0.500695\n",
       "Çalışma Saati   -0.722380\n",
       "Name: Toygar, dtype: float64"
      ]
     },
     "execution_count": 33,
     "metadata": {},
     "output_type": "execute_result"
    }
   ],
   "source": [
    "df.iloc[0]  #index numarası ile row seçmek için"
   ]
  },
  {
   "cell_type": "code",
   "execution_count": 34,
   "metadata": {},
   "outputs": [
    {
     "data": {
      "text/plain": [
       "Maaş             0.923517\n",
       "Yaş              0.188333\n",
       "Çalışma Saati    0.865370\n",
       "Name: Buzz, dtype: float64"
      ]
     },
     "execution_count": 34,
     "metadata": {},
     "output_type": "execute_result"
    }
   ],
   "source": [
    "df.iloc[3]"
   ]
  },
  {
   "cell_type": "code",
   "execution_count": 35,
   "metadata": {},
   "outputs": [
    {
     "data": {
      "text/html": [
       "<div>\n",
       "<style scoped>\n",
       "    .dataframe tbody tr th:only-of-type {\n",
       "        vertical-align: middle;\n",
       "    }\n",
       "\n",
       "    .dataframe tbody tr th {\n",
       "        vertical-align: top;\n",
       "    }\n",
       "\n",
       "    .dataframe thead th {\n",
       "        text-align: right;\n",
       "    }\n",
       "</style>\n",
       "<table border=\"1\" class=\"dataframe\">\n",
       "  <thead>\n",
       "    <tr style=\"text-align: right;\">\n",
       "      <th></th>\n",
       "      <th>Maaş</th>\n",
       "      <th>Yaş</th>\n",
       "      <th>Çalışma Saati</th>\n",
       "    </tr>\n",
       "  </thead>\n",
       "  <tbody>\n",
       "    <tr>\n",
       "      <th>Toygar</th>\n",
       "      <td>-0.000388</td>\n",
       "      <td>0.500695</td>\n",
       "      <td>-0.722380</td>\n",
       "    </tr>\n",
       "    <tr>\n",
       "      <th>Böçüş</th>\n",
       "      <td>0.705139</td>\n",
       "      <td>-0.445268</td>\n",
       "      <td>-0.247938</td>\n",
       "    </tr>\n",
       "    <tr>\n",
       "      <th>Taco</th>\n",
       "      <td>-0.673068</td>\n",
       "      <td>-0.016512</td>\n",
       "      <td>-1.188595</td>\n",
       "    </tr>\n",
       "    <tr>\n",
       "      <th>Buzz</th>\n",
       "      <td>0.923517</td>\n",
       "      <td>0.188333</td>\n",
       "      <td>0.865370</td>\n",
       "    </tr>\n",
       "  </tbody>\n",
       "</table>\n",
       "</div>"
      ],
      "text/plain": [
       "            Maaş       Yaş  Çalışma Saati\n",
       "Toygar -0.000388  0.500695      -0.722380\n",
       "Böçüş   0.705139 -0.445268      -0.247938\n",
       "Taco   -0.673068 -0.016512      -1.188595\n",
       "Buzz    0.923517  0.188333       0.865370"
      ]
     },
     "execution_count": 35,
     "metadata": {},
     "output_type": "execute_result"
    }
   ],
   "source": [
    "df"
   ]
  },
  {
   "cell_type": "code",
   "execution_count": 36,
   "metadata": {},
   "outputs": [
    {
     "data": {
      "text/html": [
       "<div>\n",
       "<style scoped>\n",
       "    .dataframe tbody tr th:only-of-type {\n",
       "        vertical-align: middle;\n",
       "    }\n",
       "\n",
       "    .dataframe tbody tr th {\n",
       "        vertical-align: top;\n",
       "    }\n",
       "\n",
       "    .dataframe thead th {\n",
       "        text-align: right;\n",
       "    }\n",
       "</style>\n",
       "<table border=\"1\" class=\"dataframe\">\n",
       "  <thead>\n",
       "    <tr style=\"text-align: right;\">\n",
       "      <th></th>\n",
       "      <th>Maaş</th>\n",
       "      <th>Yaş</th>\n",
       "      <th>Çalışma Saati</th>\n",
       "      <th>Emeklilik Yaşı</th>\n",
       "    </tr>\n",
       "  </thead>\n",
       "  <tbody>\n",
       "    <tr>\n",
       "      <th>Toygar</th>\n",
       "      <td>-0.000388</td>\n",
       "      <td>0.500695</td>\n",
       "      <td>-0.722380</td>\n",
       "      <td>1.001390</td>\n",
       "    </tr>\n",
       "    <tr>\n",
       "      <th>Böçüş</th>\n",
       "      <td>0.705139</td>\n",
       "      <td>-0.445268</td>\n",
       "      <td>-0.247938</td>\n",
       "      <td>-0.890536</td>\n",
       "    </tr>\n",
       "    <tr>\n",
       "      <th>Taco</th>\n",
       "      <td>-0.673068</td>\n",
       "      <td>-0.016512</td>\n",
       "      <td>-1.188595</td>\n",
       "      <td>-0.033024</td>\n",
       "    </tr>\n",
       "    <tr>\n",
       "      <th>Buzz</th>\n",
       "      <td>0.923517</td>\n",
       "      <td>0.188333</td>\n",
       "      <td>0.865370</td>\n",
       "      <td>0.376667</td>\n",
       "    </tr>\n",
       "  </tbody>\n",
       "</table>\n",
       "</div>"
      ],
      "text/plain": [
       "            Maaş       Yaş  Çalışma Saati  Emeklilik Yaşı\n",
       "Toygar -0.000388  0.500695      -0.722380        1.001390\n",
       "Böçüş   0.705139 -0.445268      -0.247938       -0.890536\n",
       "Taco   -0.673068 -0.016512      -1.188595       -0.033024\n",
       "Buzz    0.923517  0.188333       0.865370        0.376667"
      ]
     },
     "execution_count": 36,
     "metadata": {},
     "output_type": "execute_result"
    }
   ],
   "source": [
    "df[\"Emeklilik Yaşı\"] = df[\"Yaş\"] + df[\"Yaş\"] #yeni bir column ekledik\n",
    "df"
   ]
  },
  {
   "cell_type": "code",
   "execution_count": 37,
   "metadata": {},
   "outputs": [
    {
     "data": {
      "text/html": [
       "<div>\n",
       "<style scoped>\n",
       "    .dataframe tbody tr th:only-of-type {\n",
       "        vertical-align: middle;\n",
       "    }\n",
       "\n",
       "    .dataframe tbody tr th {\n",
       "        vertical-align: top;\n",
       "    }\n",
       "\n",
       "    .dataframe thead th {\n",
       "        text-align: right;\n",
       "    }\n",
       "</style>\n",
       "<table border=\"1\" class=\"dataframe\">\n",
       "  <thead>\n",
       "    <tr style=\"text-align: right;\">\n",
       "      <th></th>\n",
       "      <th>Maaş</th>\n",
       "      <th>Yaş</th>\n",
       "      <th>Çalışma Saati</th>\n",
       "    </tr>\n",
       "  </thead>\n",
       "  <tbody>\n",
       "    <tr>\n",
       "      <th>Toygar</th>\n",
       "      <td>-0.000388</td>\n",
       "      <td>0.500695</td>\n",
       "      <td>-0.722380</td>\n",
       "    </tr>\n",
       "    <tr>\n",
       "      <th>Böçüş</th>\n",
       "      <td>0.705139</td>\n",
       "      <td>-0.445268</td>\n",
       "      <td>-0.247938</td>\n",
       "    </tr>\n",
       "    <tr>\n",
       "      <th>Taco</th>\n",
       "      <td>-0.673068</td>\n",
       "      <td>-0.016512</td>\n",
       "      <td>-1.188595</td>\n",
       "    </tr>\n",
       "    <tr>\n",
       "      <th>Buzz</th>\n",
       "      <td>0.923517</td>\n",
       "      <td>0.188333</td>\n",
       "      <td>0.865370</td>\n",
       "    </tr>\n",
       "  </tbody>\n",
       "</table>\n",
       "</div>"
      ],
      "text/plain": [
       "            Maaş       Yaş  Çalışma Saati\n",
       "Toygar -0.000388  0.500695      -0.722380\n",
       "Böçüş   0.705139 -0.445268      -0.247938\n",
       "Taco   -0.673068 -0.016512      -1.188595\n",
       "Buzz    0.923517  0.188333       0.865370"
      ]
     },
     "execution_count": 37,
     "metadata": {},
     "output_type": "execute_result"
    }
   ],
   "source": [
    "df.drop(\"Emeklilik Yaşı\", axis=1) #column silmek için, y axis=1 column demek, x axis=0 row demek, default olarak axis=0"
   ]
  },
  {
   "cell_type": "code",
   "execution_count": 38,
   "metadata": {},
   "outputs": [
    {
     "data": {
      "text/html": [
       "<div>\n",
       "<style scoped>\n",
       "    .dataframe tbody tr th:only-of-type {\n",
       "        vertical-align: middle;\n",
       "    }\n",
       "\n",
       "    .dataframe tbody tr th {\n",
       "        vertical-align: top;\n",
       "    }\n",
       "\n",
       "    .dataframe thead th {\n",
       "        text-align: right;\n",
       "    }\n",
       "</style>\n",
       "<table border=\"1\" class=\"dataframe\">\n",
       "  <thead>\n",
       "    <tr style=\"text-align: right;\">\n",
       "      <th></th>\n",
       "      <th>Maaş</th>\n",
       "      <th>Yaş</th>\n",
       "      <th>Çalışma Saati</th>\n",
       "      <th>Emeklilik Yaşı</th>\n",
       "    </tr>\n",
       "  </thead>\n",
       "  <tbody>\n",
       "    <tr>\n",
       "      <th>Toygar</th>\n",
       "      <td>-0.000388</td>\n",
       "      <td>0.500695</td>\n",
       "      <td>-0.722380</td>\n",
       "      <td>1.001390</td>\n",
       "    </tr>\n",
       "    <tr>\n",
       "      <th>Taco</th>\n",
       "      <td>-0.673068</td>\n",
       "      <td>-0.016512</td>\n",
       "      <td>-1.188595</td>\n",
       "      <td>-0.033024</td>\n",
       "    </tr>\n",
       "    <tr>\n",
       "      <th>Buzz</th>\n",
       "      <td>0.923517</td>\n",
       "      <td>0.188333</td>\n",
       "      <td>0.865370</td>\n",
       "      <td>0.376667</td>\n",
       "    </tr>\n",
       "  </tbody>\n",
       "</table>\n",
       "</div>"
      ],
      "text/plain": [
       "            Maaş       Yaş  Çalışma Saati  Emeklilik Yaşı\n",
       "Toygar -0.000388  0.500695      -0.722380        1.001390\n",
       "Taco   -0.673068 -0.016512      -1.188595       -0.033024\n",
       "Buzz    0.923517  0.188333       0.865370        0.376667"
      ]
     },
     "execution_count": 38,
     "metadata": {},
     "output_type": "execute_result"
    }
   ],
   "source": [
    "df.drop(\"Böçüş\", axis=0) #row silmek için\n"
   ]
  },
  {
   "cell_type": "code",
   "execution_count": 39,
   "metadata": {},
   "outputs": [
    {
     "data": {
      "text/html": [
       "<div>\n",
       "<style scoped>\n",
       "    .dataframe tbody tr th:only-of-type {\n",
       "        vertical-align: middle;\n",
       "    }\n",
       "\n",
       "    .dataframe tbody tr th {\n",
       "        vertical-align: top;\n",
       "    }\n",
       "\n",
       "    .dataframe thead th {\n",
       "        text-align: right;\n",
       "    }\n",
       "</style>\n",
       "<table border=\"1\" class=\"dataframe\">\n",
       "  <thead>\n",
       "    <tr style=\"text-align: right;\">\n",
       "      <th></th>\n",
       "      <th>Maaş</th>\n",
       "      <th>Yaş</th>\n",
       "      <th>Çalışma Saati</th>\n",
       "      <th>Emeklilik Yaşı</th>\n",
       "    </tr>\n",
       "  </thead>\n",
       "  <tbody>\n",
       "    <tr>\n",
       "      <th>Toygar</th>\n",
       "      <td>-0.000388</td>\n",
       "      <td>0.500695</td>\n",
       "      <td>-0.722380</td>\n",
       "      <td>1.001390</td>\n",
       "    </tr>\n",
       "    <tr>\n",
       "      <th>Böçüş</th>\n",
       "      <td>0.705139</td>\n",
       "      <td>-0.445268</td>\n",
       "      <td>-0.247938</td>\n",
       "      <td>-0.890536</td>\n",
       "    </tr>\n",
       "    <tr>\n",
       "      <th>Taco</th>\n",
       "      <td>-0.673068</td>\n",
       "      <td>-0.016512</td>\n",
       "      <td>-1.188595</td>\n",
       "      <td>-0.033024</td>\n",
       "    </tr>\n",
       "    <tr>\n",
       "      <th>Buzz</th>\n",
       "      <td>0.923517</td>\n",
       "      <td>0.188333</td>\n",
       "      <td>0.865370</td>\n",
       "      <td>0.376667</td>\n",
       "    </tr>\n",
       "  </tbody>\n",
       "</table>\n",
       "</div>"
      ],
      "text/plain": [
       "            Maaş       Yaş  Çalışma Saati  Emeklilik Yaşı\n",
       "Toygar -0.000388  0.500695      -0.722380        1.001390\n",
       "Böçüş   0.705139 -0.445268      -0.247938       -0.890536\n",
       "Taco   -0.673068 -0.016512      -1.188595       -0.033024\n",
       "Buzz    0.923517  0.188333       0.865370        0.376667"
      ]
     },
     "execution_count": 39,
     "metadata": {},
     "output_type": "execute_result"
    }
   ],
   "source": [
    "df"
   ]
  },
  {
   "cell_type": "code",
   "execution_count": 40,
   "metadata": {},
   "outputs": [],
   "source": [
    "df.drop(\"Emeklilik Yaşı\", axis=1, inplace=True) #kalıcı olarak silmek için inplace=True yapmalıyız"
   ]
  },
  {
   "cell_type": "code",
   "execution_count": 41,
   "metadata": {},
   "outputs": [
    {
     "data": {
      "text/html": [
       "<div>\n",
       "<style scoped>\n",
       "    .dataframe tbody tr th:only-of-type {\n",
       "        vertical-align: middle;\n",
       "    }\n",
       "\n",
       "    .dataframe tbody tr th {\n",
       "        vertical-align: top;\n",
       "    }\n",
       "\n",
       "    .dataframe thead th {\n",
       "        text-align: right;\n",
       "    }\n",
       "</style>\n",
       "<table border=\"1\" class=\"dataframe\">\n",
       "  <thead>\n",
       "    <tr style=\"text-align: right;\">\n",
       "      <th></th>\n",
       "      <th>Maaş</th>\n",
       "      <th>Yaş</th>\n",
       "      <th>Çalışma Saati</th>\n",
       "    </tr>\n",
       "  </thead>\n",
       "  <tbody>\n",
       "    <tr>\n",
       "      <th>Toygar</th>\n",
       "      <td>-0.000388</td>\n",
       "      <td>0.500695</td>\n",
       "      <td>-0.722380</td>\n",
       "    </tr>\n",
       "    <tr>\n",
       "      <th>Böçüş</th>\n",
       "      <td>0.705139</td>\n",
       "      <td>-0.445268</td>\n",
       "      <td>-0.247938</td>\n",
       "    </tr>\n",
       "    <tr>\n",
       "      <th>Taco</th>\n",
       "      <td>-0.673068</td>\n",
       "      <td>-0.016512</td>\n",
       "      <td>-1.188595</td>\n",
       "    </tr>\n",
       "    <tr>\n",
       "      <th>Buzz</th>\n",
       "      <td>0.923517</td>\n",
       "      <td>0.188333</td>\n",
       "      <td>0.865370</td>\n",
       "    </tr>\n",
       "  </tbody>\n",
       "</table>\n",
       "</div>"
      ],
      "text/plain": [
       "            Maaş       Yaş  Çalışma Saati\n",
       "Toygar -0.000388  0.500695      -0.722380\n",
       "Böçüş   0.705139 -0.445268      -0.247938\n",
       "Taco   -0.673068 -0.016512      -1.188595\n",
       "Buzz    0.923517  0.188333       0.865370"
      ]
     },
     "execution_count": 41,
     "metadata": {},
     "output_type": "execute_result"
    }
   ],
   "source": [
    "df"
   ]
  },
  {
   "cell_type": "code",
   "execution_count": 42,
   "metadata": {},
   "outputs": [
    {
     "data": {
      "text/plain": [
       "-0.0003875170772907675"
      ]
     },
     "execution_count": 42,
     "metadata": {},
     "output_type": "execute_result"
    }
   ],
   "source": [
    "df.loc[\"Toygar\"][\"Maaş\"] #row ve column seçmek için, Toygar rowu ve Maaş columnu seçtik"
   ]
  },
  {
   "cell_type": "code",
   "execution_count": 43,
   "metadata": {},
   "outputs": [
    {
     "data": {
      "text/plain": [
       "-0.0003875170772907675"
      ]
     },
     "execution_count": 43,
     "metadata": {},
     "output_type": "execute_result"
    }
   ],
   "source": [
    "df.loc[\"Toygar\",\"Maaş\"] #yukarıdaki ile aynı işlemi yaptık, bu şekilde de seçim yapabiliriz"
   ]
  },
  {
   "cell_type": "code",
   "execution_count": 44,
   "metadata": {},
   "outputs": [
    {
     "data": {
      "text/html": [
       "<div>\n",
       "<style scoped>\n",
       "    .dataframe tbody tr th:only-of-type {\n",
       "        vertical-align: middle;\n",
       "    }\n",
       "\n",
       "    .dataframe tbody tr th {\n",
       "        vertical-align: top;\n",
       "    }\n",
       "\n",
       "    .dataframe thead th {\n",
       "        text-align: right;\n",
       "    }\n",
       "</style>\n",
       "<table border=\"1\" class=\"dataframe\">\n",
       "  <thead>\n",
       "    <tr style=\"text-align: right;\">\n",
       "      <th></th>\n",
       "      <th>Maaş</th>\n",
       "      <th>Yaş</th>\n",
       "    </tr>\n",
       "  </thead>\n",
       "  <tbody>\n",
       "    <tr>\n",
       "      <th>Toygar</th>\n",
       "      <td>-0.000388</td>\n",
       "      <td>0.500695</td>\n",
       "    </tr>\n",
       "    <tr>\n",
       "      <th>Böçüş</th>\n",
       "      <td>0.705139</td>\n",
       "      <td>-0.445268</td>\n",
       "    </tr>\n",
       "  </tbody>\n",
       "</table>\n",
       "</div>"
      ],
      "text/plain": [
       "            Maaş       Yaş\n",
       "Toygar -0.000388  0.500695\n",
       "Böçüş   0.705139 -0.445268"
      ]
     },
     "execution_count": 44,
     "metadata": {},
     "output_type": "execute_result"
    }
   ],
   "source": [
    "df.loc[[\"Toygar\",\"Böçüş\"],[\"Maaş\",\"Yaş\"]] #birden fazla row ve column seçmek için"
   ]
  },
  {
   "cell_type": "code",
   "execution_count": 45,
   "metadata": {},
   "outputs": [
    {
     "data": {
      "text/html": [
       "<div>\n",
       "<style scoped>\n",
       "    .dataframe tbody tr th:only-of-type {\n",
       "        vertical-align: middle;\n",
       "    }\n",
       "\n",
       "    .dataframe tbody tr th {\n",
       "        vertical-align: top;\n",
       "    }\n",
       "\n",
       "    .dataframe thead th {\n",
       "        text-align: right;\n",
       "    }\n",
       "</style>\n",
       "<table border=\"1\" class=\"dataframe\">\n",
       "  <thead>\n",
       "    <tr style=\"text-align: right;\">\n",
       "      <th></th>\n",
       "      <th>Maaş</th>\n",
       "      <th>Yaş</th>\n",
       "      <th>Çalışma Saati</th>\n",
       "    </tr>\n",
       "  </thead>\n",
       "  <tbody>\n",
       "    <tr>\n",
       "      <th>Toygar</th>\n",
       "      <td>False</td>\n",
       "      <td>True</td>\n",
       "      <td>False</td>\n",
       "    </tr>\n",
       "    <tr>\n",
       "      <th>Böçüş</th>\n",
       "      <td>True</td>\n",
       "      <td>False</td>\n",
       "      <td>False</td>\n",
       "    </tr>\n",
       "    <tr>\n",
       "      <th>Taco</th>\n",
       "      <td>False</td>\n",
       "      <td>False</td>\n",
       "      <td>False</td>\n",
       "    </tr>\n",
       "    <tr>\n",
       "      <th>Buzz</th>\n",
       "      <td>True</td>\n",
       "      <td>True</td>\n",
       "      <td>True</td>\n",
       "    </tr>\n",
       "  </tbody>\n",
       "</table>\n",
       "</div>"
      ],
      "text/plain": [
       "         Maaş    Yaş  Çalışma Saati\n",
       "Toygar  False   True          False\n",
       "Böçüş    True  False          False\n",
       "Taco    False  False          False\n",
       "Buzz     True   True           True"
      ]
     },
     "execution_count": 45,
     "metadata": {},
     "output_type": "execute_result"
    }
   ],
   "source": [
    "df > 0 #dataframe içindeki değerlerin 0 dan büyük olup olmadığını kontrol eder"
   ]
  },
  {
   "cell_type": "code",
   "execution_count": 46,
   "metadata": {},
   "outputs": [
    {
     "data": {
      "text/html": [
       "<div>\n",
       "<style scoped>\n",
       "    .dataframe tbody tr th:only-of-type {\n",
       "        vertical-align: middle;\n",
       "    }\n",
       "\n",
       "    .dataframe tbody tr th {\n",
       "        vertical-align: top;\n",
       "    }\n",
       "\n",
       "    .dataframe thead th {\n",
       "        text-align: right;\n",
       "    }\n",
       "</style>\n",
       "<table border=\"1\" class=\"dataframe\">\n",
       "  <thead>\n",
       "    <tr style=\"text-align: right;\">\n",
       "      <th></th>\n",
       "      <th>Maaş</th>\n",
       "      <th>Yaş</th>\n",
       "      <th>Çalışma Saati</th>\n",
       "    </tr>\n",
       "  </thead>\n",
       "  <tbody>\n",
       "    <tr>\n",
       "      <th>Toygar</th>\n",
       "      <td>NaN</td>\n",
       "      <td>0.500695</td>\n",
       "      <td>NaN</td>\n",
       "    </tr>\n",
       "    <tr>\n",
       "      <th>Böçüş</th>\n",
       "      <td>0.705139</td>\n",
       "      <td>NaN</td>\n",
       "      <td>NaN</td>\n",
       "    </tr>\n",
       "    <tr>\n",
       "      <th>Taco</th>\n",
       "      <td>NaN</td>\n",
       "      <td>NaN</td>\n",
       "      <td>NaN</td>\n",
       "    </tr>\n",
       "    <tr>\n",
       "      <th>Buzz</th>\n",
       "      <td>0.923517</td>\n",
       "      <td>0.188333</td>\n",
       "      <td>0.86537</td>\n",
       "    </tr>\n",
       "  </tbody>\n",
       "</table>\n",
       "</div>"
      ],
      "text/plain": [
       "            Maaş       Yaş  Çalışma Saati\n",
       "Toygar       NaN  0.500695            NaN\n",
       "Böçüş   0.705139       NaN            NaN\n",
       "Taco         NaN       NaN            NaN\n",
       "Buzz    0.923517  0.188333        0.86537"
      ]
     },
     "execution_count": 46,
     "metadata": {},
     "output_type": "execute_result"
    }
   ],
   "source": [
    "df[df>0] #0 dan büyük olan değerleri getirir, 0 dan küçük olanlar NaN olur"
   ]
  },
  {
   "cell_type": "code",
   "execution_count": 47,
   "metadata": {},
   "outputs": [
    {
     "data": {
      "text/plain": [
       "Toygar     True\n",
       "Böçüş     False\n",
       "Taco      False\n",
       "Buzz       True\n",
       "Name: Yaş, dtype: bool"
      ]
     },
     "execution_count": 47,
     "metadata": {},
     "output_type": "execute_result"
    }
   ],
   "source": [
    "df[\"Yaş\"] > 0 #Yaş columnundaki değerlerin 0'dan büyük olup olmadığını kontrol eder\n"
   ]
  },
  {
   "cell_type": "code",
   "execution_count": 48,
   "metadata": {},
   "outputs": [
    {
     "data": {
      "text/html": [
       "<div>\n",
       "<style scoped>\n",
       "    .dataframe tbody tr th:only-of-type {\n",
       "        vertical-align: middle;\n",
       "    }\n",
       "\n",
       "    .dataframe tbody tr th {\n",
       "        vertical-align: top;\n",
       "    }\n",
       "\n",
       "    .dataframe thead th {\n",
       "        text-align: right;\n",
       "    }\n",
       "</style>\n",
       "<table border=\"1\" class=\"dataframe\">\n",
       "  <thead>\n",
       "    <tr style=\"text-align: right;\">\n",
       "      <th></th>\n",
       "      <th>Maaş</th>\n",
       "      <th>Yaş</th>\n",
       "      <th>Çalışma Saati</th>\n",
       "    </tr>\n",
       "  </thead>\n",
       "  <tbody>\n",
       "    <tr>\n",
       "      <th>Toygar</th>\n",
       "      <td>-0.000388</td>\n",
       "      <td>0.500695</td>\n",
       "      <td>-0.72238</td>\n",
       "    </tr>\n",
       "    <tr>\n",
       "      <th>Buzz</th>\n",
       "      <td>0.923517</td>\n",
       "      <td>0.188333</td>\n",
       "      <td>0.86537</td>\n",
       "    </tr>\n",
       "  </tbody>\n",
       "</table>\n",
       "</div>"
      ],
      "text/plain": [
       "            Maaş       Yaş  Çalışma Saati\n",
       "Toygar -0.000388  0.500695       -0.72238\n",
       "Buzz    0.923517  0.188333        0.86537"
      ]
     },
     "execution_count": 48,
     "metadata": {},
     "output_type": "execute_result"
    }
   ],
   "source": [
    "df[df[\"Yaş\"] > 0] #Yaş columnundaki değeri 0'dan büyük olan rowları getirir"
   ]
  },
  {
   "cell_type": "code",
   "execution_count": 49,
   "metadata": {},
   "outputs": [
    {
     "data": {
      "text/plain": [
       "Toygar   -0.000388\n",
       "Buzz      0.923517\n",
       "Name: Maaş, dtype: float64"
      ]
     },
     "execution_count": 49,
     "metadata": {},
     "output_type": "execute_result"
    }
   ],
   "source": [
    "df[df[\"Yaş\"] > 0][\"Maaş\"] #Yaş columnundaki değeri 0'dan büyük olan rowların Maaş columnunu getirir, filtrelemek ve istediğimiz dataları bulmak için kullanılır"
   ]
  },
  {
   "cell_type": "markdown",
   "metadata": {},
   "source": [
    "<code style=\"background:yellow;color:red\">Index Değiştirme</code>"
   ]
  },
  {
   "cell_type": "code",
   "execution_count": 50,
   "metadata": {},
   "outputs": [
    {
     "data": {
      "text/html": [
       "<div>\n",
       "<style scoped>\n",
       "    .dataframe tbody tr th:only-of-type {\n",
       "        vertical-align: middle;\n",
       "    }\n",
       "\n",
       "    .dataframe tbody tr th {\n",
       "        vertical-align: top;\n",
       "    }\n",
       "\n",
       "    .dataframe thead th {\n",
       "        text-align: right;\n",
       "    }\n",
       "</style>\n",
       "<table border=\"1\" class=\"dataframe\">\n",
       "  <thead>\n",
       "    <tr style=\"text-align: right;\">\n",
       "      <th></th>\n",
       "      <th>index</th>\n",
       "      <th>Maaş</th>\n",
       "      <th>Yaş</th>\n",
       "      <th>Çalışma Saati</th>\n",
       "    </tr>\n",
       "  </thead>\n",
       "  <tbody>\n",
       "    <tr>\n",
       "      <th>0</th>\n",
       "      <td>Toygar</td>\n",
       "      <td>-0.000388</td>\n",
       "      <td>0.500695</td>\n",
       "      <td>-0.722380</td>\n",
       "    </tr>\n",
       "    <tr>\n",
       "      <th>1</th>\n",
       "      <td>Böçüş</td>\n",
       "      <td>0.705139</td>\n",
       "      <td>-0.445268</td>\n",
       "      <td>-0.247938</td>\n",
       "    </tr>\n",
       "    <tr>\n",
       "      <th>2</th>\n",
       "      <td>Taco</td>\n",
       "      <td>-0.673068</td>\n",
       "      <td>-0.016512</td>\n",
       "      <td>-1.188595</td>\n",
       "    </tr>\n",
       "    <tr>\n",
       "      <th>3</th>\n",
       "      <td>Buzz</td>\n",
       "      <td>0.923517</td>\n",
       "      <td>0.188333</td>\n",
       "      <td>0.865370</td>\n",
       "    </tr>\n",
       "  </tbody>\n",
       "</table>\n",
       "</div>"
      ],
      "text/plain": [
       "    index      Maaş       Yaş  Çalışma Saati\n",
       "0  Toygar -0.000388  0.500695      -0.722380\n",
       "1   Böçüş  0.705139 -0.445268      -0.247938\n",
       "2    Taco -0.673068 -0.016512      -1.188595\n",
       "3    Buzz  0.923517  0.188333       0.865370"
      ]
     },
     "execution_count": 50,
     "metadata": {},
     "output_type": "execute_result"
    }
   ],
   "source": [
    "df.reset_index() #indexleri sıfırlar, default olarak inplace=False"
   ]
  },
  {
   "cell_type": "code",
   "execution_count": 51,
   "metadata": {},
   "outputs": [
    {
     "data": {
      "text/html": [
       "<div>\n",
       "<style scoped>\n",
       "    .dataframe tbody tr th:only-of-type {\n",
       "        vertical-align: middle;\n",
       "    }\n",
       "\n",
       "    .dataframe tbody tr th {\n",
       "        vertical-align: top;\n",
       "    }\n",
       "\n",
       "    .dataframe thead th {\n",
       "        text-align: right;\n",
       "    }\n",
       "</style>\n",
       "<table border=\"1\" class=\"dataframe\">\n",
       "  <thead>\n",
       "    <tr style=\"text-align: right;\">\n",
       "      <th></th>\n",
       "      <th>Maaş</th>\n",
       "      <th>Yaş</th>\n",
       "      <th>Çalışma Saati</th>\n",
       "    </tr>\n",
       "  </thead>\n",
       "  <tbody>\n",
       "    <tr>\n",
       "      <th>Toygar</th>\n",
       "      <td>-0.000388</td>\n",
       "      <td>0.500695</td>\n",
       "      <td>-0.722380</td>\n",
       "    </tr>\n",
       "    <tr>\n",
       "      <th>Böçüş</th>\n",
       "      <td>0.705139</td>\n",
       "      <td>-0.445268</td>\n",
       "      <td>-0.247938</td>\n",
       "    </tr>\n",
       "    <tr>\n",
       "      <th>Taco</th>\n",
       "      <td>-0.673068</td>\n",
       "      <td>-0.016512</td>\n",
       "      <td>-1.188595</td>\n",
       "    </tr>\n",
       "    <tr>\n",
       "      <th>Buzz</th>\n",
       "      <td>0.923517</td>\n",
       "      <td>0.188333</td>\n",
       "      <td>0.865370</td>\n",
       "    </tr>\n",
       "  </tbody>\n",
       "</table>\n",
       "</div>"
      ],
      "text/plain": [
       "            Maaş       Yaş  Çalışma Saati\n",
       "Toygar -0.000388  0.500695      -0.722380\n",
       "Böçüş   0.705139 -0.445268      -0.247938\n",
       "Taco   -0.673068 -0.016512      -1.188595\n",
       "Buzz    0.923517  0.188333       0.865370"
      ]
     },
     "execution_count": 51,
     "metadata": {},
     "output_type": "execute_result"
    }
   ],
   "source": [
    "df"
   ]
  },
  {
   "cell_type": "code",
   "execution_count": 52,
   "metadata": {},
   "outputs": [],
   "source": [
    "yeni_index_listesi = [\"Toy\", \"Böc\", \"Tac\", \"Buz\"] #yeni index listesi oluşturduk"
   ]
  },
  {
   "cell_type": "code",
   "execution_count": 53,
   "metadata": {},
   "outputs": [
    {
     "data": {
      "text/html": [
       "<div>\n",
       "<style scoped>\n",
       "    .dataframe tbody tr th:only-of-type {\n",
       "        vertical-align: middle;\n",
       "    }\n",
       "\n",
       "    .dataframe tbody tr th {\n",
       "        vertical-align: top;\n",
       "    }\n",
       "\n",
       "    .dataframe thead th {\n",
       "        text-align: right;\n",
       "    }\n",
       "</style>\n",
       "<table border=\"1\" class=\"dataframe\">\n",
       "  <thead>\n",
       "    <tr style=\"text-align: right;\">\n",
       "      <th></th>\n",
       "      <th>Maaş</th>\n",
       "      <th>Yaş</th>\n",
       "      <th>Çalışma Saati</th>\n",
       "      <th>Yeni Index</th>\n",
       "    </tr>\n",
       "  </thead>\n",
       "  <tbody>\n",
       "    <tr>\n",
       "      <th>Toygar</th>\n",
       "      <td>-0.000388</td>\n",
       "      <td>0.500695</td>\n",
       "      <td>-0.722380</td>\n",
       "      <td>Toy</td>\n",
       "    </tr>\n",
       "    <tr>\n",
       "      <th>Böçüş</th>\n",
       "      <td>0.705139</td>\n",
       "      <td>-0.445268</td>\n",
       "      <td>-0.247938</td>\n",
       "      <td>Böc</td>\n",
       "    </tr>\n",
       "    <tr>\n",
       "      <th>Taco</th>\n",
       "      <td>-0.673068</td>\n",
       "      <td>-0.016512</td>\n",
       "      <td>-1.188595</td>\n",
       "      <td>Tac</td>\n",
       "    </tr>\n",
       "    <tr>\n",
       "      <th>Buzz</th>\n",
       "      <td>0.923517</td>\n",
       "      <td>0.188333</td>\n",
       "      <td>0.865370</td>\n",
       "      <td>Buz</td>\n",
       "    </tr>\n",
       "  </tbody>\n",
       "</table>\n",
       "</div>"
      ],
      "text/plain": [
       "            Maaş       Yaş  Çalışma Saati Yeni Index\n",
       "Toygar -0.000388  0.500695      -0.722380        Toy\n",
       "Böçüş   0.705139 -0.445268      -0.247938        Böc\n",
       "Taco   -0.673068 -0.016512      -1.188595        Tac\n",
       "Buzz    0.923517  0.188333       0.865370        Buz"
      ]
     },
     "execution_count": 53,
     "metadata": {},
     "output_type": "execute_result"
    }
   ],
   "source": [
    "yeni_index_listesi = [\"Toy\", \"Böc\", \"Tac\", \"Buz\"] \n",
    "df[\"Yeni Index\"] = yeni_index_listesi #yeni index listesini dataframe'e ekledik\n",
    "df"
   ]
  },
  {
   "cell_type": "code",
   "execution_count": 54,
   "metadata": {},
   "outputs": [
    {
     "data": {
      "text/html": [
       "<div>\n",
       "<style scoped>\n",
       "    .dataframe tbody tr th:only-of-type {\n",
       "        vertical-align: middle;\n",
       "    }\n",
       "\n",
       "    .dataframe tbody tr th {\n",
       "        vertical-align: top;\n",
       "    }\n",
       "\n",
       "    .dataframe thead th {\n",
       "        text-align: right;\n",
       "    }\n",
       "</style>\n",
       "<table border=\"1\" class=\"dataframe\">\n",
       "  <thead>\n",
       "    <tr style=\"text-align: right;\">\n",
       "      <th></th>\n",
       "      <th>Maaş</th>\n",
       "      <th>Yaş</th>\n",
       "      <th>Çalışma Saati</th>\n",
       "    </tr>\n",
       "    <tr>\n",
       "      <th>Yeni Index</th>\n",
       "      <th></th>\n",
       "      <th></th>\n",
       "      <th></th>\n",
       "    </tr>\n",
       "  </thead>\n",
       "  <tbody>\n",
       "    <tr>\n",
       "      <th>Toy</th>\n",
       "      <td>-0.000388</td>\n",
       "      <td>0.500695</td>\n",
       "      <td>-0.722380</td>\n",
       "    </tr>\n",
       "    <tr>\n",
       "      <th>Böc</th>\n",
       "      <td>0.705139</td>\n",
       "      <td>-0.445268</td>\n",
       "      <td>-0.247938</td>\n",
       "    </tr>\n",
       "    <tr>\n",
       "      <th>Tac</th>\n",
       "      <td>-0.673068</td>\n",
       "      <td>-0.016512</td>\n",
       "      <td>-1.188595</td>\n",
       "    </tr>\n",
       "    <tr>\n",
       "      <th>Buz</th>\n",
       "      <td>0.923517</td>\n",
       "      <td>0.188333</td>\n",
       "      <td>0.865370</td>\n",
       "    </tr>\n",
       "  </tbody>\n",
       "</table>\n",
       "</div>"
      ],
      "text/plain": [
       "                Maaş       Yaş  Çalışma Saati\n",
       "Yeni Index                                   \n",
       "Toy        -0.000388  0.500695      -0.722380\n",
       "Böc         0.705139 -0.445268      -0.247938\n",
       "Tac        -0.673068 -0.016512      -1.188595\n",
       "Buz         0.923517  0.188333       0.865370"
      ]
     },
     "execution_count": 54,
     "metadata": {},
     "output_type": "execute_result"
    }
   ],
   "source": [
    "df.set_index(\"Yeni Index\") #indexi değiştirmek için"
   ]
  },
  {
   "cell_type": "code",
   "execution_count": 55,
   "metadata": {},
   "outputs": [],
   "source": [
    "df.set_index(\"Yeni Index\", inplace=True) #kalıcı olarak indexi değiştirmek için"
   ]
  },
  {
   "cell_type": "code",
   "execution_count": 56,
   "metadata": {},
   "outputs": [
    {
     "data": {
      "text/html": [
       "<div>\n",
       "<style scoped>\n",
       "    .dataframe tbody tr th:only-of-type {\n",
       "        vertical-align: middle;\n",
       "    }\n",
       "\n",
       "    .dataframe tbody tr th {\n",
       "        vertical-align: top;\n",
       "    }\n",
       "\n",
       "    .dataframe thead th {\n",
       "        text-align: right;\n",
       "    }\n",
       "</style>\n",
       "<table border=\"1\" class=\"dataframe\">\n",
       "  <thead>\n",
       "    <tr style=\"text-align: right;\">\n",
       "      <th></th>\n",
       "      <th>Maaş</th>\n",
       "      <th>Yaş</th>\n",
       "      <th>Çalışma Saati</th>\n",
       "    </tr>\n",
       "    <tr>\n",
       "      <th>Yeni Index</th>\n",
       "      <th></th>\n",
       "      <th></th>\n",
       "      <th></th>\n",
       "    </tr>\n",
       "  </thead>\n",
       "  <tbody>\n",
       "    <tr>\n",
       "      <th>Toy</th>\n",
       "      <td>-0.000388</td>\n",
       "      <td>0.500695</td>\n",
       "      <td>-0.722380</td>\n",
       "    </tr>\n",
       "    <tr>\n",
       "      <th>Böc</th>\n",
       "      <td>0.705139</td>\n",
       "      <td>-0.445268</td>\n",
       "      <td>-0.247938</td>\n",
       "    </tr>\n",
       "    <tr>\n",
       "      <th>Tac</th>\n",
       "      <td>-0.673068</td>\n",
       "      <td>-0.016512</td>\n",
       "      <td>-1.188595</td>\n",
       "    </tr>\n",
       "    <tr>\n",
       "      <th>Buz</th>\n",
       "      <td>0.923517</td>\n",
       "      <td>0.188333</td>\n",
       "      <td>0.865370</td>\n",
       "    </tr>\n",
       "  </tbody>\n",
       "</table>\n",
       "</div>"
      ],
      "text/plain": [
       "                Maaş       Yaş  Çalışma Saati\n",
       "Yeni Index                                   \n",
       "Toy        -0.000388  0.500695      -0.722380\n",
       "Böc         0.705139 -0.445268      -0.247938\n",
       "Tac        -0.673068 -0.016512      -1.188595\n",
       "Buz         0.923517  0.188333       0.865370"
      ]
     },
     "execution_count": 56,
     "metadata": {},
     "output_type": "execute_result"
    }
   ],
   "source": [
    "df"
   ]
  },
  {
   "cell_type": "code",
   "execution_count": 57,
   "metadata": {},
   "outputs": [
    {
     "data": {
      "text/plain": [
       "Maaş            -0.000388\n",
       "Yaş              0.500695\n",
       "Çalışma Saati   -0.722380\n",
       "Name: Toy, dtype: float64"
      ]
     },
     "execution_count": 57,
     "metadata": {},
     "output_type": "execute_result"
    }
   ],
   "source": [
    "df.loc[\"Toy\"] #yeni index ile row seçmek için"
   ]
  },
  {
   "cell_type": "markdown",
   "metadata": {},
   "source": [
    "<code style=\"background:yellow;color:red\">Multi Index</code>"
   ]
  },
  {
   "cell_type": "code",
   "execution_count": 58,
   "metadata": {},
   "outputs": [],
   "source": [
    "first_indices = [\"Vakıfbank\",\"Vakıfbank\",\"Vakıfbank\", \"Eczacıbaşı\",\"Eczacıbaşı\",\"Eczacıbaşı\"]\n",
    "inner_indices = [\"Zehra Güneş\", \"Marina Markova\",\"Kiera Van Ryk\",\"Tijana Boskovic\",\"Hande Baladin\",\"Elif Şahin\"]"
   ]
  },
  {
   "cell_type": "code",
   "execution_count": 59,
   "metadata": {},
   "outputs": [
    {
     "data": {
      "text/plain": [
       "[('Vakıfbank', 'Zehra Güneş'),\n",
       " ('Vakıfbank', 'Marina Markova'),\n",
       " ('Vakıfbank', 'Kiera Van Ryk'),\n",
       " ('Eczacıbaşı', 'Tijana Boskovic'),\n",
       " ('Eczacıbaşı', 'Hande Baladin'),\n",
       " ('Eczacıbaşı', 'Elif Şahin')]"
      ]
     },
     "execution_count": 59,
     "metadata": {},
     "output_type": "execute_result"
    }
   ],
   "source": [
    "#iki indexin birleşimi ile dataframe oluşturmaya dair kullanmak için zip fonksiyonunu kullanabiliriz\n",
    "\n",
    "united_index = list(zip(first_indices, inner_indices))\n",
    "\n",
    "united_index"
   ]
  },
  {
   "cell_type": "code",
   "execution_count": 60,
   "metadata": {},
   "outputs": [],
   "source": [
    "united_index = pd.MultiIndex.from_tuples(united_index) #multi index  oluşturduk,  pd.MultiIndex.from_tuples() fonksiyonu ile"
   ]
  },
  {
   "cell_type": "code",
   "execution_count": 61,
   "metadata": {},
   "outputs": [
    {
     "data": {
      "text/plain": [
       "MultiIndex([( 'Vakıfbank',     'Zehra Güneş'),\n",
       "            ( 'Vakıfbank',  'Marina Markova'),\n",
       "            ( 'Vakıfbank',   'Kiera Van Ryk'),\n",
       "            ('Eczacıbaşı', 'Tijana Boskovic'),\n",
       "            ('Eczacıbaşı',   'Hande Baladin'),\n",
       "            ('Eczacıbaşı',      'Elif Şahin')],\n",
       "           )"
      ]
     },
     "execution_count": 61,
     "metadata": {},
     "output_type": "execute_result"
    }
   ],
   "source": [
    "united_index"
   ]
  },
  {
   "cell_type": "code",
   "execution_count": 62,
   "metadata": {},
   "outputs": [],
   "source": [
    "position_list = [[25, \"Middle Blocker\"],[21, \"Opposite\"],[21, \"Opposite Attacker\"],[24, \"Opposite Attacker\"],[22, \"Opposite\"],[20, \"Setter\"]]   #pozisyon listesi oluşturduk"
   ]
  },
  {
   "cell_type": "code",
   "execution_count": 63,
   "metadata": {},
   "outputs": [
    {
     "data": {
      "text/plain": [
       "array([['25', 'Middle Blocker'],\n",
       "       ['21', 'Opposite'],\n",
       "       ['21', 'Opposite Attacker'],\n",
       "       ['24', 'Opposite Attacker'],\n",
       "       ['22', 'Opposite'],\n",
       "       ['20', 'Setter']], dtype='<U21')"
      ]
     },
     "execution_count": 63,
     "metadata": {},
     "output_type": "execute_result"
    }
   ],
   "source": [
    "pos_np_list = np.array(position_list)  #pozisyon listesini numpy arrayine çevirdik\n",
    "\n",
    "pos_np_list"
   ]
  },
  {
   "cell_type": "code",
   "execution_count": 64,
   "metadata": {},
   "outputs": [
    {
     "data": {
      "text/html": [
       "<div>\n",
       "<style scoped>\n",
       "    .dataframe tbody tr th:only-of-type {\n",
       "        vertical-align: middle;\n",
       "    }\n",
       "\n",
       "    .dataframe tbody tr th {\n",
       "        vertical-align: top;\n",
       "    }\n",
       "\n",
       "    .dataframe thead th {\n",
       "        text-align: right;\n",
       "    }\n",
       "</style>\n",
       "<table border=\"1\" class=\"dataframe\">\n",
       "  <thead>\n",
       "    <tr style=\"text-align: right;\">\n",
       "      <th></th>\n",
       "      <th></th>\n",
       "      <th>Age</th>\n",
       "      <th>Position</th>\n",
       "    </tr>\n",
       "  </thead>\n",
       "  <tbody>\n",
       "    <tr>\n",
       "      <th rowspan=\"3\" valign=\"top\">Vakıfbank</th>\n",
       "      <th>Zehra Güneş</th>\n",
       "      <td>25</td>\n",
       "      <td>Middle Blocker</td>\n",
       "    </tr>\n",
       "    <tr>\n",
       "      <th>Marina Markova</th>\n",
       "      <td>21</td>\n",
       "      <td>Opposite</td>\n",
       "    </tr>\n",
       "    <tr>\n",
       "      <th>Kiera Van Ryk</th>\n",
       "      <td>21</td>\n",
       "      <td>Opposite Attacker</td>\n",
       "    </tr>\n",
       "    <tr>\n",
       "      <th rowspan=\"3\" valign=\"top\">Eczacıbaşı</th>\n",
       "      <th>Tijana Boskovic</th>\n",
       "      <td>24</td>\n",
       "      <td>Opposite Attacker</td>\n",
       "    </tr>\n",
       "    <tr>\n",
       "      <th>Hande Baladin</th>\n",
       "      <td>22</td>\n",
       "      <td>Opposite</td>\n",
       "    </tr>\n",
       "    <tr>\n",
       "      <th>Elif Şahin</th>\n",
       "      <td>20</td>\n",
       "      <td>Setter</td>\n",
       "    </tr>\n",
       "  </tbody>\n",
       "</table>\n",
       "</div>"
      ],
      "text/plain": [
       "                           Age           Position\n",
       "Vakıfbank  Zehra Güneş      25     Middle Blocker\n",
       "           Marina Markova   21           Opposite\n",
       "           Kiera Van Ryk    21  Opposite Attacker\n",
       "Eczacıbaşı Tijana Boskovic  24  Opposite Attacker\n",
       "           Hande Baladin    22           Opposite\n",
       "           Elif Şahin       20             Setter"
      ]
     },
     "execution_count": 64,
     "metadata": {},
     "output_type": "execute_result"
    }
   ],
   "source": [
    "df = pd.DataFrame(pos_np_list, index=united_index, columns=[\"Age\", \"Position\"]) #dataframe oluşturduk\n",
    "\n",
    "df"
   ]
  },
  {
   "cell_type": "code",
   "execution_count": 65,
   "metadata": {},
   "outputs": [
    {
     "data": {
      "text/html": [
       "<div>\n",
       "<style scoped>\n",
       "    .dataframe tbody tr th:only-of-type {\n",
       "        vertical-align: middle;\n",
       "    }\n",
       "\n",
       "    .dataframe tbody tr th {\n",
       "        vertical-align: top;\n",
       "    }\n",
       "\n",
       "    .dataframe thead th {\n",
       "        text-align: right;\n",
       "    }\n",
       "</style>\n",
       "<table border=\"1\" class=\"dataframe\">\n",
       "  <thead>\n",
       "    <tr style=\"text-align: right;\">\n",
       "      <th></th>\n",
       "      <th>Age</th>\n",
       "      <th>Position</th>\n",
       "    </tr>\n",
       "  </thead>\n",
       "  <tbody>\n",
       "    <tr>\n",
       "      <th>Zehra Güneş</th>\n",
       "      <td>25</td>\n",
       "      <td>Middle Blocker</td>\n",
       "    </tr>\n",
       "    <tr>\n",
       "      <th>Marina Markova</th>\n",
       "      <td>21</td>\n",
       "      <td>Opposite</td>\n",
       "    </tr>\n",
       "    <tr>\n",
       "      <th>Kiera Van Ryk</th>\n",
       "      <td>21</td>\n",
       "      <td>Opposite Attacker</td>\n",
       "    </tr>\n",
       "  </tbody>\n",
       "</table>\n",
       "</div>"
      ],
      "text/plain": [
       "               Age           Position\n",
       "Zehra Güneş     25     Middle Blocker\n",
       "Marina Markova  21           Opposite\n",
       "Kiera Van Ryk   21  Opposite Attacker"
      ]
     },
     "execution_count": 65,
     "metadata": {},
     "output_type": "execute_result"
    }
   ],
   "source": [
    "df.loc[\"Vakıfbank\"] #Vakıfbank rowlarını getirir"
   ]
  },
  {
   "cell_type": "code",
   "execution_count": 66,
   "metadata": {},
   "outputs": [
    {
     "data": {
      "text/html": [
       "<div>\n",
       "<style scoped>\n",
       "    .dataframe tbody tr th:only-of-type {\n",
       "        vertical-align: middle;\n",
       "    }\n",
       "\n",
       "    .dataframe tbody tr th {\n",
       "        vertical-align: top;\n",
       "    }\n",
       "\n",
       "    .dataframe thead th {\n",
       "        text-align: right;\n",
       "    }\n",
       "</style>\n",
       "<table border=\"1\" class=\"dataframe\">\n",
       "  <thead>\n",
       "    <tr style=\"text-align: right;\">\n",
       "      <th></th>\n",
       "      <th>Age</th>\n",
       "      <th>Position</th>\n",
       "    </tr>\n",
       "  </thead>\n",
       "  <tbody>\n",
       "    <tr>\n",
       "      <th>Tijana Boskovic</th>\n",
       "      <td>24</td>\n",
       "      <td>Opposite Attacker</td>\n",
       "    </tr>\n",
       "    <tr>\n",
       "      <th>Hande Baladin</th>\n",
       "      <td>22</td>\n",
       "      <td>Opposite</td>\n",
       "    </tr>\n",
       "    <tr>\n",
       "      <th>Elif Şahin</th>\n",
       "      <td>20</td>\n",
       "      <td>Setter</td>\n",
       "    </tr>\n",
       "  </tbody>\n",
       "</table>\n",
       "</div>"
      ],
      "text/plain": [
       "                Age           Position\n",
       "Tijana Boskovic  24  Opposite Attacker\n",
       "Hande Baladin    22           Opposite\n",
       "Elif Şahin       20             Setter"
      ]
     },
     "execution_count": 66,
     "metadata": {},
     "output_type": "execute_result"
    }
   ],
   "source": [
    "df.loc[\"Eczacıbaşı\"] #Eczacıbaşı rowlarını getirir"
   ]
  },
  {
   "cell_type": "code",
   "execution_count": 67,
   "metadata": {},
   "outputs": [
    {
     "data": {
      "text/plain": [
       "Age               21\n",
       "Position    Opposite\n",
       "Name: Marina Markova, dtype: object"
      ]
     },
     "execution_count": 67,
     "metadata": {},
     "output_type": "execute_result"
    }
   ],
   "source": [
    "df.loc[\"Vakıfbank\"].loc[\"Marina Markova\"] #Vakıfbank rowlarından Marina Markova'yı getirir"
   ]
  },
  {
   "cell_type": "code",
   "execution_count": 68,
   "metadata": {},
   "outputs": [
    {
     "data": {
      "text/html": [
       "<div>\n",
       "<style scoped>\n",
       "    .dataframe tbody tr th:only-of-type {\n",
       "        vertical-align: middle;\n",
       "    }\n",
       "\n",
       "    .dataframe tbody tr th {\n",
       "        vertical-align: top;\n",
       "    }\n",
       "\n",
       "    .dataframe thead th {\n",
       "        text-align: right;\n",
       "    }\n",
       "</style>\n",
       "<table border=\"1\" class=\"dataframe\">\n",
       "  <thead>\n",
       "    <tr style=\"text-align: right;\">\n",
       "      <th></th>\n",
       "      <th></th>\n",
       "      <th>Age</th>\n",
       "      <th>Position</th>\n",
       "    </tr>\n",
       "    <tr>\n",
       "      <th>Team</th>\n",
       "      <th>Player</th>\n",
       "      <th></th>\n",
       "      <th></th>\n",
       "    </tr>\n",
       "  </thead>\n",
       "  <tbody>\n",
       "    <tr>\n",
       "      <th rowspan=\"3\" valign=\"top\">Vakıfbank</th>\n",
       "      <th>Zehra Güneş</th>\n",
       "      <td>25</td>\n",
       "      <td>Middle Blocker</td>\n",
       "    </tr>\n",
       "    <tr>\n",
       "      <th>Marina Markova</th>\n",
       "      <td>21</td>\n",
       "      <td>Opposite</td>\n",
       "    </tr>\n",
       "    <tr>\n",
       "      <th>Kiera Van Ryk</th>\n",
       "      <td>21</td>\n",
       "      <td>Opposite Attacker</td>\n",
       "    </tr>\n",
       "    <tr>\n",
       "      <th rowspan=\"3\" valign=\"top\">Eczacıbaşı</th>\n",
       "      <th>Tijana Boskovic</th>\n",
       "      <td>24</td>\n",
       "      <td>Opposite Attacker</td>\n",
       "    </tr>\n",
       "    <tr>\n",
       "      <th>Hande Baladin</th>\n",
       "      <td>22</td>\n",
       "      <td>Opposite</td>\n",
       "    </tr>\n",
       "    <tr>\n",
       "      <th>Elif Şahin</th>\n",
       "      <td>20</td>\n",
       "      <td>Setter</td>\n",
       "    </tr>\n",
       "  </tbody>\n",
       "</table>\n",
       "</div>"
      ],
      "text/plain": [
       "                           Age           Position\n",
       "Team       Player                                \n",
       "Vakıfbank  Zehra Güneş      25     Middle Blocker\n",
       "           Marina Markova   21           Opposite\n",
       "           Kiera Van Ryk    21  Opposite Attacker\n",
       "Eczacıbaşı Tijana Boskovic  24  Opposite Attacker\n",
       "           Hande Baladin    22           Opposite\n",
       "           Elif Şahin       20             Setter"
      ]
     },
     "execution_count": 68,
     "metadata": {},
     "output_type": "execute_result"
    }
   ],
   "source": [
    "df.index.names = [\"Team\", \"Player\"] #multi indeksin index isimlerini değiştirdik\n",
    "\n",
    "df"
   ]
  },
  {
   "cell_type": "markdown",
   "metadata": {},
   "source": [
    "<code style=\"background:yellow;color:red\">Operasyonlar - Örn:Eksik Veriler</code>"
   ]
  },
  {
   "cell_type": "code",
   "execution_count": 69,
   "metadata": {},
   "outputs": [],
   "source": [
    "import numpy as np\n",
    "import pandas as pd"
   ]
  },
  {
   "cell_type": "code",
   "execution_count": 70,
   "metadata": {},
   "outputs": [
    {
     "data": {
      "text/html": [
       "<div>\n",
       "<style scoped>\n",
       "    .dataframe tbody tr th:only-of-type {\n",
       "        vertical-align: middle;\n",
       "    }\n",
       "\n",
       "    .dataframe tbody tr th {\n",
       "        vertical-align: top;\n",
       "    }\n",
       "\n",
       "    .dataframe thead th {\n",
       "        text-align: right;\n",
       "    }\n",
       "</style>\n",
       "<table border=\"1\" class=\"dataframe\">\n",
       "  <thead>\n",
       "    <tr style=\"text-align: right;\">\n",
       "      <th></th>\n",
       "      <th>İstanbul</th>\n",
       "      <th>Ankara</th>\n",
       "      <th>İzmir</th>\n",
       "    </tr>\n",
       "  </thead>\n",
       "  <tbody>\n",
       "    <tr>\n",
       "      <th>Pazartesi</th>\n",
       "      <td>30.0</td>\n",
       "      <td>20.0</td>\n",
       "      <td>25</td>\n",
       "    </tr>\n",
       "    <tr>\n",
       "      <th>Salı</th>\n",
       "      <td>29.0</td>\n",
       "      <td>NaN</td>\n",
       "      <td>26</td>\n",
       "    </tr>\n",
       "    <tr>\n",
       "      <th>Çarşamba</th>\n",
       "      <td>NaN</td>\n",
       "      <td>20.0</td>\n",
       "      <td>27</td>\n",
       "    </tr>\n",
       "    <tr>\n",
       "      <th>Perşembe</th>\n",
       "      <td>31.0</td>\n",
       "      <td>19.0</td>\n",
       "      <td>28</td>\n",
       "    </tr>\n",
       "    <tr>\n",
       "      <th>Cuma</th>\n",
       "      <td>28.0</td>\n",
       "      <td>22.0</td>\n",
       "      <td>29</td>\n",
       "    </tr>\n",
       "    <tr>\n",
       "      <th>Cumartesi</th>\n",
       "      <td>27.0</td>\n",
       "      <td>21.0</td>\n",
       "      <td>30</td>\n",
       "    </tr>\n",
       "  </tbody>\n",
       "</table>\n",
       "</div>"
      ],
      "text/plain": [
       "           İstanbul  Ankara  İzmir\n",
       "Pazartesi      30.0    20.0     25\n",
       "Salı           29.0     NaN     26\n",
       "Çarşamba        NaN    20.0     27\n",
       "Perşembe       31.0    19.0     28\n",
       "Cuma           28.0    22.0     29\n",
       "Cumartesi      27.0    21.0     30"
      ]
     },
     "execution_count": 70,
     "metadata": {},
     "output_type": "execute_result"
    }
   ],
   "source": [
    "df = pd.DataFrame({\"İstanbul\": [30,29,np.nan,31,28,27], \"Ankara\": [20,np.nan,20,19,22,21], \"İzmir\": [25,26,27,28,29,30]}, index=[\"Pazartesi\",\"Salı\",\"Çarşamba\",\"Perşembe\",\"Cuma\",\"Cumartesi\"])\n",
    "#hava durumu dataframe'i oluşturduk, NaN değerler var, ilk önce dictionary ile veriyi oluşturduk,sonra index isimlerini verdik\n",
    "#index vermeseydik sonradan set_index() fonksiyonu ile verebilirdik\n",
    "df"
   ]
  },
  {
   "cell_type": "code",
   "execution_count": 71,
   "metadata": {},
   "outputs": [
    {
     "data": {
      "text/html": [
       "<div>\n",
       "<style scoped>\n",
       "    .dataframe tbody tr th:only-of-type {\n",
       "        vertical-align: middle;\n",
       "    }\n",
       "\n",
       "    .dataframe tbody tr th {\n",
       "        vertical-align: top;\n",
       "    }\n",
       "\n",
       "    .dataframe thead th {\n",
       "        text-align: right;\n",
       "    }\n",
       "</style>\n",
       "<table border=\"1\" class=\"dataframe\">\n",
       "  <thead>\n",
       "    <tr style=\"text-align: right;\">\n",
       "      <th></th>\n",
       "      <th>İstanbul</th>\n",
       "      <th>Ankara</th>\n",
       "      <th>İzmir</th>\n",
       "    </tr>\n",
       "  </thead>\n",
       "  <tbody>\n",
       "    <tr>\n",
       "      <th>Pazartesi</th>\n",
       "      <td>30.0</td>\n",
       "      <td>20.0</td>\n",
       "      <td>25</td>\n",
       "    </tr>\n",
       "    <tr>\n",
       "      <th>Perşembe</th>\n",
       "      <td>31.0</td>\n",
       "      <td>19.0</td>\n",
       "      <td>28</td>\n",
       "    </tr>\n",
       "    <tr>\n",
       "      <th>Cuma</th>\n",
       "      <td>28.0</td>\n",
       "      <td>22.0</td>\n",
       "      <td>29</td>\n",
       "    </tr>\n",
       "    <tr>\n",
       "      <th>Cumartesi</th>\n",
       "      <td>27.0</td>\n",
       "      <td>21.0</td>\n",
       "      <td>30</td>\n",
       "    </tr>\n",
       "  </tbody>\n",
       "</table>\n",
       "</div>"
      ],
      "text/plain": [
       "           İstanbul  Ankara  İzmir\n",
       "Pazartesi      30.0    20.0     25\n",
       "Perşembe       31.0    19.0     28\n",
       "Cuma           28.0    22.0     29\n",
       "Cumartesi      27.0    21.0     30"
      ]
     },
     "execution_count": 71,
     "metadata": {},
     "output_type": "execute_result"
    }
   ],
   "source": [
    "df.dropna() #NaN değerleri olan rowları siler, default olarak axis=0"
   ]
  },
  {
   "cell_type": "code",
   "execution_count": 72,
   "metadata": {},
   "outputs": [
    {
     "data": {
      "text/html": [
       "<div>\n",
       "<style scoped>\n",
       "    .dataframe tbody tr th:only-of-type {\n",
       "        vertical-align: middle;\n",
       "    }\n",
       "\n",
       "    .dataframe tbody tr th {\n",
       "        vertical-align: top;\n",
       "    }\n",
       "\n",
       "    .dataframe thead th {\n",
       "        text-align: right;\n",
       "    }\n",
       "</style>\n",
       "<table border=\"1\" class=\"dataframe\">\n",
       "  <thead>\n",
       "    <tr style=\"text-align: right;\">\n",
       "      <th></th>\n",
       "      <th>İstanbul</th>\n",
       "      <th>Ankara</th>\n",
       "      <th>İzmir</th>\n",
       "    </tr>\n",
       "  </thead>\n",
       "  <tbody>\n",
       "    <tr>\n",
       "      <th>Pazartesi</th>\n",
       "      <td>30.0</td>\n",
       "      <td>20.0</td>\n",
       "      <td>25</td>\n",
       "    </tr>\n",
       "    <tr>\n",
       "      <th>Salı</th>\n",
       "      <td>29.0</td>\n",
       "      <td>NaN</td>\n",
       "      <td>26</td>\n",
       "    </tr>\n",
       "    <tr>\n",
       "      <th>Çarşamba</th>\n",
       "      <td>NaN</td>\n",
       "      <td>20.0</td>\n",
       "      <td>27</td>\n",
       "    </tr>\n",
       "    <tr>\n",
       "      <th>Perşembe</th>\n",
       "      <td>31.0</td>\n",
       "      <td>19.0</td>\n",
       "      <td>28</td>\n",
       "    </tr>\n",
       "    <tr>\n",
       "      <th>Cuma</th>\n",
       "      <td>28.0</td>\n",
       "      <td>22.0</td>\n",
       "      <td>29</td>\n",
       "    </tr>\n",
       "    <tr>\n",
       "      <th>Cumartesi</th>\n",
       "      <td>27.0</td>\n",
       "      <td>21.0</td>\n",
       "      <td>30</td>\n",
       "    </tr>\n",
       "  </tbody>\n",
       "</table>\n",
       "</div>"
      ],
      "text/plain": [
       "           İstanbul  Ankara  İzmir\n",
       "Pazartesi      30.0    20.0     25\n",
       "Salı           29.0     NaN     26\n",
       "Çarşamba        NaN    20.0     27\n",
       "Perşembe       31.0    19.0     28\n",
       "Cuma           28.0    22.0     29\n",
       "Cumartesi      27.0    21.0     30"
      ]
     },
     "execution_count": 72,
     "metadata": {},
     "output_type": "execute_result"
    }
   ],
   "source": [
    "df"
   ]
  },
  {
   "cell_type": "code",
   "execution_count": 73,
   "metadata": {},
   "outputs": [
    {
     "data": {
      "text/html": [
       "<div>\n",
       "<style scoped>\n",
       "    .dataframe tbody tr th:only-of-type {\n",
       "        vertical-align: middle;\n",
       "    }\n",
       "\n",
       "    .dataframe tbody tr th {\n",
       "        vertical-align: top;\n",
       "    }\n",
       "\n",
       "    .dataframe thead th {\n",
       "        text-align: right;\n",
       "    }\n",
       "</style>\n",
       "<table border=\"1\" class=\"dataframe\">\n",
       "  <thead>\n",
       "    <tr style=\"text-align: right;\">\n",
       "      <th></th>\n",
       "      <th>İzmir</th>\n",
       "    </tr>\n",
       "  </thead>\n",
       "  <tbody>\n",
       "    <tr>\n",
       "      <th>Pazartesi</th>\n",
       "      <td>25</td>\n",
       "    </tr>\n",
       "    <tr>\n",
       "      <th>Salı</th>\n",
       "      <td>26</td>\n",
       "    </tr>\n",
       "    <tr>\n",
       "      <th>Çarşamba</th>\n",
       "      <td>27</td>\n",
       "    </tr>\n",
       "    <tr>\n",
       "      <th>Perşembe</th>\n",
       "      <td>28</td>\n",
       "    </tr>\n",
       "    <tr>\n",
       "      <th>Cuma</th>\n",
       "      <td>29</td>\n",
       "    </tr>\n",
       "    <tr>\n",
       "      <th>Cumartesi</th>\n",
       "      <td>30</td>\n",
       "    </tr>\n",
       "  </tbody>\n",
       "</table>\n",
       "</div>"
      ],
      "text/plain": [
       "           İzmir\n",
       "Pazartesi     25\n",
       "Salı          26\n",
       "Çarşamba      27\n",
       "Perşembe      28\n",
       "Cuma          29\n",
       "Cumartesi     30"
      ]
     },
     "execution_count": 73,
     "metadata": {},
     "output_type": "execute_result"
    }
   ],
   "source": [
    "df.dropna(axis=1) #NaN değerleri olan columnları siler, axis=1, column bazında, np.nan olmayan değerlerin olduğu columnları getirir\n"
   ]
  },
  {
   "cell_type": "code",
   "execution_count": 74,
   "metadata": {},
   "outputs": [
    {
     "data": {
      "text/html": [
       "<div>\n",
       "<style scoped>\n",
       "    .dataframe tbody tr th:only-of-type {\n",
       "        vertical-align: middle;\n",
       "    }\n",
       "\n",
       "    .dataframe tbody tr th {\n",
       "        vertical-align: top;\n",
       "    }\n",
       "\n",
       "    .dataframe thead th {\n",
       "        text-align: right;\n",
       "    }\n",
       "</style>\n",
       "<table border=\"1\" class=\"dataframe\">\n",
       "  <thead>\n",
       "    <tr style=\"text-align: right;\">\n",
       "      <th></th>\n",
       "      <th>İstanbul</th>\n",
       "      <th>Ankara</th>\n",
       "      <th>İzmir</th>\n",
       "      <th>Antalya</th>\n",
       "    </tr>\n",
       "  </thead>\n",
       "  <tbody>\n",
       "    <tr>\n",
       "      <th>Pazartesi</th>\n",
       "      <td>30.0</td>\n",
       "      <td>20.0</td>\n",
       "      <td>25</td>\n",
       "      <td>30.0</td>\n",
       "    </tr>\n",
       "    <tr>\n",
       "      <th>Salı</th>\n",
       "      <td>29.0</td>\n",
       "      <td>NaN</td>\n",
       "      <td>26</td>\n",
       "      <td>31.0</td>\n",
       "    </tr>\n",
       "    <tr>\n",
       "      <th>Çarşamba</th>\n",
       "      <td>NaN</td>\n",
       "      <td>20.0</td>\n",
       "      <td>27</td>\n",
       "      <td>NaN</td>\n",
       "    </tr>\n",
       "    <tr>\n",
       "      <th>Perşembe</th>\n",
       "      <td>31.0</td>\n",
       "      <td>19.0</td>\n",
       "      <td>28</td>\n",
       "      <td>NaN</td>\n",
       "    </tr>\n",
       "    <tr>\n",
       "      <th>Cuma</th>\n",
       "      <td>28.0</td>\n",
       "      <td>22.0</td>\n",
       "      <td>29</td>\n",
       "      <td>NaN</td>\n",
       "    </tr>\n",
       "    <tr>\n",
       "      <th>Cumartesi</th>\n",
       "      <td>27.0</td>\n",
       "      <td>21.0</td>\n",
       "      <td>30</td>\n",
       "      <td>30.0</td>\n",
       "    </tr>\n",
       "  </tbody>\n",
       "</table>\n",
       "</div>"
      ],
      "text/plain": [
       "           İstanbul  Ankara  İzmir  Antalya\n",
       "Pazartesi      30.0    20.0     25     30.0\n",
       "Salı           29.0     NaN     26     31.0\n",
       "Çarşamba        NaN    20.0     27      NaN\n",
       "Perşembe       31.0    19.0     28      NaN\n",
       "Cuma           28.0    22.0     29      NaN\n",
       "Cumartesi      27.0    21.0     30     30.0"
      ]
     },
     "execution_count": 74,
     "metadata": {},
     "output_type": "execute_result"
    }
   ],
   "source": [
    "yeni_df = pd.DataFrame({\"İstanbul\": [30,29,np.nan,31,28,27], \"Ankara\": [20,np.nan,20,19,22,21], \"İzmir\": [25,26,27,28,29,30], \"Antalya\": [30,31,np.nan,np.nan,np.nan,30]}, index=[\"Pazartesi\",\"Salı\",\"Çarşamba\",\"Perşembe\",\"Cuma\",\"Cumartesi\"])\n",
    "\n",
    "yeni_df\n"
   ]
  },
  {
   "cell_type": "code",
   "execution_count": 75,
   "metadata": {},
   "outputs": [
    {
     "data": {
      "text/html": [
       "<div>\n",
       "<style scoped>\n",
       "    .dataframe tbody tr th:only-of-type {\n",
       "        vertical-align: middle;\n",
       "    }\n",
       "\n",
       "    .dataframe tbody tr th {\n",
       "        vertical-align: top;\n",
       "    }\n",
       "\n",
       "    .dataframe thead th {\n",
       "        text-align: right;\n",
       "    }\n",
       "</style>\n",
       "<table border=\"1\" class=\"dataframe\">\n",
       "  <thead>\n",
       "    <tr style=\"text-align: right;\">\n",
       "      <th></th>\n",
       "      <th>İstanbul</th>\n",
       "      <th>Ankara</th>\n",
       "      <th>İzmir</th>\n",
       "    </tr>\n",
       "  </thead>\n",
       "  <tbody>\n",
       "    <tr>\n",
       "      <th>Pazartesi</th>\n",
       "      <td>30.0</td>\n",
       "      <td>20.0</td>\n",
       "      <td>25</td>\n",
       "    </tr>\n",
       "    <tr>\n",
       "      <th>Salı</th>\n",
       "      <td>29.0</td>\n",
       "      <td>NaN</td>\n",
       "      <td>26</td>\n",
       "    </tr>\n",
       "    <tr>\n",
       "      <th>Çarşamba</th>\n",
       "      <td>NaN</td>\n",
       "      <td>20.0</td>\n",
       "      <td>27</td>\n",
       "    </tr>\n",
       "    <tr>\n",
       "      <th>Perşembe</th>\n",
       "      <td>31.0</td>\n",
       "      <td>19.0</td>\n",
       "      <td>28</td>\n",
       "    </tr>\n",
       "    <tr>\n",
       "      <th>Cuma</th>\n",
       "      <td>28.0</td>\n",
       "      <td>22.0</td>\n",
       "      <td>29</td>\n",
       "    </tr>\n",
       "    <tr>\n",
       "      <th>Cumartesi</th>\n",
       "      <td>27.0</td>\n",
       "      <td>21.0</td>\n",
       "      <td>30</td>\n",
       "    </tr>\n",
       "  </tbody>\n",
       "</table>\n",
       "</div>"
      ],
      "text/plain": [
       "           İstanbul  Ankara  İzmir\n",
       "Pazartesi      30.0    20.0     25\n",
       "Salı           29.0     NaN     26\n",
       "Çarşamba        NaN    20.0     27\n",
       "Perşembe       31.0    19.0     28\n",
       "Cuma           28.0    22.0     29\n",
       "Cumartesi      27.0    21.0     30"
      ]
     },
     "execution_count": 75,
     "metadata": {},
     "output_type": "execute_result"
    }
   ],
   "source": [
    "\n",
    "#The thresh parameter specifies the minimum number of non-NaN values required to keep a column. if thresh =4, it means that the column must have at least 4 non-NaN values to be kept.\n",
    "\n",
    "yeni_df.dropna(axis=1, thresh=4) #kolonlarda en az 2 tane np.nan varsa o kolonu siler, diğer kolonları bırakır"
   ]
  },
  {
   "cell_type": "code",
   "execution_count": 76,
   "metadata": {},
   "outputs": [
    {
     "data": {
      "text/html": [
       "<div>\n",
       "<style scoped>\n",
       "    .dataframe tbody tr th:only-of-type {\n",
       "        vertical-align: middle;\n",
       "    }\n",
       "\n",
       "    .dataframe tbody tr th {\n",
       "        vertical-align: top;\n",
       "    }\n",
       "\n",
       "    .dataframe thead th {\n",
       "        text-align: right;\n",
       "    }\n",
       "</style>\n",
       "<table border=\"1\" class=\"dataframe\">\n",
       "  <thead>\n",
       "    <tr style=\"text-align: right;\">\n",
       "      <th></th>\n",
       "      <th>İstanbul</th>\n",
       "      <th>Ankara</th>\n",
       "      <th>İzmir</th>\n",
       "      <th>Antalya</th>\n",
       "    </tr>\n",
       "  </thead>\n",
       "  <tbody>\n",
       "    <tr>\n",
       "      <th>Pazartesi</th>\n",
       "      <td>30.0</td>\n",
       "      <td>20.0</td>\n",
       "      <td>25</td>\n",
       "      <td>30.0</td>\n",
       "    </tr>\n",
       "    <tr>\n",
       "      <th>Salı</th>\n",
       "      <td>29.0</td>\n",
       "      <td>25.0</td>\n",
       "      <td>26</td>\n",
       "      <td>31.0</td>\n",
       "    </tr>\n",
       "    <tr>\n",
       "      <th>Çarşamba</th>\n",
       "      <td>25.0</td>\n",
       "      <td>20.0</td>\n",
       "      <td>27</td>\n",
       "      <td>25.0</td>\n",
       "    </tr>\n",
       "    <tr>\n",
       "      <th>Perşembe</th>\n",
       "      <td>31.0</td>\n",
       "      <td>19.0</td>\n",
       "      <td>28</td>\n",
       "      <td>25.0</td>\n",
       "    </tr>\n",
       "    <tr>\n",
       "      <th>Cuma</th>\n",
       "      <td>28.0</td>\n",
       "      <td>22.0</td>\n",
       "      <td>29</td>\n",
       "      <td>25.0</td>\n",
       "    </tr>\n",
       "    <tr>\n",
       "      <th>Cumartesi</th>\n",
       "      <td>27.0</td>\n",
       "      <td>21.0</td>\n",
       "      <td>30</td>\n",
       "      <td>30.0</td>\n",
       "    </tr>\n",
       "  </tbody>\n",
       "</table>\n",
       "</div>"
      ],
      "text/plain": [
       "           İstanbul  Ankara  İzmir  Antalya\n",
       "Pazartesi      30.0    20.0     25     30.0\n",
       "Salı           29.0    25.0     26     31.0\n",
       "Çarşamba       25.0    20.0     27     25.0\n",
       "Perşembe       31.0    19.0     28     25.0\n",
       "Cuma           28.0    22.0     29     25.0\n",
       "Cumartesi      27.0    21.0     30     30.0"
      ]
     },
     "execution_count": 76,
     "metadata": {},
     "output_type": "execute_result"
    }
   ],
   "source": [
    "#boş verilere standart bir değer atamak için fillna() fonksiyonunu kullanabiliriz\n",
    "yeni_df.fillna(value=25) #NaN değerlere 25 değerini atadık"
   ]
  },
  {
   "cell_type": "markdown",
   "metadata": {},
   "source": [
    "<code style=\"background:yellow;color:red\">Group By</code>\n",
    "\n",
    "rowları yani sıraları gruplar. multi indekse benzer bir gruplandırma yaparak herhangi bir kolondan gruplandırma gerçekleştiriyoruz"
   ]
  },
  {
   "cell_type": "code",
   "execution_count": 77,
   "metadata": {},
   "outputs": [],
   "source": [
    "import numpy as np\n",
    "import pandas as pd"
   ]
  },
  {
   "cell_type": "code",
   "execution_count": 78,
   "metadata": {},
   "outputs": [],
   "source": [
    "wages_dict = {\"Departman\": [\"Yazılım\", \"Satış\", \"Finans\", \"İK\", \"Hukuk\", \"Üretim\"], \"Çalısan\": [\"Toygar\", \"Böçüş\", \"Taco\", \"Buzz\", \"Çıtır\", \"Kocakafa\"], \"Maas\": [10000,20000,30000,40000,50000,60000]}"
   ]
  },
  {
   "cell_type": "code",
   "execution_count": 79,
   "metadata": {},
   "outputs": [
    {
     "data": {
      "text/html": [
       "<div>\n",
       "<style scoped>\n",
       "    .dataframe tbody tr th:only-of-type {\n",
       "        vertical-align: middle;\n",
       "    }\n",
       "\n",
       "    .dataframe tbody tr th {\n",
       "        vertical-align: top;\n",
       "    }\n",
       "\n",
       "    .dataframe thead th {\n",
       "        text-align: right;\n",
       "    }\n",
       "</style>\n",
       "<table border=\"1\" class=\"dataframe\">\n",
       "  <thead>\n",
       "    <tr style=\"text-align: right;\">\n",
       "      <th></th>\n",
       "      <th>Departman</th>\n",
       "      <th>Çalısan</th>\n",
       "      <th>Maas</th>\n",
       "    </tr>\n",
       "  </thead>\n",
       "  <tbody>\n",
       "    <tr>\n",
       "      <th>0</th>\n",
       "      <td>Yazılım</td>\n",
       "      <td>Toygar</td>\n",
       "      <td>10000</td>\n",
       "    </tr>\n",
       "    <tr>\n",
       "      <th>1</th>\n",
       "      <td>Satış</td>\n",
       "      <td>Böçüş</td>\n",
       "      <td>20000</td>\n",
       "    </tr>\n",
       "    <tr>\n",
       "      <th>2</th>\n",
       "      <td>Finans</td>\n",
       "      <td>Taco</td>\n",
       "      <td>30000</td>\n",
       "    </tr>\n",
       "    <tr>\n",
       "      <th>3</th>\n",
       "      <td>İK</td>\n",
       "      <td>Buzz</td>\n",
       "      <td>40000</td>\n",
       "    </tr>\n",
       "    <tr>\n",
       "      <th>4</th>\n",
       "      <td>Hukuk</td>\n",
       "      <td>Çıtır</td>\n",
       "      <td>50000</td>\n",
       "    </tr>\n",
       "    <tr>\n",
       "      <th>5</th>\n",
       "      <td>Üretim</td>\n",
       "      <td>Kocakafa</td>\n",
       "      <td>60000</td>\n",
       "    </tr>\n",
       "  </tbody>\n",
       "</table>\n",
       "</div>"
      ],
      "text/plain": [
       "  Departman   Çalısan   Maas\n",
       "0   Yazılım    Toygar  10000\n",
       "1     Satış     Böçüş  20000\n",
       "2    Finans      Taco  30000\n",
       "3        İK      Buzz  40000\n",
       "4     Hukuk     Çıtır  50000\n",
       "5    Üretim  Kocakafa  60000"
      ]
     },
     "execution_count": 79,
     "metadata": {},
     "output_type": "execute_result"
    }
   ],
   "source": [
    "df = pd.DataFrame(wages_dict) #dataframe'i wages_dict ile oluşturduk\n",
    "\n",
    "df"
   ]
  },
  {
   "cell_type": "code",
   "execution_count": 80,
   "metadata": {},
   "outputs": [],
   "source": [
    "wages = {\"Departman\": [\"Yazılım\", \"Yazılım\", \"Finans\", \"Finans\", \"IK\", \"IK\"], \"Çalısan\": [\"Toygar\", \"Böçüş\", \"Taco\", \"Buzz\", \"Çıtır\", \"Kocakafa\"], \"Maas\": [10000,20000,30000,40000,50000,60000]}"
   ]
  },
  {
   "cell_type": "code",
   "execution_count": 81,
   "metadata": {},
   "outputs": [],
   "source": [
    "df= pd.DataFrame(wages) #dataframe'i wages ile oluşturduk"
   ]
  },
  {
   "cell_type": "code",
   "execution_count": 82,
   "metadata": {},
   "outputs": [
    {
     "data": {
      "text/html": [
       "<div>\n",
       "<style scoped>\n",
       "    .dataframe tbody tr th:only-of-type {\n",
       "        vertical-align: middle;\n",
       "    }\n",
       "\n",
       "    .dataframe tbody tr th {\n",
       "        vertical-align: top;\n",
       "    }\n",
       "\n",
       "    .dataframe thead th {\n",
       "        text-align: right;\n",
       "    }\n",
       "</style>\n",
       "<table border=\"1\" class=\"dataframe\">\n",
       "  <thead>\n",
       "    <tr style=\"text-align: right;\">\n",
       "      <th></th>\n",
       "      <th>Departman</th>\n",
       "      <th>Çalısan</th>\n",
       "      <th>Maas</th>\n",
       "    </tr>\n",
       "  </thead>\n",
       "  <tbody>\n",
       "    <tr>\n",
       "      <th>0</th>\n",
       "      <td>Yazılım</td>\n",
       "      <td>Toygar</td>\n",
       "      <td>10000</td>\n",
       "    </tr>\n",
       "    <tr>\n",
       "      <th>1</th>\n",
       "      <td>Yazılım</td>\n",
       "      <td>Böçüş</td>\n",
       "      <td>20000</td>\n",
       "    </tr>\n",
       "    <tr>\n",
       "      <th>2</th>\n",
       "      <td>Finans</td>\n",
       "      <td>Taco</td>\n",
       "      <td>30000</td>\n",
       "    </tr>\n",
       "    <tr>\n",
       "      <th>3</th>\n",
       "      <td>Finans</td>\n",
       "      <td>Buzz</td>\n",
       "      <td>40000</td>\n",
       "    </tr>\n",
       "    <tr>\n",
       "      <th>4</th>\n",
       "      <td>IK</td>\n",
       "      <td>Çıtır</td>\n",
       "      <td>50000</td>\n",
       "    </tr>\n",
       "    <tr>\n",
       "      <th>5</th>\n",
       "      <td>IK</td>\n",
       "      <td>Kocakafa</td>\n",
       "      <td>60000</td>\n",
       "    </tr>\n",
       "  </tbody>\n",
       "</table>\n",
       "</div>"
      ],
      "text/plain": [
       "  Departman   Çalısan   Maas\n",
       "0   Yazılım    Toygar  10000\n",
       "1   Yazılım     Böçüş  20000\n",
       "2    Finans      Taco  30000\n",
       "3    Finans      Buzz  40000\n",
       "4        IK     Çıtır  50000\n",
       "5        IK  Kocakafa  60000"
      ]
     },
     "execution_count": 82,
     "metadata": {},
     "output_type": "execute_result"
    }
   ],
   "source": [
    "df"
   ]
  },
  {
   "cell_type": "code",
   "execution_count": 83,
   "metadata": {},
   "outputs": [
    {
     "data": {
      "text/plain": [
       "<pandas.core.groupby.generic.DataFrameGroupBy object at 0x75ca482efd10>"
      ]
     },
     "execution_count": 83,
     "metadata": {},
     "output_type": "execute_result"
    }
   ],
   "source": [
    "df.groupby(\"Departman\") # departmana göre grupladık"
   ]
  },
  {
   "cell_type": "code",
   "execution_count": 84,
   "metadata": {},
   "outputs": [
    {
     "data": {
      "text/plain": [
       "<pandas.core.groupby.generic.DataFrameGroupBy object at 0x75ca48165df0>"
      ]
     },
     "execution_count": 84,
     "metadata": {},
     "output_type": "execute_result"
    }
   ],
   "source": [
    "dep_obj= df.groupby(\"Departman\") #departmana göre grupladık ve dep_obj değişkenine atadık\n",
    "dep_obj"
   ]
  },
  {
   "cell_type": "code",
   "execution_count": 85,
   "metadata": {},
   "outputs": [
    {
     "data": {
      "text/html": [
       "<div>\n",
       "<style scoped>\n",
       "    .dataframe tbody tr th:only-of-type {\n",
       "        vertical-align: middle;\n",
       "    }\n",
       "\n",
       "    .dataframe tbody tr th {\n",
       "        vertical-align: top;\n",
       "    }\n",
       "\n",
       "    .dataframe thead th {\n",
       "        text-align: right;\n",
       "    }\n",
       "</style>\n",
       "<table border=\"1\" class=\"dataframe\">\n",
       "  <thead>\n",
       "    <tr style=\"text-align: right;\">\n",
       "      <th></th>\n",
       "      <th>Çalısan</th>\n",
       "      <th>Maas</th>\n",
       "    </tr>\n",
       "    <tr>\n",
       "      <th>Departman</th>\n",
       "      <th></th>\n",
       "      <th></th>\n",
       "    </tr>\n",
       "  </thead>\n",
       "  <tbody>\n",
       "    <tr>\n",
       "      <th>Finans</th>\n",
       "      <td>2</td>\n",
       "      <td>2</td>\n",
       "    </tr>\n",
       "    <tr>\n",
       "      <th>IK</th>\n",
       "      <td>2</td>\n",
       "      <td>2</td>\n",
       "    </tr>\n",
       "    <tr>\n",
       "      <th>Yazılım</th>\n",
       "      <td>2</td>\n",
       "      <td>2</td>\n",
       "    </tr>\n",
       "  </tbody>\n",
       "</table>\n",
       "</div>"
      ],
      "text/plain": [
       "           Çalısan  Maas\n",
       "Departman               \n",
       "Finans           2     2\n",
       "IK               2     2\n",
       "Yazılım          2     2"
      ]
     },
     "execution_count": 85,
     "metadata": {},
     "output_type": "execute_result"
    }
   ],
   "source": [
    "dep_obj.count() #departmanlara göre kaç tane çalışan olduğunu getirir"
   ]
  },
  {
   "cell_type": "code",
   "execution_count": 86,
   "metadata": {},
   "outputs": [
    {
     "data": {
      "text/plain": [
       "Departman\n",
       "Finans     35000.0\n",
       "IK         55000.0\n",
       "Yazılım    15000.0\n",
       "Name: Maas, dtype: float64"
      ]
     },
     "execution_count": 86,
     "metadata": {},
     "output_type": "execute_result"
    }
   ],
   "source": [
    "dep_obj[\"Maas\"].mean() #departmanlara göre maaş ortalamasını getirir"
   ]
  },
  {
   "cell_type": "code",
   "execution_count": 87,
   "metadata": {},
   "outputs": [
    {
     "data": {
      "text/plain": [
       "35000.0"
      ]
     },
     "execution_count": 87,
     "metadata": {},
     "output_type": "execute_result"
    }
   ],
   "source": [
    "df[\"Maas\"].mean() #tüm maaşların ortalamasını getirir"
   ]
  },
  {
   "cell_type": "code",
   "execution_count": 88,
   "metadata": {},
   "outputs": [
    {
     "data": {
      "text/html": [
       "<div>\n",
       "<style scoped>\n",
       "    .dataframe tbody tr th:only-of-type {\n",
       "        vertical-align: middle;\n",
       "    }\n",
       "\n",
       "    .dataframe tbody tr th {\n",
       "        vertical-align: top;\n",
       "    }\n",
       "\n",
       "    .dataframe thead th {\n",
       "        text-align: right;\n",
       "    }\n",
       "</style>\n",
       "<table border=\"1\" class=\"dataframe\">\n",
       "  <thead>\n",
       "    <tr style=\"text-align: right;\">\n",
       "      <th></th>\n",
       "      <th>Departman</th>\n",
       "      <th>Finans</th>\n",
       "      <th>IK</th>\n",
       "      <th>Yazılım</th>\n",
       "    </tr>\n",
       "  </thead>\n",
       "  <tbody>\n",
       "    <tr>\n",
       "      <th rowspan=\"8\" valign=\"top\">Maas</th>\n",
       "      <th>count</th>\n",
       "      <td>2.000000</td>\n",
       "      <td>2.000000</td>\n",
       "      <td>2.000000</td>\n",
       "    </tr>\n",
       "    <tr>\n",
       "      <th>mean</th>\n",
       "      <td>35000.000000</td>\n",
       "      <td>55000.000000</td>\n",
       "      <td>15000.000000</td>\n",
       "    </tr>\n",
       "    <tr>\n",
       "      <th>std</th>\n",
       "      <td>7071.067812</td>\n",
       "      <td>7071.067812</td>\n",
       "      <td>7071.067812</td>\n",
       "    </tr>\n",
       "    <tr>\n",
       "      <th>min</th>\n",
       "      <td>30000.000000</td>\n",
       "      <td>50000.000000</td>\n",
       "      <td>10000.000000</td>\n",
       "    </tr>\n",
       "    <tr>\n",
       "      <th>25%</th>\n",
       "      <td>32500.000000</td>\n",
       "      <td>52500.000000</td>\n",
       "      <td>12500.000000</td>\n",
       "    </tr>\n",
       "    <tr>\n",
       "      <th>50%</th>\n",
       "      <td>35000.000000</td>\n",
       "      <td>55000.000000</td>\n",
       "      <td>15000.000000</td>\n",
       "    </tr>\n",
       "    <tr>\n",
       "      <th>75%</th>\n",
       "      <td>37500.000000</td>\n",
       "      <td>57500.000000</td>\n",
       "      <td>17500.000000</td>\n",
       "    </tr>\n",
       "    <tr>\n",
       "      <th>max</th>\n",
       "      <td>40000.000000</td>\n",
       "      <td>60000.000000</td>\n",
       "      <td>20000.000000</td>\n",
       "    </tr>\n",
       "  </tbody>\n",
       "</table>\n",
       "</div>"
      ],
      "text/plain": [
       "Departman         Finans            IK       Yazılım\n",
       "Maas count      2.000000      2.000000      2.000000\n",
       "     mean   35000.000000  55000.000000  15000.000000\n",
       "     std     7071.067812   7071.067812   7071.067812\n",
       "     min    30000.000000  50000.000000  10000.000000\n",
       "     25%    32500.000000  52500.000000  12500.000000\n",
       "     50%    35000.000000  55000.000000  15000.000000\n",
       "     75%    37500.000000  57500.000000  17500.000000\n",
       "     max    40000.000000  60000.000000  20000.000000"
      ]
     },
     "execution_count": 88,
     "metadata": {},
     "output_type": "execute_result"
    }
   ],
   "source": [
    "dep_obj.describe().T #departmanlara göre maaşların istatistiksel bilgilerini getirir"
   ]
  },
  {
   "cell_type": "code",
   "execution_count": 89,
   "metadata": {},
   "outputs": [
    {
     "data": {
      "text/html": [
       "<div>\n",
       "<style scoped>\n",
       "    .dataframe tbody tr th:only-of-type {\n",
       "        vertical-align: middle;\n",
       "    }\n",
       "\n",
       "    .dataframe tbody tr th {\n",
       "        vertical-align: top;\n",
       "    }\n",
       "\n",
       "    .dataframe thead tr th {\n",
       "        text-align: left;\n",
       "    }\n",
       "\n",
       "    .dataframe thead tr:last-of-type th {\n",
       "        text-align: right;\n",
       "    }\n",
       "</style>\n",
       "<table border=\"1\" class=\"dataframe\">\n",
       "  <thead>\n",
       "    <tr>\n",
       "      <th></th>\n",
       "      <th colspan=\"8\" halign=\"left\">Maas</th>\n",
       "    </tr>\n",
       "    <tr>\n",
       "      <th></th>\n",
       "      <th>count</th>\n",
       "      <th>mean</th>\n",
       "      <th>std</th>\n",
       "      <th>min</th>\n",
       "      <th>25%</th>\n",
       "      <th>50%</th>\n",
       "      <th>75%</th>\n",
       "      <th>max</th>\n",
       "    </tr>\n",
       "    <tr>\n",
       "      <th>Departman</th>\n",
       "      <th></th>\n",
       "      <th></th>\n",
       "      <th></th>\n",
       "      <th></th>\n",
       "      <th></th>\n",
       "      <th></th>\n",
       "      <th></th>\n",
       "      <th></th>\n",
       "    </tr>\n",
       "  </thead>\n",
       "  <tbody>\n",
       "    <tr>\n",
       "      <th>Finans</th>\n",
       "      <td>2.0</td>\n",
       "      <td>35000.0</td>\n",
       "      <td>7071.067812</td>\n",
       "      <td>30000.0</td>\n",
       "      <td>32500.0</td>\n",
       "      <td>35000.0</td>\n",
       "      <td>37500.0</td>\n",
       "      <td>40000.0</td>\n",
       "    </tr>\n",
       "    <tr>\n",
       "      <th>IK</th>\n",
       "      <td>2.0</td>\n",
       "      <td>55000.0</td>\n",
       "      <td>7071.067812</td>\n",
       "      <td>50000.0</td>\n",
       "      <td>52500.0</td>\n",
       "      <td>55000.0</td>\n",
       "      <td>57500.0</td>\n",
       "      <td>60000.0</td>\n",
       "    </tr>\n",
       "    <tr>\n",
       "      <th>Yazılım</th>\n",
       "      <td>2.0</td>\n",
       "      <td>15000.0</td>\n",
       "      <td>7071.067812</td>\n",
       "      <td>10000.0</td>\n",
       "      <td>12500.0</td>\n",
       "      <td>15000.0</td>\n",
       "      <td>17500.0</td>\n",
       "      <td>20000.0</td>\n",
       "    </tr>\n",
       "  </tbody>\n",
       "</table>\n",
       "</div>"
      ],
      "text/plain": [
       "           Maas                                                            \\\n",
       "          count     mean          std      min      25%      50%      75%   \n",
       "Departman                                                                   \n",
       "Finans      2.0  35000.0  7071.067812  30000.0  32500.0  35000.0  37500.0   \n",
       "IK          2.0  55000.0  7071.067812  50000.0  52500.0  55000.0  57500.0   \n",
       "Yazılım     2.0  15000.0  7071.067812  10000.0  12500.0  15000.0  17500.0   \n",
       "\n",
       "                    \n",
       "               max  \n",
       "Departman           \n",
       "Finans     40000.0  \n",
       "IK         60000.0  \n",
       "Yazılım    20000.0  "
      ]
     },
     "execution_count": 89,
     "metadata": {},
     "output_type": "execute_result"
    }
   ],
   "source": [
    "dep_obj.describe() #departmanlara göre maaşların istatistiksel bilgilerini getirir"
   ]
  },
  {
   "cell_type": "code",
   "execution_count": 90,
   "metadata": {},
   "outputs": [
    {
     "data": {
      "text/html": [
       "<div>\n",
       "<style scoped>\n",
       "    .dataframe tbody tr th:only-of-type {\n",
       "        vertical-align: middle;\n",
       "    }\n",
       "\n",
       "    .dataframe tbody tr th {\n",
       "        vertical-align: top;\n",
       "    }\n",
       "\n",
       "    .dataframe thead th {\n",
       "        text-align: right;\n",
       "    }\n",
       "</style>\n",
       "<table border=\"1\" class=\"dataframe\">\n",
       "  <thead>\n",
       "    <tr style=\"text-align: right;\">\n",
       "      <th></th>\n",
       "      <th>Çalısan</th>\n",
       "      <th>Maas</th>\n",
       "    </tr>\n",
       "    <tr>\n",
       "      <th>Departman</th>\n",
       "      <th></th>\n",
       "      <th></th>\n",
       "    </tr>\n",
       "  </thead>\n",
       "  <tbody>\n",
       "    <tr>\n",
       "      <th>Finans</th>\n",
       "      <td>Taco</td>\n",
       "      <td>40000</td>\n",
       "    </tr>\n",
       "    <tr>\n",
       "      <th>IK</th>\n",
       "      <td>Çıtır</td>\n",
       "      <td>60000</td>\n",
       "    </tr>\n",
       "    <tr>\n",
       "      <th>Yazılım</th>\n",
       "      <td>Toygar</td>\n",
       "      <td>20000</td>\n",
       "    </tr>\n",
       "  </tbody>\n",
       "</table>\n",
       "</div>"
      ],
      "text/plain": [
       "          Çalısan   Maas\n",
       "Departman               \n",
       "Finans       Taco  40000\n",
       "IK          Çıtır  60000\n",
       "Yazılım    Toygar  20000"
      ]
     },
     "execution_count": 90,
     "metadata": {},
     "output_type": "execute_result"
    }
   ],
   "source": [
    "dep_obj.max() #departmanlara göre en yüksek maaşı getirir"
   ]
  },
  {
   "cell_type": "code",
   "execution_count": 91,
   "metadata": {},
   "outputs": [
    {
     "data": {
      "text/html": [
       "<div>\n",
       "<style scoped>\n",
       "    .dataframe tbody tr th:only-of-type {\n",
       "        vertical-align: middle;\n",
       "    }\n",
       "\n",
       "    .dataframe tbody tr th {\n",
       "        vertical-align: top;\n",
       "    }\n",
       "\n",
       "    .dataframe thead th {\n",
       "        text-align: right;\n",
       "    }\n",
       "</style>\n",
       "<table border=\"1\" class=\"dataframe\">\n",
       "  <thead>\n",
       "    <tr style=\"text-align: right;\">\n",
       "      <th></th>\n",
       "      <th>Çalısan</th>\n",
       "      <th>Maas</th>\n",
       "    </tr>\n",
       "    <tr>\n",
       "      <th>Departman</th>\n",
       "      <th></th>\n",
       "      <th></th>\n",
       "    </tr>\n",
       "  </thead>\n",
       "  <tbody>\n",
       "    <tr>\n",
       "      <th>Finans</th>\n",
       "      <td>Buzz</td>\n",
       "      <td>30000</td>\n",
       "    </tr>\n",
       "    <tr>\n",
       "      <th>IK</th>\n",
       "      <td>Kocakafa</td>\n",
       "      <td>50000</td>\n",
       "    </tr>\n",
       "    <tr>\n",
       "      <th>Yazılım</th>\n",
       "      <td>Böçüş</td>\n",
       "      <td>10000</td>\n",
       "    </tr>\n",
       "  </tbody>\n",
       "</table>\n",
       "</div>"
      ],
      "text/plain": [
       "            Çalısan   Maas\n",
       "Departman                 \n",
       "Finans         Buzz  30000\n",
       "IK         Kocakafa  50000\n",
       "Yazılım       Böçüş  10000"
      ]
     },
     "execution_count": 91,
     "metadata": {},
     "output_type": "execute_result"
    }
   ],
   "source": [
    "dep_obj.min() #departmanlara göre en düşük maaşı getirir"
   ]
  },
  {
   "cell_type": "code",
   "execution_count": 92,
   "metadata": {},
   "outputs": [
    {
     "data": {
      "text/plain": [
       "Departman\n",
       "Finans     35000.0\n",
       "IK         55000.0\n",
       "Yazılım    15000.0\n",
       "Name: Maas, dtype: float64"
      ]
     },
     "execution_count": 92,
     "metadata": {},
     "output_type": "execute_result"
    }
   ],
   "source": [
    "dep_obj[\"Maas\"].mean() #departmanlara göre maaş ortalamasını getirir"
   ]
  },
  {
   "cell_type": "markdown",
   "metadata": {},
   "source": [
    "<code style=\"background:yellow;color:red\">Concat</code>\n",
    "\n",
    "farklı farklı dflerle birleştirmek, yan yana koymak, beraber bakmak"
   ]
  },
  {
   "cell_type": "code",
   "execution_count": 93,
   "metadata": {},
   "outputs": [],
   "source": [
    "vakifbank = { \"Player\": [\"Zehra Güneş\", \"Marina Markova\", \"Kiera Van Ryk\", \"Cansu Özbay\"], \"Position\": [\"Middle Blocker\", \"Opposite\", \"Opposite Attacker\",\"Setter\"], \"Scored\": [150,355,326,100]}          \n",
    "             \n",
    "eczacibasi = { \"Player\": [\"Tijana Boskovic\", \"Hande Baladin\", \"Dana Rettke\", \"Elif Şahin\"], \"Position\": [\"Opposite Attacker\", \"Opposite\",\"Middle Blocker\", \"Setter\"], \"Scored\": [450,300,250,200]}\n",
    "\n",
    "fenerbahce = { \"Player\": [\"Eda Erdem\", \"Meliha İsmailoğlu\", \"Melisa Vargas\",\"Boyana Dryca\"], \"Position\": [\"Middle Blocker\", \"Opposite\", \"Opposite Attacker\",\"Setter\"], \"Scored\": [200,250,500,125]}"
   ]
  },
  {
   "cell_type": "code",
   "execution_count": 94,
   "metadata": {},
   "outputs": [],
   "source": [
    "df1 = pd.DataFrame(vakifbank, index= [1,2,3,4]) #vakıfbank dataframe'i için index vererek oluşturduk\n",
    "df2 = pd.DataFrame(eczacibasi, index = [5,6,7,8]) #eczacıbaşı dataframe'i için index vererek oluşturduk\n",
    "df3 = pd.DataFrame(fenerbahce, index = [9,10,11,12]) #fenerbahçe dataframe'i için index vererek oluşturduk"
   ]
  },
  {
   "cell_type": "code",
   "execution_count": 95,
   "metadata": {},
   "outputs": [
    {
     "data": {
      "text/html": [
       "<div>\n",
       "<style scoped>\n",
       "    .dataframe tbody tr th:only-of-type {\n",
       "        vertical-align: middle;\n",
       "    }\n",
       "\n",
       "    .dataframe tbody tr th {\n",
       "        vertical-align: top;\n",
       "    }\n",
       "\n",
       "    .dataframe thead th {\n",
       "        text-align: right;\n",
       "    }\n",
       "</style>\n",
       "<table border=\"1\" class=\"dataframe\">\n",
       "  <thead>\n",
       "    <tr style=\"text-align: right;\">\n",
       "      <th></th>\n",
       "      <th>Player</th>\n",
       "      <th>Position</th>\n",
       "      <th>Scored</th>\n",
       "    </tr>\n",
       "  </thead>\n",
       "  <tbody>\n",
       "    <tr>\n",
       "      <th>1</th>\n",
       "      <td>Zehra Güneş</td>\n",
       "      <td>Middle Blocker</td>\n",
       "      <td>150</td>\n",
       "    </tr>\n",
       "    <tr>\n",
       "      <th>2</th>\n",
       "      <td>Marina Markova</td>\n",
       "      <td>Opposite</td>\n",
       "      <td>355</td>\n",
       "    </tr>\n",
       "    <tr>\n",
       "      <th>3</th>\n",
       "      <td>Kiera Van Ryk</td>\n",
       "      <td>Opposite Attacker</td>\n",
       "      <td>326</td>\n",
       "    </tr>\n",
       "    <tr>\n",
       "      <th>4</th>\n",
       "      <td>Cansu Özbay</td>\n",
       "      <td>Setter</td>\n",
       "      <td>100</td>\n",
       "    </tr>\n",
       "  </tbody>\n",
       "</table>\n",
       "</div>"
      ],
      "text/plain": [
       "           Player           Position  Scored\n",
       "1     Zehra Güneş     Middle Blocker     150\n",
       "2  Marina Markova           Opposite     355\n",
       "3   Kiera Van Ryk  Opposite Attacker     326\n",
       "4     Cansu Özbay             Setter     100"
      ]
     },
     "execution_count": 95,
     "metadata": {},
     "output_type": "execute_result"
    }
   ],
   "source": [
    "df1"
   ]
  },
  {
   "cell_type": "code",
   "execution_count": 96,
   "metadata": {},
   "outputs": [
    {
     "data": {
      "text/html": [
       "<div>\n",
       "<style scoped>\n",
       "    .dataframe tbody tr th:only-of-type {\n",
       "        vertical-align: middle;\n",
       "    }\n",
       "\n",
       "    .dataframe tbody tr th {\n",
       "        vertical-align: top;\n",
       "    }\n",
       "\n",
       "    .dataframe thead th {\n",
       "        text-align: right;\n",
       "    }\n",
       "</style>\n",
       "<table border=\"1\" class=\"dataframe\">\n",
       "  <thead>\n",
       "    <tr style=\"text-align: right;\">\n",
       "      <th></th>\n",
       "      <th>Player</th>\n",
       "      <th>Position</th>\n",
       "      <th>Scored</th>\n",
       "    </tr>\n",
       "  </thead>\n",
       "  <tbody>\n",
       "    <tr>\n",
       "      <th>5</th>\n",
       "      <td>Tijana Boskovic</td>\n",
       "      <td>Opposite Attacker</td>\n",
       "      <td>450</td>\n",
       "    </tr>\n",
       "    <tr>\n",
       "      <th>6</th>\n",
       "      <td>Hande Baladin</td>\n",
       "      <td>Opposite</td>\n",
       "      <td>300</td>\n",
       "    </tr>\n",
       "    <tr>\n",
       "      <th>7</th>\n",
       "      <td>Dana Rettke</td>\n",
       "      <td>Middle Blocker</td>\n",
       "      <td>250</td>\n",
       "    </tr>\n",
       "    <tr>\n",
       "      <th>8</th>\n",
       "      <td>Elif Şahin</td>\n",
       "      <td>Setter</td>\n",
       "      <td>200</td>\n",
       "    </tr>\n",
       "  </tbody>\n",
       "</table>\n",
       "</div>"
      ],
      "text/plain": [
       "            Player           Position  Scored\n",
       "5  Tijana Boskovic  Opposite Attacker     450\n",
       "6    Hande Baladin           Opposite     300\n",
       "7      Dana Rettke     Middle Blocker     250\n",
       "8       Elif Şahin             Setter     200"
      ]
     },
     "execution_count": 96,
     "metadata": {},
     "output_type": "execute_result"
    }
   ],
   "source": [
    "df2"
   ]
  },
  {
   "cell_type": "code",
   "execution_count": 97,
   "metadata": {},
   "outputs": [
    {
     "data": {
      "text/html": [
       "<div>\n",
       "<style scoped>\n",
       "    .dataframe tbody tr th:only-of-type {\n",
       "        vertical-align: middle;\n",
       "    }\n",
       "\n",
       "    .dataframe tbody tr th {\n",
       "        vertical-align: top;\n",
       "    }\n",
       "\n",
       "    .dataframe thead th {\n",
       "        text-align: right;\n",
       "    }\n",
       "</style>\n",
       "<table border=\"1\" class=\"dataframe\">\n",
       "  <thead>\n",
       "    <tr style=\"text-align: right;\">\n",
       "      <th></th>\n",
       "      <th>Player</th>\n",
       "      <th>Position</th>\n",
       "      <th>Scored</th>\n",
       "    </tr>\n",
       "  </thead>\n",
       "  <tbody>\n",
       "    <tr>\n",
       "      <th>9</th>\n",
       "      <td>Eda Erdem</td>\n",
       "      <td>Middle Blocker</td>\n",
       "      <td>200</td>\n",
       "    </tr>\n",
       "    <tr>\n",
       "      <th>10</th>\n",
       "      <td>Meliha İsmailoğlu</td>\n",
       "      <td>Opposite</td>\n",
       "      <td>250</td>\n",
       "    </tr>\n",
       "    <tr>\n",
       "      <th>11</th>\n",
       "      <td>Melisa Vargas</td>\n",
       "      <td>Opposite Attacker</td>\n",
       "      <td>500</td>\n",
       "    </tr>\n",
       "    <tr>\n",
       "      <th>12</th>\n",
       "      <td>Boyana Dryca</td>\n",
       "      <td>Setter</td>\n",
       "      <td>125</td>\n",
       "    </tr>\n",
       "  </tbody>\n",
       "</table>\n",
       "</div>"
      ],
      "text/plain": [
       "               Player           Position  Scored\n",
       "9           Eda Erdem     Middle Blocker     200\n",
       "10  Meliha İsmailoğlu           Opposite     250\n",
       "11      Melisa Vargas  Opposite Attacker     500\n",
       "12       Boyana Dryca             Setter     125"
      ]
     },
     "execution_count": 97,
     "metadata": {},
     "output_type": "execute_result"
    }
   ],
   "source": [
    "df3"
   ]
  },
  {
   "cell_type": "code",
   "execution_count": 98,
   "metadata": {},
   "outputs": [
    {
     "data": {
      "text/html": [
       "<div>\n",
       "<style scoped>\n",
       "    .dataframe tbody tr th:only-of-type {\n",
       "        vertical-align: middle;\n",
       "    }\n",
       "\n",
       "    .dataframe tbody tr th {\n",
       "        vertical-align: top;\n",
       "    }\n",
       "\n",
       "    .dataframe thead th {\n",
       "        text-align: right;\n",
       "    }\n",
       "</style>\n",
       "<table border=\"1\" class=\"dataframe\">\n",
       "  <thead>\n",
       "    <tr style=\"text-align: right;\">\n",
       "      <th></th>\n",
       "      <th>Player</th>\n",
       "      <th>Position</th>\n",
       "      <th>Scored</th>\n",
       "    </tr>\n",
       "  </thead>\n",
       "  <tbody>\n",
       "    <tr>\n",
       "      <th>1</th>\n",
       "      <td>Zehra Güneş</td>\n",
       "      <td>Middle Blocker</td>\n",
       "      <td>150</td>\n",
       "    </tr>\n",
       "    <tr>\n",
       "      <th>2</th>\n",
       "      <td>Marina Markova</td>\n",
       "      <td>Opposite</td>\n",
       "      <td>355</td>\n",
       "    </tr>\n",
       "    <tr>\n",
       "      <th>3</th>\n",
       "      <td>Kiera Van Ryk</td>\n",
       "      <td>Opposite Attacker</td>\n",
       "      <td>326</td>\n",
       "    </tr>\n",
       "    <tr>\n",
       "      <th>4</th>\n",
       "      <td>Cansu Özbay</td>\n",
       "      <td>Setter</td>\n",
       "      <td>100</td>\n",
       "    </tr>\n",
       "    <tr>\n",
       "      <th>5</th>\n",
       "      <td>Tijana Boskovic</td>\n",
       "      <td>Opposite Attacker</td>\n",
       "      <td>450</td>\n",
       "    </tr>\n",
       "    <tr>\n",
       "      <th>6</th>\n",
       "      <td>Hande Baladin</td>\n",
       "      <td>Opposite</td>\n",
       "      <td>300</td>\n",
       "    </tr>\n",
       "    <tr>\n",
       "      <th>7</th>\n",
       "      <td>Dana Rettke</td>\n",
       "      <td>Middle Blocker</td>\n",
       "      <td>250</td>\n",
       "    </tr>\n",
       "    <tr>\n",
       "      <th>8</th>\n",
       "      <td>Elif Şahin</td>\n",
       "      <td>Setter</td>\n",
       "      <td>200</td>\n",
       "    </tr>\n",
       "    <tr>\n",
       "      <th>9</th>\n",
       "      <td>Eda Erdem</td>\n",
       "      <td>Middle Blocker</td>\n",
       "      <td>200</td>\n",
       "    </tr>\n",
       "    <tr>\n",
       "      <th>10</th>\n",
       "      <td>Meliha İsmailoğlu</td>\n",
       "      <td>Opposite</td>\n",
       "      <td>250</td>\n",
       "    </tr>\n",
       "    <tr>\n",
       "      <th>11</th>\n",
       "      <td>Melisa Vargas</td>\n",
       "      <td>Opposite Attacker</td>\n",
       "      <td>500</td>\n",
       "    </tr>\n",
       "    <tr>\n",
       "      <th>12</th>\n",
       "      <td>Boyana Dryca</td>\n",
       "      <td>Setter</td>\n",
       "      <td>125</td>\n",
       "    </tr>\n",
       "  </tbody>\n",
       "</table>\n",
       "</div>"
      ],
      "text/plain": [
       "               Player           Position  Scored\n",
       "1         Zehra Güneş     Middle Blocker     150\n",
       "2      Marina Markova           Opposite     355\n",
       "3       Kiera Van Ryk  Opposite Attacker     326\n",
       "4         Cansu Özbay             Setter     100\n",
       "5     Tijana Boskovic  Opposite Attacker     450\n",
       "6       Hande Baladin           Opposite     300\n",
       "7         Dana Rettke     Middle Blocker     250\n",
       "8          Elif Şahin             Setter     200\n",
       "9           Eda Erdem     Middle Blocker     200\n",
       "10  Meliha İsmailoğlu           Opposite     250\n",
       "11      Melisa Vargas  Opposite Attacker     500\n",
       "12       Boyana Dryca             Setter     125"
      ]
     },
     "execution_count": 98,
     "metadata": {},
     "output_type": "execute_result"
    }
   ],
   "source": [
    "#concat() fonksiyonu ile dataframe'leri birleştirebiliriz - concatenation\n",
    "\n",
    "pd.concat([df1,df2,df3]) #dataframe'leri birleştirdik, default olarak axis=0, row bazında birleştirir, axis=1 deseydik hepsini yanyana birleştirirdi"
   ]
  },
  {
   "cell_type": "markdown",
   "metadata": {},
   "source": [
    "<code style=\"background:yellow;color:red\">Merge</code>\n",
    "\n",
    "kaynaştırmak"
   ]
  },
  {
   "cell_type": "code",
   "execution_count": 99,
   "metadata": {},
   "outputs": [],
   "source": [
    "vakifbank1 = { \"Player\": [\"Zehra Güneş\", \"Marina Markova\", \"Kiera Van Ryk\", \"Cansu Özbay\"], \"Position\": [\"Middle Blocker\", \"Opposite\", \"Opposite Attacker\",\"Setter\"]}\n",
    "vakifbank2 = { \"Player\": [\"Zehra Güneş\", \"Marina Markova\", \"Kiera Van Ryk\", \"Cansu Özbay\"],  \"Scored\": [150,355,326,100]}\n",
    "\n",
    "#iki farklı dictionary ile vakıfbank dataframe'ini oluşturucağız, merge işlemi yapacağız, ortak bir column üzerinden birleştireceğiz"
   ]
  },
  {
   "cell_type": "code",
   "execution_count": 100,
   "metadata": {},
   "outputs": [],
   "source": [
    "vdf = pd.merge(pd.DataFrame(vakifbank1), pd.DataFrame(vakifbank2)) #merge işlemi yaptık, default olarak inner join yaptı, ortak column üzerinden birleştirdi"
   ]
  },
  {
   "cell_type": "code",
   "execution_count": 101,
   "metadata": {},
   "outputs": [
    {
     "data": {
      "text/html": [
       "<div>\n",
       "<style scoped>\n",
       "    .dataframe tbody tr th:only-of-type {\n",
       "        vertical-align: middle;\n",
       "    }\n",
       "\n",
       "    .dataframe tbody tr th {\n",
       "        vertical-align: top;\n",
       "    }\n",
       "\n",
       "    .dataframe thead th {\n",
       "        text-align: right;\n",
       "    }\n",
       "</style>\n",
       "<table border=\"1\" class=\"dataframe\">\n",
       "  <thead>\n",
       "    <tr style=\"text-align: right;\">\n",
       "      <th></th>\n",
       "      <th>Player</th>\n",
       "      <th>Position</th>\n",
       "      <th>Scored</th>\n",
       "    </tr>\n",
       "  </thead>\n",
       "  <tbody>\n",
       "    <tr>\n",
       "      <th>0</th>\n",
       "      <td>Zehra Güneş</td>\n",
       "      <td>Middle Blocker</td>\n",
       "      <td>150</td>\n",
       "    </tr>\n",
       "    <tr>\n",
       "      <th>1</th>\n",
       "      <td>Marina Markova</td>\n",
       "      <td>Opposite</td>\n",
       "      <td>355</td>\n",
       "    </tr>\n",
       "    <tr>\n",
       "      <th>2</th>\n",
       "      <td>Kiera Van Ryk</td>\n",
       "      <td>Opposite Attacker</td>\n",
       "      <td>326</td>\n",
       "    </tr>\n",
       "    <tr>\n",
       "      <th>3</th>\n",
       "      <td>Cansu Özbay</td>\n",
       "      <td>Setter</td>\n",
       "      <td>100</td>\n",
       "    </tr>\n",
       "  </tbody>\n",
       "</table>\n",
       "</div>"
      ],
      "text/plain": [
       "           Player           Position  Scored\n",
       "0     Zehra Güneş     Middle Blocker     150\n",
       "1  Marina Markova           Opposite     355\n",
       "2   Kiera Van Ryk  Opposite Attacker     326\n",
       "3     Cansu Özbay             Setter     100"
      ]
     },
     "execution_count": 101,
     "metadata": {},
     "output_type": "execute_result"
    }
   ],
   "source": [
    "vdf    #By default, pd.merge performs an inner join, meaning only rows with matching Player values in both DataFrames are included in the result, Default Merge Type (how=\"inner\")"
   ]
  },
  {
   "cell_type": "markdown",
   "metadata": {},
   "source": [
    "Handling Non-Matching Rows: If the Player columns in the two dictionaries contained non-matching rows, you could handle them using different merge types (how parameter):\n",
    "\n",
    "how=\"left\": Keeps all rows from the left DataFrame (vakifbank1), adding NaN where there is no match.   \n",
    "how=\"right\": Keeps all rows from the right DataFrame (vakifbank2), adding NaN where there is no match.   \n",
    "how=\"outer\": Keeps all rows from both DataFrames, filling in NaN for missing matches.\n",
    "\n",
    "\n",
    "\n",
    "When duplicate columns exist, you can prevent pandas from adding the default _x and _y suffixes, you can explicitly specify custom suffixes with the suffixes parameter.\n",
    "\n",
    "```vdf = pd.merge(vakifbank, vakifbank2, on=\"Player\", suffixes=(\"_old\", \"_new\"))```\n",
    "\n"
   ]
  },
  {
   "cell_type": "code",
   "execution_count": 102,
   "metadata": {},
   "outputs": [],
   "source": [
    "vdf_on = pd.merge(pd.DataFrame(vakifbank1), pd.DataFrame(vakifbank2), on=\"Player\") #merge işlemi yaptık, on parametresi ile hangi column üzerinden birleştireceğimizi belirttik"
   ]
  },
  {
   "cell_type": "code",
   "execution_count": 103,
   "metadata": {},
   "outputs": [
    {
     "data": {
      "text/html": [
       "<div>\n",
       "<style scoped>\n",
       "    .dataframe tbody tr th:only-of-type {\n",
       "        vertical-align: middle;\n",
       "    }\n",
       "\n",
       "    .dataframe tbody tr th {\n",
       "        vertical-align: top;\n",
       "    }\n",
       "\n",
       "    .dataframe thead th {\n",
       "        text-align: right;\n",
       "    }\n",
       "</style>\n",
       "<table border=\"1\" class=\"dataframe\">\n",
       "  <thead>\n",
       "    <tr style=\"text-align: right;\">\n",
       "      <th></th>\n",
       "      <th>Player</th>\n",
       "      <th>Position</th>\n",
       "      <th>Scored</th>\n",
       "    </tr>\n",
       "  </thead>\n",
       "  <tbody>\n",
       "    <tr>\n",
       "      <th>0</th>\n",
       "      <td>Zehra Güneş</td>\n",
       "      <td>Middle Blocker</td>\n",
       "      <td>150</td>\n",
       "    </tr>\n",
       "    <tr>\n",
       "      <th>1</th>\n",
       "      <td>Marina Markova</td>\n",
       "      <td>Opposite</td>\n",
       "      <td>355</td>\n",
       "    </tr>\n",
       "    <tr>\n",
       "      <th>2</th>\n",
       "      <td>Kiera Van Ryk</td>\n",
       "      <td>Opposite Attacker</td>\n",
       "      <td>326</td>\n",
       "    </tr>\n",
       "    <tr>\n",
       "      <th>3</th>\n",
       "      <td>Cansu Özbay</td>\n",
       "      <td>Setter</td>\n",
       "      <td>100</td>\n",
       "    </tr>\n",
       "  </tbody>\n",
       "</table>\n",
       "</div>"
      ],
      "text/plain": [
       "           Player           Position  Scored\n",
       "0     Zehra Güneş     Middle Blocker     150\n",
       "1  Marina Markova           Opposite     355\n",
       "2   Kiera Van Ryk  Opposite Attacker     326\n",
       "3     Cansu Özbay             Setter     100"
      ]
     },
     "execution_count": 103,
     "metadata": {},
     "output_type": "execute_result"
    }
   ],
   "source": [
    "vdf_on"
   ]
  },
  {
   "cell_type": "markdown",
   "metadata": {},
   "source": [
    "\n",
    "<code style=\"background:yellow;color:red\">Pandas İleri Operasyonlar</code>\n",
    "\n",
    "bazı püf noktaları\n"
   ]
  },
  {
   "cell_type": "code",
   "execution_count": 104,
   "metadata": {},
   "outputs": [],
   "source": [
    "wages_new = wages_dict.copy() #wages_dict'in kopyasını oluşturduk"
   ]
  },
  {
   "cell_type": "code",
   "execution_count": 105,
   "metadata": {},
   "outputs": [],
   "source": [
    "wages_new[\"Departman\"] = [\"Yazılım\", \"Satış\", \"Finans\", \"İK\"] #Departman columnunu değiştirdik"
   ]
  },
  {
   "cell_type": "code",
   "execution_count": 106,
   "metadata": {},
   "outputs": [],
   "source": [
    "wages_new[\"Çalısan\"] = [\"Toygar\", \"Böçüş\", \"Taco\", \"Buzz\"] #Çalısan columnunu değiştirdik"
   ]
  },
  {
   "cell_type": "code",
   "execution_count": 107,
   "metadata": {},
   "outputs": [],
   "source": [
    "wages_new[\"Maas\"] = [10000,20000,30000,40000] #Maas columnunu değiştirdik"
   ]
  },
  {
   "cell_type": "code",
   "execution_count": 108,
   "metadata": {},
   "outputs": [
    {
     "data": {
      "text/html": [
       "<div>\n",
       "<style scoped>\n",
       "    .dataframe tbody tr th:only-of-type {\n",
       "        vertical-align: middle;\n",
       "    }\n",
       "\n",
       "    .dataframe tbody tr th {\n",
       "        vertical-align: top;\n",
       "    }\n",
       "\n",
       "    .dataframe thead th {\n",
       "        text-align: right;\n",
       "    }\n",
       "</style>\n",
       "<table border=\"1\" class=\"dataframe\">\n",
       "  <thead>\n",
       "    <tr style=\"text-align: right;\">\n",
       "      <th></th>\n",
       "      <th>Departman</th>\n",
       "      <th>Çalısan</th>\n",
       "      <th>Maas</th>\n",
       "    </tr>\n",
       "  </thead>\n",
       "  <tbody>\n",
       "    <tr>\n",
       "      <th>0</th>\n",
       "      <td>Yazılım</td>\n",
       "      <td>Toygar</td>\n",
       "      <td>10000</td>\n",
       "    </tr>\n",
       "    <tr>\n",
       "      <th>1</th>\n",
       "      <td>Satış</td>\n",
       "      <td>Böçüş</td>\n",
       "      <td>20000</td>\n",
       "    </tr>\n",
       "    <tr>\n",
       "      <th>2</th>\n",
       "      <td>Finans</td>\n",
       "      <td>Taco</td>\n",
       "      <td>30000</td>\n",
       "    </tr>\n",
       "    <tr>\n",
       "      <th>3</th>\n",
       "      <td>İK</td>\n",
       "      <td>Buzz</td>\n",
       "      <td>40000</td>\n",
       "    </tr>\n",
       "  </tbody>\n",
       "</table>\n",
       "</div>"
      ],
      "text/plain": [
       "  Departman Çalısan   Maas\n",
       "0   Yazılım  Toygar  10000\n",
       "1     Satış   Böçüş  20000\n",
       "2    Finans    Taco  30000\n",
       "3        İK    Buzz  40000"
      ]
     },
     "execution_count": 108,
     "metadata": {},
     "output_type": "execute_result"
    }
   ],
   "source": [
    "df4 = pd.DataFrame(wages_new) #dataframe'i oluşturduk\n",
    "\n",
    "df4"
   ]
  },
  {
   "cell_type": "code",
   "execution_count": 109,
   "metadata": {},
   "outputs": [
    {
     "name": "stderr",
     "output_type": "stream",
     "text": [
      "/tmp/ipykernel_6461/581210123.py:1: FutureWarning: ChainedAssignmentError: behaviour will change in pandas 3.0!\n",
      "You are setting values through chained assignment. Currently this works in certain cases, but when using Copy-on-Write (which will become the default behaviour in pandas 3.0) this will never work to update the original DataFrame or Series, because the intermediate object on which we are setting values will behave as a copy.\n",
      "A typical example is when you are setting values in a column of a DataFrame, like:\n",
      "\n",
      "df[\"col\"][row_indexer] = value\n",
      "\n",
      "Use `df.loc[row_indexer, \"col\"] = values` instead, to perform the assignment in a single step and ensure this keeps updating the original `df`.\n",
      "\n",
      "See the caveats in the documentation: https://pandas.pydata.org/pandas-docs/stable/user_guide/indexing.html#returning-a-view-versus-a-copy\n",
      "\n",
      "  df4[\"Departman\"].iloc[3] = \"Yazılım\" #Departman columnundaki 3. indexi değiştirdik\n",
      "/tmp/ipykernel_6461/581210123.py:1: SettingWithCopyWarning: \n",
      "A value is trying to be set on a copy of a slice from a DataFrame\n",
      "\n",
      "See the caveats in the documentation: https://pandas.pydata.org/pandas-docs/stable/user_guide/indexing.html#returning-a-view-versus-a-copy\n",
      "  df4[\"Departman\"].iloc[3] = \"Yazılım\" #Departman columnundaki 3. indexi değiştirdik\n"
     ]
    }
   ],
   "source": [
    "df4[\"Departman\"].iloc[3] = \"Yazılım\" #Departman columnundaki 3. indexi değiştirdik"
   ]
  },
  {
   "cell_type": "code",
   "execution_count": 110,
   "metadata": {},
   "outputs": [
    {
     "data": {
      "text/html": [
       "<div>\n",
       "<style scoped>\n",
       "    .dataframe tbody tr th:only-of-type {\n",
       "        vertical-align: middle;\n",
       "    }\n",
       "\n",
       "    .dataframe tbody tr th {\n",
       "        vertical-align: top;\n",
       "    }\n",
       "\n",
       "    .dataframe thead th {\n",
       "        text-align: right;\n",
       "    }\n",
       "</style>\n",
       "<table border=\"1\" class=\"dataframe\">\n",
       "  <thead>\n",
       "    <tr style=\"text-align: right;\">\n",
       "      <th></th>\n",
       "      <th>Departman</th>\n",
       "      <th>Çalısan</th>\n",
       "      <th>Maas</th>\n",
       "    </tr>\n",
       "  </thead>\n",
       "  <tbody>\n",
       "    <tr>\n",
       "      <th>0</th>\n",
       "      <td>Yazılım</td>\n",
       "      <td>Toygar</td>\n",
       "      <td>10000</td>\n",
       "    </tr>\n",
       "    <tr>\n",
       "      <th>1</th>\n",
       "      <td>Satış</td>\n",
       "      <td>Böçüş</td>\n",
       "      <td>20000</td>\n",
       "    </tr>\n",
       "    <tr>\n",
       "      <th>2</th>\n",
       "      <td>Finans</td>\n",
       "      <td>Taco</td>\n",
       "      <td>30000</td>\n",
       "    </tr>\n",
       "    <tr>\n",
       "      <th>3</th>\n",
       "      <td>Yazılım</td>\n",
       "      <td>Buzz</td>\n",
       "      <td>40000</td>\n",
       "    </tr>\n",
       "  </tbody>\n",
       "</table>\n",
       "</div>"
      ],
      "text/plain": [
       "  Departman Çalısan   Maas\n",
       "0   Yazılım  Toygar  10000\n",
       "1     Satış   Böçüş  20000\n",
       "2    Finans    Taco  30000\n",
       "3   Yazılım    Buzz  40000"
      ]
     },
     "execution_count": 110,
     "metadata": {},
     "output_type": "execute_result"
    }
   ],
   "source": [
    "df4"
   ]
  },
  {
   "cell_type": "code",
   "execution_count": 111,
   "metadata": {},
   "outputs": [
    {
     "data": {
      "text/plain": [
       "array(['Yazılım', 'Satış', 'Finans'], dtype=object)"
      ]
     },
     "execution_count": 111,
     "metadata": {},
     "output_type": "execute_result"
    }
   ],
   "source": [
    "df4[\"Departman\"].unique() #Departman columnundaki unique değerleri getirir, unique() fonksiyonu ile"
   ]
  },
  {
   "cell_type": "code",
   "execution_count": 112,
   "metadata": {},
   "outputs": [
    {
     "data": {
      "text/plain": [
       "3"
      ]
     },
     "execution_count": 112,
     "metadata": {},
     "output_type": "execute_result"
    }
   ],
   "source": [
    "df4[\"Departman\"].nunique() #Departman columnundaki unique değerlerin sayısını getirir, nunique() fonksiyonu ile"
   ]
  },
  {
   "cell_type": "code",
   "execution_count": 113,
   "metadata": {},
   "outputs": [
    {
     "data": {
      "text/plain": [
       "Departman\n",
       "Yazılım    2\n",
       "Satış      1\n",
       "Finans     1\n",
       "Name: count, dtype: int64"
      ]
     },
     "execution_count": 113,
     "metadata": {},
     "output_type": "execute_result"
    }
   ],
   "source": [
    "df4[\"Departman\"].value_counts() #Departman columnundaki unique değerlerin kaçar tane olduğunu getirir, value_counts() fonksiyonu ile"
   ]
  },
  {
   "cell_type": "code",
   "execution_count": 114,
   "metadata": {},
   "outputs": [],
   "source": [
    "def grosstonet(maas):  #maaşın 0.66'sını getiren fonksiyon\n",
    "    return maas*0.66"
   ]
  },
  {
   "cell_type": "code",
   "execution_count": 115,
   "metadata": {},
   "outputs": [
    {
     "data": {
      "text/plain": [
       "0    10000\n",
       "1    20000\n",
       "2    30000\n",
       "3    40000\n",
       "4    50000\n",
       "5    60000\n",
       "Name: Maas, dtype: int64"
      ]
     },
     "execution_count": 115,
     "metadata": {},
     "output_type": "execute_result"
    }
   ],
   "source": [
    "df[\"Maas\"]"
   ]
  },
  {
   "cell_type": "code",
   "execution_count": 116,
   "metadata": {},
   "outputs": [
    {
     "data": {
      "text/plain": [
       "0     6600.0\n",
       "1    13200.0\n",
       "2    19800.0\n",
       "3    26400.0\n",
       "4    33000.0\n",
       "5    39600.0\n",
       "Name: Maas, dtype: float64"
      ]
     },
     "execution_count": 116,
     "metadata": {},
     "output_type": "execute_result"
    }
   ],
   "source": [
    "df[\"Maas\"].apply(grosstonet) #apply() fonksiyonu ile bir fonksiyonu dataframe üzerinde uygulayabiliriz"
   ]
  },
  {
   "cell_type": "code",
   "execution_count": 117,
   "metadata": {},
   "outputs": [
    {
     "data": {
      "text/html": [
       "<div>\n",
       "<style scoped>\n",
       "    .dataframe tbody tr th:only-of-type {\n",
       "        vertical-align: middle;\n",
       "    }\n",
       "\n",
       "    .dataframe tbody tr th {\n",
       "        vertical-align: top;\n",
       "    }\n",
       "\n",
       "    .dataframe thead th {\n",
       "        text-align: right;\n",
       "    }\n",
       "</style>\n",
       "<table border=\"1\" class=\"dataframe\">\n",
       "  <thead>\n",
       "    <tr style=\"text-align: right;\">\n",
       "      <th></th>\n",
       "      <th>Departman</th>\n",
       "      <th>Çalısan</th>\n",
       "      <th>Maas</th>\n",
       "    </tr>\n",
       "  </thead>\n",
       "  <tbody>\n",
       "    <tr>\n",
       "      <th>0</th>\n",
       "      <td>False</td>\n",
       "      <td>False</td>\n",
       "      <td>False</td>\n",
       "    </tr>\n",
       "    <tr>\n",
       "      <th>1</th>\n",
       "      <td>False</td>\n",
       "      <td>False</td>\n",
       "      <td>False</td>\n",
       "    </tr>\n",
       "    <tr>\n",
       "      <th>2</th>\n",
       "      <td>False</td>\n",
       "      <td>False</td>\n",
       "      <td>False</td>\n",
       "    </tr>\n",
       "    <tr>\n",
       "      <th>3</th>\n",
       "      <td>False</td>\n",
       "      <td>False</td>\n",
       "      <td>False</td>\n",
       "    </tr>\n",
       "  </tbody>\n",
       "</table>\n",
       "</div>"
      ],
      "text/plain": [
       "   Departman  Çalısan   Maas\n",
       "0      False    False  False\n",
       "1      False    False  False\n",
       "2      False    False  False\n",
       "3      False    False  False"
      ]
     },
     "execution_count": 117,
     "metadata": {},
     "output_type": "execute_result"
    }
   ],
   "source": [
    "#isnull() fonksiyonu ile NaN değerleri kontrol edebiliriz\n",
    "\n",
    "df4.isnull() #NaN değerleri kontrol eder, NaN değerler True, non-NaN değerler False olur"
   ]
  },
  {
   "cell_type": "code",
   "execution_count": 118,
   "metadata": {},
   "outputs": [
    {
     "data": {
      "text/html": [
       "<div>\n",
       "<style scoped>\n",
       "    .dataframe tbody tr th:only-of-type {\n",
       "        vertical-align: middle;\n",
       "    }\n",
       "\n",
       "    .dataframe tbody tr th {\n",
       "        vertical-align: top;\n",
       "    }\n",
       "\n",
       "    .dataframe thead th {\n",
       "        text-align: right;\n",
       "    }\n",
       "</style>\n",
       "<table border=\"1\" class=\"dataframe\">\n",
       "  <thead>\n",
       "    <tr style=\"text-align: right;\">\n",
       "      <th></th>\n",
       "      <th>Departman</th>\n",
       "      <th>Çalısan</th>\n",
       "      <th>Maas</th>\n",
       "    </tr>\n",
       "  </thead>\n",
       "  <tbody>\n",
       "    <tr>\n",
       "      <th>0</th>\n",
       "      <td>Yazılım</td>\n",
       "      <td>Toygar</td>\n",
       "      <td>10000</td>\n",
       "    </tr>\n",
       "    <tr>\n",
       "      <th>1</th>\n",
       "      <td>Satış</td>\n",
       "      <td>Böçüş</td>\n",
       "      <td>20000</td>\n",
       "    </tr>\n",
       "    <tr>\n",
       "      <th>2</th>\n",
       "      <td>Finans</td>\n",
       "      <td>Taco</td>\n",
       "      <td>30000</td>\n",
       "    </tr>\n",
       "    <tr>\n",
       "      <th>3</th>\n",
       "      <td>Yazılım</td>\n",
       "      <td>Buzz</td>\n",
       "      <td>40000</td>\n",
       "    </tr>\n",
       "  </tbody>\n",
       "</table>\n",
       "</div>"
      ],
      "text/plain": [
       "  Departman Çalısan   Maas\n",
       "0   Yazılım  Toygar  10000\n",
       "1     Satış   Böçüş  20000\n",
       "2    Finans    Taco  30000\n",
       "3   Yazılım    Buzz  40000"
      ]
     },
     "execution_count": 118,
     "metadata": {},
     "output_type": "execute_result"
    }
   ],
   "source": [
    "df4"
   ]
  },
  {
   "cell_type": "code",
   "execution_count": 119,
   "metadata": {},
   "outputs": [
    {
     "data": {
      "text/plain": [
       "Departman    0\n",
       "Çalısan      0\n",
       "Maas         0\n",
       "dtype: int64"
      ]
     },
     "execution_count": 119,
     "metadata": {},
     "output_type": "execute_result"
    }
   ],
   "source": [
    "#To count the number of NaN values:\n",
    "df.isnull().sum() #NaN değerlerin toplam sayısını getirir"
   ]
  },
  {
   "cell_type": "code",
   "execution_count": 120,
   "metadata": {},
   "outputs": [
    {
     "data": {
      "text/html": [
       "<div>\n",
       "<style scoped>\n",
       "    .dataframe tbody tr th:only-of-type {\n",
       "        vertical-align: middle;\n",
       "    }\n",
       "\n",
       "    .dataframe tbody tr th {\n",
       "        vertical-align: top;\n",
       "    }\n",
       "\n",
       "    .dataframe thead th {\n",
       "        text-align: right;\n",
       "    }\n",
       "</style>\n",
       "<table border=\"1\" class=\"dataframe\">\n",
       "  <thead>\n",
       "    <tr style=\"text-align: right;\">\n",
       "      <th></th>\n",
       "      <th>Departman</th>\n",
       "      <th>Çalısan</th>\n",
       "      <th>Maas</th>\n",
       "    </tr>\n",
       "  </thead>\n",
       "  <tbody>\n",
       "  </tbody>\n",
       "</table>\n",
       "</div>"
      ],
      "text/plain": [
       "Empty DataFrame\n",
       "Columns: [Departman, Çalısan, Maas]\n",
       "Index: []"
      ]
     },
     "execution_count": 120,
     "metadata": {},
     "output_type": "execute_result"
    }
   ],
   "source": [
    "#To filter rows with NaN values:\n",
    "df[df.isnull().any(axis=1)] #NaN değerleri olan rowları getirir, any(axis=1) column bazında rowlarda en az bir tane NaN değer varsa o rowu getirir"
   ]
  },
  {
   "cell_type": "code",
   "execution_count": 121,
   "metadata": {},
   "outputs": [],
   "source": [
    "#pivot_table() fonksiyonu ile veriyi pivot tablo haline getirebiliriz\n",
    "\n",
    "df5 = pd.DataFrame({\"A\":[\"foo\", \"foo\", \"foo\", \"bar\", \"bar\", \"bar\"], \"B\":[\"one\", \"one\", \"two\", \"two\", \"one\", \"one\"], \"C\":[1,3,2,5,4,1]})"
   ]
  },
  {
   "cell_type": "code",
   "execution_count": 122,
   "metadata": {},
   "outputs": [],
   "source": [
    "cartoon = { \"Karakter Sınıfı\": [\"South Park\", \"South Park\", \"South Park\", \"Simpsons\", \"Simpsons\", \"Simpsons\"], \"Karakter\": [\"Cartman\", \"Kenny\", \"Kyle\", \"Homer\", \"Bart\", \"Marge\"], \"Karakter Yaş\": [10,8,9,50,10,50]}"
   ]
  },
  {
   "cell_type": "code",
   "execution_count": 123,
   "metadata": {},
   "outputs": [
    {
     "data": {
      "text/html": [
       "<div>\n",
       "<style scoped>\n",
       "    .dataframe tbody tr th:only-of-type {\n",
       "        vertical-align: middle;\n",
       "    }\n",
       "\n",
       "    .dataframe tbody tr th {\n",
       "        vertical-align: top;\n",
       "    }\n",
       "\n",
       "    .dataframe thead th {\n",
       "        text-align: right;\n",
       "    }\n",
       "</style>\n",
       "<table border=\"1\" class=\"dataframe\">\n",
       "  <thead>\n",
       "    <tr style=\"text-align: right;\">\n",
       "      <th></th>\n",
       "      <th>Karakter Sınıfı</th>\n",
       "      <th>Karakter</th>\n",
       "      <th>Karakter Yaş</th>\n",
       "    </tr>\n",
       "  </thead>\n",
       "  <tbody>\n",
       "    <tr>\n",
       "      <th>0</th>\n",
       "      <td>South Park</td>\n",
       "      <td>Cartman</td>\n",
       "      <td>10</td>\n",
       "    </tr>\n",
       "    <tr>\n",
       "      <th>1</th>\n",
       "      <td>South Park</td>\n",
       "      <td>Kenny</td>\n",
       "      <td>8</td>\n",
       "    </tr>\n",
       "    <tr>\n",
       "      <th>2</th>\n",
       "      <td>South Park</td>\n",
       "      <td>Kyle</td>\n",
       "      <td>9</td>\n",
       "    </tr>\n",
       "    <tr>\n",
       "      <th>3</th>\n",
       "      <td>Simpsons</td>\n",
       "      <td>Homer</td>\n",
       "      <td>50</td>\n",
       "    </tr>\n",
       "    <tr>\n",
       "      <th>4</th>\n",
       "      <td>Simpsons</td>\n",
       "      <td>Bart</td>\n",
       "      <td>10</td>\n",
       "    </tr>\n",
       "    <tr>\n",
       "      <th>5</th>\n",
       "      <td>Simpsons</td>\n",
       "      <td>Marge</td>\n",
       "      <td>50</td>\n",
       "    </tr>\n",
       "  </tbody>\n",
       "</table>\n",
       "</div>"
      ],
      "text/plain": [
       "  Karakter Sınıfı Karakter  Karakter Yaş\n",
       "0      South Park  Cartman            10\n",
       "1      South Park    Kenny             8\n",
       "2      South Park     Kyle             9\n",
       "3        Simpsons    Homer            50\n",
       "4        Simpsons     Bart            10\n",
       "5        Simpsons    Marge            50"
      ]
     },
     "execution_count": 123,
     "metadata": {},
     "output_type": "execute_result"
    }
   ],
   "source": [
    "df6 = pd.DataFrame(cartoon)\n",
    "\n",
    "df6"
   ]
  },
  {
   "cell_type": "code",
   "execution_count": 124,
   "metadata": {},
   "outputs": [
    {
     "data": {
      "text/html": [
       "<div>\n",
       "<style scoped>\n",
       "    .dataframe tbody tr th:only-of-type {\n",
       "        vertical-align: middle;\n",
       "    }\n",
       "\n",
       "    .dataframe tbody tr th {\n",
       "        vertical-align: top;\n",
       "    }\n",
       "\n",
       "    .dataframe thead th {\n",
       "        text-align: right;\n",
       "    }\n",
       "</style>\n",
       "<table border=\"1\" class=\"dataframe\">\n",
       "  <thead>\n",
       "    <tr style=\"text-align: right;\">\n",
       "      <th></th>\n",
       "      <th></th>\n",
       "      <th>Karakter Yaş</th>\n",
       "    </tr>\n",
       "    <tr>\n",
       "      <th>Karakter Sınıfı</th>\n",
       "      <th>Karakter</th>\n",
       "      <th></th>\n",
       "    </tr>\n",
       "  </thead>\n",
       "  <tbody>\n",
       "    <tr>\n",
       "      <th rowspan=\"3\" valign=\"top\">Simpsons</th>\n",
       "      <th>Bart</th>\n",
       "      <td>10.0</td>\n",
       "    </tr>\n",
       "    <tr>\n",
       "      <th>Homer</th>\n",
       "      <td>50.0</td>\n",
       "    </tr>\n",
       "    <tr>\n",
       "      <th>Marge</th>\n",
       "      <td>50.0</td>\n",
       "    </tr>\n",
       "    <tr>\n",
       "      <th rowspan=\"3\" valign=\"top\">South Park</th>\n",
       "      <th>Cartman</th>\n",
       "      <td>10.0</td>\n",
       "    </tr>\n",
       "    <tr>\n",
       "      <th>Kenny</th>\n",
       "      <td>8.0</td>\n",
       "    </tr>\n",
       "    <tr>\n",
       "      <th>Kyle</th>\n",
       "      <td>9.0</td>\n",
       "    </tr>\n",
       "  </tbody>\n",
       "</table>\n",
       "</div>"
      ],
      "text/plain": [
       "                          Karakter Yaş\n",
       "Karakter Sınıfı Karakter              \n",
       "Simpsons        Bart              10.0\n",
       "                Homer             50.0\n",
       "                Marge             50.0\n",
       "South Park      Cartman           10.0\n",
       "                Kenny              8.0\n",
       "                Kyle               9.0"
      ]
     },
     "execution_count": 124,
     "metadata": {},
     "output_type": "execute_result"
    }
   ],
   "source": [
    "df6.pivot_table(values = \"Karakter Yaş\", index = [\"Karakter Sınıfı\", \"Karakter\"]) \n",
    "\n",
    "#pivot_table() fonksiyonu ile veriyi pivot tablo haline getirebiliriz, values parametresi ile hangi column üzerinden işlem yapacağımızı belirttik, index parametresi ile hangi columnların index olacağını belirttik\n",
    "\n",
    "#df6.pivot_table(values = \"Karakter Yaş\", index = [\"Karakter Sınıfı\", \"Karakter\"], aggfunc=np.sum) #aggfunc parametresi ile hangi işlemi yapacağımızı belirttik, default olarak np.mean, np.sum, np.min, np.max, np.std, np.var, np.count gibi fonksiyonları kullanabiliriz"
   ]
  },
  {
   "cell_type": "code",
   "execution_count": 125,
   "metadata": {},
   "outputs": [
    {
     "data": {
      "text/html": [
       "<div>\n",
       "<style scoped>\n",
       "    .dataframe tbody tr th:only-of-type {\n",
       "        vertical-align: middle;\n",
       "    }\n",
       "\n",
       "    .dataframe tbody tr th {\n",
       "        vertical-align: top;\n",
       "    }\n",
       "\n",
       "    .dataframe thead th {\n",
       "        text-align: right;\n",
       "    }\n",
       "</style>\n",
       "<table border=\"1\" class=\"dataframe\">\n",
       "  <thead>\n",
       "    <tr style=\"text-align: right;\">\n",
       "      <th></th>\n",
       "      <th>A</th>\n",
       "      <th>B</th>\n",
       "      <th>C</th>\n",
       "    </tr>\n",
       "  </thead>\n",
       "  <tbody>\n",
       "    <tr>\n",
       "      <th>0</th>\n",
       "      <td>foo</td>\n",
       "      <td>one</td>\n",
       "      <td>1</td>\n",
       "    </tr>\n",
       "    <tr>\n",
       "      <th>1</th>\n",
       "      <td>foo</td>\n",
       "      <td>one</td>\n",
       "      <td>3</td>\n",
       "    </tr>\n",
       "    <tr>\n",
       "      <th>2</th>\n",
       "      <td>foo</td>\n",
       "      <td>two</td>\n",
       "      <td>2</td>\n",
       "    </tr>\n",
       "    <tr>\n",
       "      <th>3</th>\n",
       "      <td>bar</td>\n",
       "      <td>two</td>\n",
       "      <td>5</td>\n",
       "    </tr>\n",
       "    <tr>\n",
       "      <th>4</th>\n",
       "      <td>bar</td>\n",
       "      <td>one</td>\n",
       "      <td>4</td>\n",
       "    </tr>\n",
       "    <tr>\n",
       "      <th>5</th>\n",
       "      <td>bar</td>\n",
       "      <td>one</td>\n",
       "      <td>1</td>\n",
       "    </tr>\n",
       "  </tbody>\n",
       "</table>\n",
       "</div>"
      ],
      "text/plain": [
       "     A    B  C\n",
       "0  foo  one  1\n",
       "1  foo  one  3\n",
       "2  foo  two  2\n",
       "3  bar  two  5\n",
       "4  bar  one  4\n",
       "5  bar  one  1"
      ]
     },
     "execution_count": 125,
     "metadata": {},
     "output_type": "execute_result"
    }
   ],
   "source": [
    "df5"
   ]
  },
  {
   "cell_type": "code",
   "execution_count": 126,
   "metadata": {},
   "outputs": [
    {
     "data": {
      "text/html": [
       "<div>\n",
       "<style scoped>\n",
       "    .dataframe tbody tr th:only-of-type {\n",
       "        vertical-align: middle;\n",
       "    }\n",
       "\n",
       "    .dataframe tbody tr th {\n",
       "        vertical-align: top;\n",
       "    }\n",
       "\n",
       "    .dataframe thead th {\n",
       "        text-align: right;\n",
       "    }\n",
       "</style>\n",
       "<table border=\"1\" class=\"dataframe\">\n",
       "  <thead>\n",
       "    <tr style=\"text-align: right;\">\n",
       "      <th></th>\n",
       "      <th></th>\n",
       "      <th>C</th>\n",
       "    </tr>\n",
       "    <tr>\n",
       "      <th>A</th>\n",
       "      <th>B</th>\n",
       "      <th></th>\n",
       "    </tr>\n",
       "  </thead>\n",
       "  <tbody>\n",
       "    <tr>\n",
       "      <th rowspan=\"2\" valign=\"top\">bar</th>\n",
       "      <th>one</th>\n",
       "      <td>2.5</td>\n",
       "    </tr>\n",
       "    <tr>\n",
       "      <th>two</th>\n",
       "      <td>5.0</td>\n",
       "    </tr>\n",
       "    <tr>\n",
       "      <th rowspan=\"2\" valign=\"top\">foo</th>\n",
       "      <th>one</th>\n",
       "      <td>2.0</td>\n",
       "    </tr>\n",
       "    <tr>\n",
       "      <th>two</th>\n",
       "      <td>2.0</td>\n",
       "    </tr>\n",
       "  </tbody>\n",
       "</table>\n",
       "</div>"
      ],
      "text/plain": [
       "           C\n",
       "A   B       \n",
       "bar one  2.5\n",
       "    two  5.0\n",
       "foo one  2.0\n",
       "    two  2.0"
      ]
     },
     "execution_count": 126,
     "metadata": {},
     "output_type": "execute_result"
    }
   ],
   "source": [
    "df5.pivot_table(values = \"C\", index = [\"A\", \"B\"]) \n",
    "\n",
    "#pivot_table() fonksiyonu ile veriyi pivot tablo haline getirebiliriz, values parametresi ile hangi column üzerinden işlem yapacağımızı belirttik, index parametresi ile hangi columnların index olacağını belirttik, columns parametresi ile hangi columnların column olacağını belirttik"
   ]
  },
  {
   "cell_type": "code",
   "execution_count": 127,
   "metadata": {},
   "outputs": [
    {
     "name": "stderr",
     "output_type": "stream",
     "text": [
      "/tmp/ipykernel_6461/171006774.py:3: FutureWarning: The provided callable <function sum at 0x75ca80196ac0> is currently using DataFrameGroupBy.sum. In a future version of pandas, the provided callable will be used directly. To keep current behavior pass the string \"sum\" instead.\n",
      "  df5.pivot_table(values = \"C\", index = [\"A\", \"B\"], aggfunc=np.sum)\n"
     ]
    },
    {
     "data": {
      "text/html": [
       "<div>\n",
       "<style scoped>\n",
       "    .dataframe tbody tr th:only-of-type {\n",
       "        vertical-align: middle;\n",
       "    }\n",
       "\n",
       "    .dataframe tbody tr th {\n",
       "        vertical-align: top;\n",
       "    }\n",
       "\n",
       "    .dataframe thead th {\n",
       "        text-align: right;\n",
       "    }\n",
       "</style>\n",
       "<table border=\"1\" class=\"dataframe\">\n",
       "  <thead>\n",
       "    <tr style=\"text-align: right;\">\n",
       "      <th></th>\n",
       "      <th></th>\n",
       "      <th>C</th>\n",
       "    </tr>\n",
       "    <tr>\n",
       "      <th>A</th>\n",
       "      <th>B</th>\n",
       "      <th></th>\n",
       "    </tr>\n",
       "  </thead>\n",
       "  <tbody>\n",
       "    <tr>\n",
       "      <th rowspan=\"2\" valign=\"top\">bar</th>\n",
       "      <th>one</th>\n",
       "      <td>5</td>\n",
       "    </tr>\n",
       "    <tr>\n",
       "      <th>two</th>\n",
       "      <td>5</td>\n",
       "    </tr>\n",
       "    <tr>\n",
       "      <th rowspan=\"2\" valign=\"top\">foo</th>\n",
       "      <th>one</th>\n",
       "      <td>4</td>\n",
       "    </tr>\n",
       "    <tr>\n",
       "      <th>two</th>\n",
       "      <td>2</td>\n",
       "    </tr>\n",
       "  </tbody>\n",
       "</table>\n",
       "</div>"
      ],
      "text/plain": [
       "         C\n",
       "A   B     \n",
       "bar one  5\n",
       "    two  5\n",
       "foo one  4\n",
       "    two  2"
      ]
     },
     "execution_count": 127,
     "metadata": {},
     "output_type": "execute_result"
    }
   ],
   "source": [
    "#aggfunc parametresi ile hangi işlemi yapacağımızı belirtebiliriz, default olarak np.mean, np.sum, np.min, np.max, np.std, np.var, np.count gibi fonksiyonları kullanabiliriz\n",
    "\n",
    "df5.pivot_table(values = \"C\", index = [\"A\", \"B\"], aggfunc=np.sum)"
   ]
  },
  {
   "cell_type": "code",
   "execution_count": null,
   "metadata": {},
   "outputs": [],
   "source": []
  }
 ],
 "metadata": {
  "kernelspec": {
   "display_name": "base",
   "language": "python",
   "name": "python3"
  },
  "language_info": {
   "codemirror_mode": {
    "name": "ipython",
    "version": 3
   },
   "file_extension": ".py",
   "mimetype": "text/x-python",
   "name": "python",
   "nbconvert_exporter": "python",
   "pygments_lexer": "ipython3",
   "version": "3.12.9"
  }
 },
 "nbformat": 4,
 "nbformat_minor": 2
}
