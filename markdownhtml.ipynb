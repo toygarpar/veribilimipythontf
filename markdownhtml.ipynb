{
 "cells": [
  {
   "cell_type": "markdown",
   "id": "9dc21c9e-dc3d-481f-92d9-30ed264be246",
   "metadata": {},
   "source": [
    "<div style=\"padding:20px; \n",
    "            color:#36FF00;\n",
    "            margin:10px;\n",
    "            font-size:110%;\n",
    "            display:fill;\n",
    "            border-radius:10px;\n",
    "            border-style: solid;\n",
    "            border-color: #36FF00;\n",
    "            background-color:#000000;\n",
    "            overflow:hidden;\n",
    "            font-weDeneme Deneme Denemethe Matrix!</div>"
   ]
  },
  {
   "cell_type": "markdown",
   "id": "3caad5ba",
   "metadata": {},
   "source": []
  },
  {
   "cell_type": "markdown",
   "id": "040a4f80-d51a-431d-bdba-6881fca2c6ee",
   "metadata": {},
   "source": [
    "<div style=\"padding:20px; \n",
    "            color:#36FF00;\n",
    "            margin:10px;\n",
    "            font-size:110%;\n",
    "            display:fill;\n",
    "            border-radius:10px;\n",
    "            border-style: solid;\n",
    "            border-color: #36FF00;\n",
    "            background-color:#000000;\n",
    "            \n",
    "            font-weight:500\">Deneme Deneme Deneme!\n",
    "            </div>"
   ]
  },
  {
   "cell_type": "markdown",
   "id": "1a8ebd65",
   "metadata": {},
   "source": [
    "<div style=\"padding:20px; \n",
    "            height: 30px;\n",
    "            width: 500px;\n",
    "            color:#36FF00;\n",
    "            margin:10px;\n",
    "            font-size:110%;\n",
    "            display:fill;\n",
    "            border-radius:10px;\n",
    "            border-style: solid;\n",
    "            border-color: #36FF00;\n",
    "            background-color:#000000;\n",
    "            overflow:hidden;\n",
    "            font-weight:500\">DATABASES\n",
    "            </div>"
   ]
  },
  {
   "cell_type": "markdown",
   "id": "84443d00-73eb-4e2b-b248-c8c83a4dc652",
   "metadata": {},
   "source": [
    "<p><img style=\"float:right; margin:20px; padding:20px; max-height:250px\" src=\"https://loremipsum.io/assets/images/lorem-ipsum-generator-cicero-engraving.png\"></p>\n",
    "<p style=\"text-align:justify;\">\n",
    "You can increase the notebook's aesthetics by placing images on the side of the cell: <br>\n",
    "    \n",
    "\"Sed ut perspiciatis unde omnis iste natus error sit voluptatem accusantium doloremque laudantium, totam rem aperiam, eaque ipsa quae ab illo inventore veritatis et quasi architecto beatae vitae dicta sunt explicabo. Nemo enim ipsam voluptatem quia voluptas sit aspernatur aut odit aut fugit, sed quia consequuntur magni dolores eos qui ratione voluptatem sequi nesciunt. Neque porro quisquam est, qui dolorem ipsum quia dolor sit amet, consectetur, adipisci velit, sed quia non numquam eius modi tempora incidunt ut labore et dolore magnam aliquam quaerat voluptatem. Ut enim ad minima veniam, quis nostrum exercitationem ullam corporis suscipit laboriosam, nisi ut aliquid ex ea commodi consequatur? Quis autem vel eum iure reprehenderit qui in ea voluptate velit esse quam nihil molestiae consequatur, vel illum qui dolorem eum fugiat quo voluptas nulla pariatur?\"\n",
    "</p>"
   ]
  },
  {
   "cell_type": "markdown",
   "id": "bca25086-cb35-472c-b5a9-9f1af600ac88",
   "metadata": {},
   "source": [
    "```python\n",
    "def my_function(x):\n",
    "    square = x*x\n",
    "    print(f\"x squared is: {square}\")\n",
    "    return square\n",
    "```"
   ]
  },
  {
   "cell_type": "markdown",
   "id": "62a47f86-dab9-4828-923b-efb3376fff8c",
   "metadata": {},
   "source": [
    "# 16. Use emojis <a class='anchor' id='emojis'></a> [↑](#top)\n",
    "\n",
    "Emojis are fun to use. Some Kagglers use them to decorate different sections of the notebook, like:\n",
    "- Importing libraries 📚\n",
    "- Load data 💾 \n",
    "- Setting configurations ⚙️\n",
    "- Pre-processing ⚒️\n",
    "- Data visualization 📊\n",
    "- Training a model 🚂\n",
    "- And more!"
   ]
  },
  {
   "cell_type": "markdown",
   "id": "bec9c715-5f94-4a9a-b2fe-bf4e0527e2e4",
   "metadata": {},
   "source": [
    "<div class=\"alert alert-block alert-info\">\n",
    "<b>Example:</b> Blue boxes are used to display information.\n",
    "</div>"
   ]
  },
  {
   "cell_type": "markdown",
   "id": "83f4d4a5-3a96-4d41-9c82-837dc77fa809",
   "metadata": {},
   "source": [
    "<div class=\"alert alert-block alert-warning\">  \n",
    "<b>Example:</b> Yellow alert boxes are usually used for warnings  \n",
    "</div>"
   ]
  },
  {
   "cell_type": "markdown",
   "id": "c9e100e4-fa90-41ca-a0f9-1b5d69f97a5e",
   "metadata": {},
   "source": [
    "<div class=\"alert alert-block alert-success\">  \n",
    "<b>Example:</b> Green boxes are used to display successful executions.   \n",
    "</div>"
   ]
  },
  {
   "cell_type": "markdown",
   "id": "b360cf5d-41fe-4143-8c22-204eeefc730d",
   "metadata": {},
   "source": [
    "\n",
    "<div class=\"alert alert-block alert-danger\">  \n",
    "<b>Example:</b> Red boxes usually to alert users or display errors.  \n",
    "</div>"
   ]
  },
  {
   "cell_type": "markdown",
   "id": "e64b10f5-e57c-48cc-bd2c-bb329382cbd2",
   "metadata": {},
   "source": [
    "\n",
    "<code style=\"background:red;color:white\">\n",
    "Kategori Plot\n",
    "</code>"
   ]
  },
  {
   "cell_type": "markdown",
   "id": "4bf88962-9dcf-4826-8ee8-45cecf10125c",
   "metadata": {},
   "source": [
    "<code style=\"background:yellow;color:red\">birden fazla değişken ile veri setinde bulunan değişkenlik</code>"
   ]
  },
  {
   "cell_type": "markdown",
   "id": "07cf7f38-875d-4ec7-b883-eb8ae796a854",
   "metadata": {},
   "source": [
    "<center>\n",
    "<img src=\"https://user-images.githubusercontent.com/145605/79639176-9ca33d80-81bc-11ea-8cde-f7ff68ee2042.png\" width=600>\n",
    "</center>\n",
    "```"
   ]
  },
  {
   "cell_type": "markdown",
   "id": "4618bbc8-38d9-42b1-8a3f-d8d328f8f73b",
   "metadata": {},
   "source": [
    "$$RMSE = \\sqrt{\\frac{\\sum_{i=1}^{N}(x_{i} - \\hat x_{i})^{2}}{N}}$$"
   ]
  },
  {
   "cell_type": "code",
   "execution_count": 11,
   "id": "cfee0df9-8c2e-4455-9bac-fce9320c474d",
   "metadata": {},
   "outputs": [
    {
     "data": {
      "image/jpeg": "[encoded data removed]",
      "text/html": [
       "\n",
       "        <iframe\n",
       "            width=\"800\"\n",
       "            height=\"300\"\n",
       "            src=\"https://www.youtube.com/embed/jNQXAC9IVRw\"\n",
       "            frameborder=\"0\"\n",
       "            allowfullscreen\n",
       "            \n",
       "        ></iframe>\n",
       "        "
      ],
      "text/plain": [
       "<IPython.lib.display.YouTubeVideo at 0x2173cfc8d50>"
      ]
     },
     "execution_count": 11,
     "metadata": {},
     "output_type": "execute_result"
    }
   ],
   "source": [
    "from IPython.display import YouTubeVideo\n",
    "\n",
    "YouTubeVideo('jNQXAC9IVRw', width=800, height=300)"
   ]
  },
  {
   "cell_type": "markdown",
   "id": "30c1a997-fa88-44be-b58c-20962d6184ab",
   "metadata": {},
   "source": [
    "# This is a Level 1 heading\n",
    "This is a Level 1 heading\n",
    "## This is a Level 2 heading\n",
    "This is a Level 2 heading\n",
    "### This is a Level 3 heading\n",
    "This is a Level 3 heading\n",
    "#### This is a Level 4 heading\n",
    "This is a Level 4 heading\n",
    "##### This is a Level 5 heading\n",
    "This is a Level 5 heading"
   ]
  },
  {
   "cell_type": "markdown",
   "id": "785efda3",
   "metadata": {},
   "source": [
    "_Italic_\n",
    "\n",
    "Italic\n",
    "\n",
    "**Bold**\n",
    "\n",
    "Bold\n",
    "\n",
    "***both italic and bold***\n",
    "\n",
    "Italic and bold\n",
    "\n",
    "~~ strikethrough ~~\n",
    "\n",
    "Strikethrough"
   ]
  },
  {
   "cell_type": "markdown",
   "id": "d0b318a4",
   "metadata": {},
   "source": [
    "\n",
    "To add a horizontal line within a document, like <hr /> in HTML, use three hyphens : \n",
    "\n",
    "---"
   ]
  },
  {
   "cell_type": "markdown",
   "id": "a3cbac81",
   "metadata": {},
   "source": [
    "To represent a key on the keyboard, we use HTML kbd tags directly:\n",
    "\n",
    "<kbd> Ctrl </kbd> <kbd> A </kbd>\n",
    "Ctrl+A\n",
    "\n",
    "<kbd> Ctrl+Shift+F3 </kbd>\n",
    "Ctrl+Shift+F3"
   ]
  },
  {
   "cell_type": "markdown",
   "id": "e8a319ec",
   "metadata": {},
   "source": [
    "new line \n",
    "\n",
    "break a line like you would with <br/> ```<br/>```in HTML"
   ]
  },
  {
   "cell_type": "markdown",
   "id": "bba874da",
   "metadata": {},
   "source": [
    "write an unordered list :\n",
    "\n",
    "* first list item\n",
    "* second list item\n",
    "    * first item of sublist\n",
    "    * second item of sublist\n",
    "* third list item"
   ]
  },
  {
   "cell_type": "markdown",
   "id": "995a5cf3",
   "metadata": {},
   "source": [
    "write an ordered list:\n",
    "\n",
    "1. first list item\n",
    "2. second list item\n",
    "    * first item of sublist\n",
    "    * second item of sublist\n",
    "3. third list item"
   ]
  },
  {
   "cell_type": "markdown",
   "id": "d003404d",
   "metadata": {},
   "source": [
    "use HTML <dl> tags directly to make a definition list\n",
    "\n",
    "\n",
    "<dl>\n",
    "<dt> Python </dt>\n",
    "<dd> It is a popular programming language, widely used in\n",
    "AI, ML and Data Science. </dd>\n",
    "<dt> ML </dt>\n",
    "<dd> Short for Machine Learning.\n",
    "</dd>\n",
    "</dl>"
   ]
  },
  {
   "cell_type": "markdown",
   "id": "3be31ef9",
   "metadata": {},
   "source": [
    "LINKS\n",
    "\n",
    "\n",
    "[Toygar Py Home]​(https://​toygarpy.wordpress.com)\n",
    "\n",
    "if you don’t want a URL to be automatically linked, you can enclose it with a pair of backticks:\n",
    "\n",
    "`https://toygarpy.wordpress.com`"
   ]
  },
  {
   "cell_type": "markdown",
   "id": "a5b6a403",
   "metadata": {},
   "source": [
    "internal anchors\n",
    "\n",
    "[LINKS] (#LINKS)"
   ]
  },
  {
   "cell_type": "markdown",
   "id": "1a6eb71f",
   "metadata": {},
   "source": [
    "IMAGES\n",
    "\n",
    "![Divider](images/div23.png)"
   ]
  },
  {
   "cell_type": "markdown",
   "id": "3dbf9a2e",
   "metadata": {},
   "source": [
    "BLOCKQUOTES\n",
    "To include a blockquote in your documentation, use an angle bracket:\n",
    "\n",
    "> Python\n",
    ">\n",
    "> Lınux\n",
    ">\n",
    "> Data Science\n",
    ">\n",
    "> Data Analysis\n",
    ">\n",
    "> Data Visualization"
   ]
  },
  {
   "cell_type": "markdown",
   "id": "4a24ff98",
   "metadata": {},
   "source": [
    "CODE BLOCK\n",
    "\n",
    "use a pair of triple backticks ``` :\n",
    "```\n",
    "#extract telephone\n",
    "\n",
    "[x for x  in  re.finditer(r\"\\+\\d{2}-\\d{3}-\\d{3}-\\d{4}\", text)]\n",
    "```"
   ]
  },
  {
   "cell_type": "markdown",
   "id": "b55b0d18",
   "metadata": {},
   "source": [
    "MATHEMATICAL FORMULAS AND EXPRESSIONS\n",
    "\n",
    "\n",
    "1.\n",
    " $\\hat{Y} = \\hat{\\beta}_{0} + \\sum \\limits _{j=1} ^{p}\n",
    "X_{j}\\hat{\\beta}_{j} $\n",
    "\n",
    "2.\n",
    " $\\frac{n!}{k!(n-­k)!}$\n",
    "\n",
    "3.\n",
    " $\\binom{n}{k}$\n",
    "\n",
    "4.\n",
    " $\\frac{\\frac{x}{1}}{x -­y}$\n",
    "\n",
    "5.\n",
    " $\\sqrt{k}$\n",
    "\n",
    "6.\n",
    " $\\sqrt[n]{k}$\n",
    "\n",
    "7.\n",
    " $\\sum_{i = 1}^{10} t_i$\n",
    "\n",
    "8.\n",
    " $\\int_0^\\infty \\mathrm{e}^{-­x},\\mathrm{d}x$\n",
    "\n",
    "9.\n",
    " $f(x) = x^2 + 2, if\\ x = 2$\n",
    "\n",
    "10. $\\oint_C x^3\\, dx + 4y^2\\, dy$\n",
    "\n",
    "11. $2 = \\left(\\frac{\\left(3 -­x\\right) \\times 2}{3 -­x}\\right)$\n",
    "\n",
    "12. $\\sum_{m = 1}^\\infty\\sum_{n = 1}^\\infty\\frac{m^2\\, n}\n",
    "{3^m\\left(m\\, 3^n + n\\, 3^m\\right)}$\n",
    "\n",
    "\n",
    "13. $\\phi_n(\\kappa) =\n",
    "\\frac{1}{4\\pi^2\\kappa^2} \\int_0^\\infty\n",
    "\\frac{\\sin(\\kappa R)}{\\kappa R}\n",
    "\\frac{\\partial}{\\partial R}\n",
    "\\left[R^2\\frac{\\partial D_n(R)}{\\partial R}\\right]\\,dR$"
   ]
  },
  {
   "cell_type": "markdown",
   "id": "3725924b",
   "metadata": {},
   "source": []
  },
  {
   "cell_type": "markdown",
   "id": "6ac038eb",
   "metadata": {},
   "source": []
  }
 ],
 "metadata": {
  "kernelspec": {
   "display_name": "Python 3 (ipykernel)",
   "language": "python",
   "name": "python3"
  },
  "language_info": {
   "codemirror_mode": {
    "name": "ipython",
    "version": 3
   },
   "file_extension": ".py",
   "mimetype": "text/x-python",
   "name": "python",
   "nbconvert_exporter": "python",
   "pygments_lexer": "ipython3",
   "version": "3.12.7"
  }
 },
 "nbformat": 4,
 "nbformat_minor": 5
}
